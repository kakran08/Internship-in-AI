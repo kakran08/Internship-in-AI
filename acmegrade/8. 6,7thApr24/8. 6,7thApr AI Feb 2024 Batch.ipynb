{
 "cells": [
  {
   "cell_type": "markdown",
   "id": "30bd4263",
   "metadata": {},
   "source": [
    "# Image Recognition using CNN on CIFAR-10 Dataset"
   ]
  },
  {
   "cell_type": "markdown",
   "id": "0597bd3c",
   "metadata": {},
   "source": [
    "In this project we will be using CIFAR-10 dataset. This dataset includes thousands of pictures of 10 different kinds of objects like airplanes, automobiles, birds and so on.\n",
    "\n",
    "Each image in the dataset includes a matching label so we know what kind of image it is.\n",
    "\n",
    "The images in the CIFAR-10 dataset are only 32x32 pixels."
   ]
  },
  {
   "cell_type": "code",
   "execution_count": 1,
   "id": "f24ce56f",
   "metadata": {},
   "outputs": [
    {
     "name": "stderr",
     "output_type": "stream",
     "text": [
      "C:\\ProgramData\\Anaconda3\\lib\\site-packages\\scipy\\__init__.py:146: UserWarning: A NumPy version >=1.16.5 and <1.23.0 is required for this version of SciPy (detected version 1.26.4\n",
      "  warnings.warn(f\"A NumPy version >={np_minversion} and <{np_maxversion}\"\n"
     ]
    },
    {
     "name": "stdout",
     "output_type": "stream",
     "text": [
      "WARNING:tensorflow:From C:\\Users\\Mohit Tripathi\\AppData\\Roaming\\Python\\Python39\\site-packages\\keras\\src\\losses.py:2976: The name tf.losses.sparse_softmax_cross_entropy is deprecated. Please use tf.compat.v1.losses.sparse_softmax_cross_entropy instead.\n",
      "\n"
     ]
    }
   ],
   "source": [
    "import keras\n",
    "from keras.datasets import cifar10\n",
    "from keras.models import Sequential\n",
    "from keras.layers import Dense, Dropout, Flatten, Conv2D, MaxPooling2D\n",
    "from pathlib import Path\n",
    "from tensorflow.keras.utils import to_categorical"
   ]
  },
  {
   "cell_type": "markdown",
   "id": "74cb069e",
   "metadata": {},
   "source": [
    "# Load the dataset"
   ]
  },
  {
   "cell_type": "code",
   "execution_count": 2,
   "id": "156f7253",
   "metadata": {},
   "outputs": [],
   "source": [
    "(X_train,y_train),(X_test, y_test)=cifar10.load_data()"
   ]
  },
  {
   "cell_type": "markdown",
   "id": "af706aed",
   "metadata": {},
   "source": [
    "Normalize the data"
   ]
  },
  {
   "cell_type": "code",
   "execution_count": 3,
   "id": "cbdfdcea",
   "metadata": {},
   "outputs": [],
   "source": [
    "X_train=X_train.astype('float32')\n",
    "X_test=X_test.astype('float32')\n",
    "X_train/=255.0\n",
    "X_test/=255.0"
   ]
  },
  {
   "cell_type": "markdown",
   "id": "19e480f4",
   "metadata": {},
   "source": [
    "Convert class vectors to binary class matrices"
   ]
  },
  {
   "cell_type": "code",
   "execution_count": 4,
   "id": "201983eb",
   "metadata": {},
   "outputs": [],
   "source": [
    "y_train=to_categorical(y_train,10)\n",
    "y_test=to_categorical(y_test,10)"
   ]
  },
  {
   "cell_type": "code",
   "execution_count": 5,
   "id": "2ff1d20a",
   "metadata": {},
   "outputs": [
    {
     "name": "stdout",
     "output_type": "stream",
     "text": [
      "WARNING:tensorflow:From C:\\Users\\Mohit Tripathi\\AppData\\Roaming\\Python\\Python39\\site-packages\\keras\\src\\backend.py:873: The name tf.get_default_graph is deprecated. Please use tf.compat.v1.get_default_graph instead.\n",
      "\n",
      "WARNING:tensorflow:From C:\\Users\\Mohit Tripathi\\AppData\\Roaming\\Python\\Python39\\site-packages\\keras\\src\\layers\\pooling\\max_pooling2d.py:161: The name tf.nn.max_pool is deprecated. Please use tf.nn.max_pool2d instead.\n",
      "\n"
     ]
    }
   ],
   "source": [
    "model=Sequential()\n",
    "model.add(Conv2D(32,(3,3),padding='same',input_shape=(32,32,3),activation='relu'))\n",
    "model.add(Conv2D(32,(3,3),activation='relu'))\n",
    "model.add(MaxPooling2D(pool_size=(2,2)))\n",
    "model.add(Dropout(0.25))\n",
    "\n",
    "model.add(Conv2D(64,(3,3),padding='same',activation='relu'))\n",
    "model.add(Conv2D(32,(3,3),activation='relu'))\n",
    "model.add(MaxPooling2D(pool_size=(2,2)))\n",
    "model.add(Dropout(0.25))\n",
    "\n",
    "model.add(Flatten())\n",
    "model.add(Dense(512, activation='relu'))\n",
    "model.add(Dropout(0.5))\n",
    "model.add(Dense(10,activation='softmax'))"
   ]
  },
  {
   "cell_type": "markdown",
   "id": "e13f1595",
   "metadata": {},
   "source": [
    "Compile the model"
   ]
  },
  {
   "cell_type": "code",
   "execution_count": 6,
   "id": "28a81a91",
   "metadata": {},
   "outputs": [
    {
     "name": "stdout",
     "output_type": "stream",
     "text": [
      "WARNING:tensorflow:From C:\\Users\\Mohit Tripathi\\AppData\\Roaming\\Python\\Python39\\site-packages\\keras\\src\\optimizers\\__init__.py:309: The name tf.train.Optimizer is deprecated. Please use tf.compat.v1.train.Optimizer instead.\n",
      "\n",
      "Model: \"sequential\"\n",
      "_________________________________________________________________\n",
      " Layer (type)                Output Shape              Param #   \n",
      "=================================================================\n",
      " conv2d (Conv2D)             (None, 32, 32, 32)        896       \n",
      "                                                                 \n",
      " conv2d_1 (Conv2D)           (None, 30, 30, 32)        9248      \n",
      "                                                                 \n",
      " max_pooling2d (MaxPooling2  (None, 15, 15, 32)        0         \n",
      " D)                                                              \n",
      "                                                                 \n",
      " dropout (Dropout)           (None, 15, 15, 32)        0         \n",
      "                                                                 \n",
      " conv2d_2 (Conv2D)           (None, 15, 15, 64)        18496     \n",
      "                                                                 \n",
      " conv2d_3 (Conv2D)           (None, 13, 13, 32)        18464     \n",
      "                                                                 \n",
      " max_pooling2d_1 (MaxPoolin  (None, 6, 6, 32)          0         \n",
      " g2D)                                                            \n",
      "                                                                 \n",
      " dropout_1 (Dropout)         (None, 6, 6, 32)          0         \n",
      "                                                                 \n",
      " flatten (Flatten)           (None, 1152)              0         \n",
      "                                                                 \n",
      " dense (Dense)               (None, 512)               590336    \n",
      "                                                                 \n",
      " dropout_2 (Dropout)         (None, 512)               0         \n",
      "                                                                 \n",
      " dense_1 (Dense)             (None, 10)                5130      \n",
      "                                                                 \n",
      "=================================================================\n",
      "Total params: 642570 (2.45 MB)\n",
      "Trainable params: 642570 (2.45 MB)\n",
      "Non-trainable params: 0 (0.00 Byte)\n",
      "_________________________________________________________________\n"
     ]
    }
   ],
   "source": [
    "model.compile(\n",
    "    loss='categorical_crossentropy',\n",
    "    optimizer='adam',\n",
    "    metrics=['accuracy'])\n",
    "\n",
    "model.summary()"
   ]
  },
  {
   "cell_type": "code",
   "execution_count": 7,
   "id": "0b42b602",
   "metadata": {},
   "outputs": [
    {
     "name": "stdout",
     "output_type": "stream",
     "text": [
      "Epoch 1/12\n",
      "WARNING:tensorflow:From C:\\Users\\Mohit Tripathi\\AppData\\Roaming\\Python\\Python39\\site-packages\\keras\\src\\utils\\tf_utils.py:492: The name tf.ragged.RaggedTensorValue is deprecated. Please use tf.compat.v1.ragged.RaggedTensorValue instead.\n",
      "\n",
      "WARNING:tensorflow:From C:\\Users\\Mohit Tripathi\\AppData\\Roaming\\Python\\Python39\\site-packages\\keras\\src\\engine\\base_layer_utils.py:384: The name tf.executing_eagerly_outside_functions is deprecated. Please use tf.compat.v1.executing_eagerly_outside_functions instead.\n",
      "\n",
      "1563/1563 [==============================] - 113s 70ms/step - loss: 1.5263 - accuracy: 0.4438 - val_loss: 1.1516 - val_accuracy: 0.5893\n",
      "Epoch 2/12\n",
      "1563/1563 [==============================] - 93s 59ms/step - loss: 1.1363 - accuracy: 0.5954 - val_loss: 0.9808 - val_accuracy: 0.6573\n",
      "Epoch 3/12\n",
      "1563/1563 [==============================] - 79s 51ms/step - loss: 0.9927 - accuracy: 0.6508 - val_loss: 0.9297 - val_accuracy: 0.6723\n",
      "Epoch 4/12\n",
      "1563/1563 [==============================] - 89s 57ms/step - loss: 0.9105 - accuracy: 0.6826 - val_loss: 0.8158 - val_accuracy: 0.7172\n",
      "Epoch 5/12\n",
      "1563/1563 [==============================] - 91s 58ms/step - loss: 0.8433 - accuracy: 0.7049 - val_loss: 0.7583 - val_accuracy: 0.7342\n",
      "Epoch 6/12\n",
      "1563/1563 [==============================] - 111s 71ms/step - loss: 0.8013 - accuracy: 0.7206 - val_loss: 0.7288 - val_accuracy: 0.7478\n",
      "Epoch 7/12\n",
      "1563/1563 [==============================] - 110s 70ms/step - loss: 0.7683 - accuracy: 0.7299 - val_loss: 0.7427 - val_accuracy: 0.7434\n",
      "Epoch 8/12\n",
      "1563/1563 [==============================] - 109s 70ms/step - loss: 0.7400 - accuracy: 0.7405 - val_loss: 0.7202 - val_accuracy: 0.7520\n",
      "Epoch 9/12\n",
      "1563/1563 [==============================] - 106s 68ms/step - loss: 0.7123 - accuracy: 0.7504 - val_loss: 0.7168 - val_accuracy: 0.7533\n",
      "Epoch 10/12\n",
      "1563/1563 [==============================] - 108s 69ms/step - loss: 0.6999 - accuracy: 0.7566 - val_loss: 0.6927 - val_accuracy: 0.7607\n",
      "Epoch 11/12\n",
      "1563/1563 [==============================] - 114s 73ms/step - loss: 0.6858 - accuracy: 0.7591 - val_loss: 0.6609 - val_accuracy: 0.7729\n",
      "Epoch 12/12\n",
      "1563/1563 [==============================] - 107s 68ms/step - loss: 0.6614 - accuracy: 0.7679 - val_loss: 0.6812 - val_accuracy: 0.7654\n"
     ]
    },
    {
     "data": {
      "text/plain": [
       "<keras.src.callbacks.History at 0x224d55789a0>"
      ]
     },
     "execution_count": 7,
     "metadata": {},
     "output_type": "execute_result"
    }
   ],
   "source": [
    "model.fit(\n",
    "    X_train,\n",
    "    y_train,\n",
    "    batch_size=32,\n",
    "    epochs=12,\n",
    "    validation_data=(X_test, y_test),\n",
    "    shuffle=True)"
   ]
  },
  {
   "cell_type": "markdown",
   "id": "720f0f36",
   "metadata": {},
   "source": [
    "Save the neural network architecture"
   ]
  },
  {
   "cell_type": "code",
   "execution_count": 8,
   "id": "cfb9cfe3",
   "metadata": {},
   "outputs": [
    {
     "data": {
      "text/plain": [
       "6342"
      ]
     },
     "execution_count": 8,
     "metadata": {},
     "output_type": "execute_result"
    }
   ],
   "source": [
    "model_structure=model.to_json()\n",
    "f=Path(\"model_structure.json\")\n",
    "f.write_text(model_structure)"
   ]
  },
  {
   "cell_type": "markdown",
   "id": "42ed7c1b",
   "metadata": {},
   "source": [
    "Save the trained neural network weights"
   ]
  },
  {
   "cell_type": "code",
   "execution_count": 9,
   "id": "34cd2a0b",
   "metadata": {},
   "outputs": [],
   "source": [
    "model.save_weights(\"model_weight.h5\")"
   ]
  },
  {
   "cell_type": "markdown",
   "id": "9b568731",
   "metadata": {},
   "source": [
    "Making Predictions on the images"
   ]
  },
  {
   "cell_type": "code",
   "execution_count": 10,
   "id": "76d19ae4",
   "metadata": {},
   "outputs": [],
   "source": [
    "from keras.models import model_from_json\n",
    "from pathlib import Path\n",
    "from keras.preprocessing import image\n",
    "import numpy as np"
   ]
  },
  {
   "cell_type": "code",
   "execution_count": 11,
   "id": "62617240",
   "metadata": {},
   "outputs": [],
   "source": [
    "class_labels=[\n",
    "    \"Planes\",\n",
    "    \"car\",\n",
    "    \"Bird\",\n",
    "    \"Cat\",\n",
    "    \"Deer\",\n",
    "    \"Dog\",\n",
    "    \"Frog\",\n",
    "    \"Horse\",\n",
    "    \"Boat\",\n",
    "    \"Truck\"\n",
    "]"
   ]
  },
  {
   "cell_type": "markdown",
   "id": "42b15ffe",
   "metadata": {},
   "source": [
    "load the json file that contains the mdoel structure"
   ]
  },
  {
   "cell_type": "code",
   "execution_count": 12,
   "id": "87fe056c",
   "metadata": {},
   "outputs": [],
   "source": [
    "f=Path(\"model_structure.json\")\n",
    "model_structure=f.read_text()"
   ]
  },
  {
   "cell_type": "markdown",
   "id": "cf5a9eee",
   "metadata": {},
   "source": [
    "Recreate the keras modeel bject from the json data"
   ]
  },
  {
   "cell_type": "code",
   "execution_count": 13,
   "id": "c35249f0",
   "metadata": {},
   "outputs": [],
   "source": [
    "model=model_from_json(model_structure)"
   ]
  },
  {
   "cell_type": "markdown",
   "id": "9ff843e6",
   "metadata": {},
   "source": [
    "reload the model training weights"
   ]
  },
  {
   "cell_type": "code",
   "execution_count": 14,
   "id": "74bbbd9d",
   "metadata": {},
   "outputs": [],
   "source": [
    "model.load_weights(\"model_weight.h5\")"
   ]
  },
  {
   "cell_type": "markdown",
   "id": "e9dac264",
   "metadata": {},
   "source": [
    "Load an image file to test"
   ]
  },
  {
   "cell_type": "code",
   "execution_count": 15,
   "id": "ca1a66e4",
   "metadata": {},
   "outputs": [
    {
     "data": {
      "text/plain": [
       "<matplotlib.image.AxesImage at 0x224ff3606d0>"
      ]
     },
     "execution_count": 15,
     "metadata": {},
     "output_type": "execute_result"
    },
    {
     "data": {
      "image/png": "[encoded data removed]",
      "text/plain": [
       "<Figure size 432x288 with 1 Axes>"
      ]
     },
     "metadata": {
      "needs_background": "light"
     },
     "output_type": "display_data"
    }
   ],
   "source": [
    "import matplotlib.pyplot as plt\n",
    "from tensorflow.keras.utils import load_img, img_to_array\n",
    "img=load_img(\"dog.png\",target_size=(32,32))\n",
    "plt.imshow(img)"
   ]
  },
  {
   "cell_type": "markdown",
   "id": "b8528993",
   "metadata": {},
   "source": [
    "Convert the image to a numpy array"
   ]
  },
  {
   "cell_type": "code",
   "execution_count": 16,
   "id": "2741db33",
   "metadata": {},
   "outputs": [],
   "source": [
    "from tensorflow.keras.utils import img_to_array\n",
    "image_to_test=img_to_array(img)"
   ]
  },
  {
   "cell_type": "code",
   "execution_count": 17,
   "id": "fea90a08",
   "metadata": {},
   "outputs": [],
   "source": [
    "list_of_images=np.expand_dims(image_to_test,axis=0)"
   ]
  },
  {
   "cell_type": "markdown",
   "id": "db24ed27",
   "metadata": {},
   "source": [
    "make predictions using the model"
   ]
  },
  {
   "cell_type": "code",
   "execution_count": 19,
   "id": "fd2bf328",
   "metadata": {},
   "outputs": [
    {
     "name": "stdout",
     "output_type": "stream",
     "text": [
      "1/1 [==============================] - 0s 286ms/step\n"
     ]
    }
   ],
   "source": [
    "results=model.predict(list_of_images)"
   ]
  },
  {
   "cell_type": "markdown",
   "id": "67708a4d",
   "metadata": {},
   "source": [
    "since we are only testing one image, we only need to check the first result"
   ]
  },
  {
   "cell_type": "code",
   "execution_count": 20,
   "id": "27844d8f",
   "metadata": {},
   "outputs": [],
   "source": [
    "single_result=results[0]"
   ]
  },
  {
   "cell_type": "markdown",
   "id": "106a4bd7",
   "metadata": {},
   "source": [
    "We will get a likeliood score for all 10 possible classes. Find out which class has the highest score"
   ]
  },
  {
   "cell_type": "code",
   "execution_count": 21,
   "id": "bb93f5de",
   "metadata": {},
   "outputs": [],
   "source": [
    "most_likely_class_index=int(np.argmax(single_result))\n",
    "class_likelihood=single_result[most_likely_class_index]"
   ]
  },
  {
   "cell_type": "markdown",
   "id": "55c78f38",
   "metadata": {},
   "source": [
    "Get the name of the most likely class"
   ]
  },
  {
   "cell_type": "code",
   "execution_count": 22,
   "id": "53992b73",
   "metadata": {},
   "outputs": [],
   "source": [
    "class_label=class_labels[most_likely_class_index]"
   ]
  },
  {
   "cell_type": "markdown",
   "id": "16b763bc",
   "metadata": {},
   "source": [
    "Print the result"
   ]
  },
  {
   "cell_type": "code",
   "execution_count": 23,
   "id": "5b0f75bc",
   "metadata": {},
   "outputs": [
    {
     "name": "stdout",
     "output_type": "stream",
     "text": [
      "This is a image is a Dog likelihood: 1.000000\n"
     ]
    }
   ],
   "source": [
    "print(\"This is a image is a {} likelihood: {:2f}\".format(class_label, class_likelihood))"
   ]
  },
  {
   "cell_type": "markdown",
   "id": "bf6f2e24",
   "metadata": {},
   "source": [
    "# Sentiment Classification using NLP and Classification Algorithm"
   ]
  },
  {
   "cell_type": "markdown",
   "id": "238a60bc",
   "metadata": {},
   "source": [
    "Sentiment Analysis is a means to identofy the view or emotion behind a situation.\n",
    "\n",
    "It basically means to analyse and find the emotion or intent behind a piece of text or speech or any model of communication.\n",
    "\n",
    "This burger has a very bad taste- negative review\n",
    "\n",
    "I ordered this pizza today- nutral sentiment/review\n",
    "\n",
    "I love this cheese sandwich, its so delicious- positive review"
   ]
  },
  {
   "cell_type": "code",
   "execution_count": 35,
   "id": "11b9ff7c",
   "metadata": {},
   "outputs": [],
   "source": [
    "import pandas as pd\n",
    "import matplotlib.pyplot as plt\n",
    "import seaborn as sns\n",
    "import re"
   ]
  },
  {
   "cell_type": "code",
   "execution_count": 36,
   "id": "4b005a47",
   "metadata": {},
   "outputs": [],
   "source": [
    "import nltk\n",
    "from nltk.corpus import stopwords\n",
    "from nltk.stem import WordNetLemmatizer"
   ]
  },
  {
   "cell_type": "code",
   "execution_count": 37,
   "id": "082d9b08",
   "metadata": {},
   "outputs": [],
   "source": [
    "from sklearn.feature_extraction.text import CountVectorizer\n",
    "from sklearn.model_selection import GridSearchCV\n",
    "from sklearn.ensemble import RandomForestClassifier"
   ]
  },
  {
   "cell_type": "code",
   "execution_count": 38,
   "id": "9d0b0381",
   "metadata": {},
   "outputs": [],
   "source": [
    "from sklearn.metrics import accuracy_score, precision_score, recall_score, confusion_matrix, roc_curve\n",
    "from sklearn.metrics import classification_report, plot_confusion_matrix"
   ]
  },
  {
   "cell_type": "code",
   "execution_count": 39,
   "id": "d773bf89",
   "metadata": {},
   "outputs": [],
   "source": [
    "df_train=pd.read_csv(\"train.txt\",delimiter=\";\",names=['text','label'])\n",
    "df_val=pd.read_csv(\"val.txt\",delimiter=\";\",names=['text','label'])"
   ]
  },
  {
   "cell_type": "code",
   "execution_count": 40,
   "id": "73cd745b",
   "metadata": {},
   "outputs": [],
   "source": [
    "df=pd.concat([df_train, df_val])\n",
    "df.reset_index(inplace=True, drop=True)"
   ]
  },
  {
   "cell_type": "code",
   "execution_count": 41,
   "id": "2f7974e1",
   "metadata": {},
   "outputs": [
    {
     "name": "stdout",
     "output_type": "stream",
     "text": [
      "Shape of the dataframe:  (18000, 2)\n"
     ]
    },
    {
     "data": {
      "text/html": [
       "<div>\n",
       "<style scoped>\n",
       "    .dataframe tbody tr th:only-of-type {\n",
       "        vertical-align: middle;\n",
       "    }\n",
       "\n",
       "    .dataframe tbody tr th {\n",
       "        vertical-align: top;\n",
       "    }\n",
       "\n",
       "    .dataframe thead th {\n",
       "        text-align: right;\n",
       "    }\n",
       "</style>\n",
       "<table border=\"1\" class=\"dataframe\">\n",
       "  <thead>\n",
       "    <tr style=\"text-align: right;\">\n",
       "      <th></th>\n",
       "      <th>text</th>\n",
       "      <th>label</th>\n",
       "    </tr>\n",
       "  </thead>\n",
       "  <tbody>\n",
       "    <tr>\n",
       "      <th>5712</th>\n",
       "      <td>i plan to run miles in the morning which is a ...</td>\n",
       "      <td>love</td>\n",
       "    </tr>\n",
       "    <tr>\n",
       "      <th>11294</th>\n",
       "      <td>i told him that if he touched me with a needle...</td>\n",
       "      <td>anger</td>\n",
       "    </tr>\n",
       "    <tr>\n",
       "      <th>3095</th>\n",
       "      <td>i think this will help somebody out there that...</td>\n",
       "      <td>sadness</td>\n",
       "    </tr>\n",
       "    <tr>\n",
       "      <th>7131</th>\n",
       "      <td>i feel like my dream of being a good guitarist...</td>\n",
       "      <td>joy</td>\n",
       "    </tr>\n",
       "    <tr>\n",
       "      <th>9647</th>\n",
       "      <td>i feel this way about all relationships romant...</td>\n",
       "      <td>love</td>\n",
       "    </tr>\n",
       "  </tbody>\n",
       "</table>\n",
       "</div>"
      ],
      "text/plain": [
       "                                                    text    label\n",
       "5712   i plan to run miles in the morning which is a ...     love\n",
       "11294  i told him that if he touched me with a needle...    anger\n",
       "3095   i think this will help somebody out there that...  sadness\n",
       "7131   i feel like my dream of being a good guitarist...      joy\n",
       "9647   i feel this way about all relationships romant...     love"
      ]
     },
     "execution_count": 41,
     "metadata": {},
     "output_type": "execute_result"
    }
   ],
   "source": [
    "print(\"Shape of the dataframe: \",df.shape)\n",
    "df.sample(5)"
   ]
  },
  {
   "cell_type": "code",
   "execution_count": 42,
   "id": "fbcc8cf4",
   "metadata": {},
   "outputs": [
    {
     "data": {
      "text/plain": [
       "<AxesSubplot:xlabel='label', ylabel='count'>"
      ]
     },
     "execution_count": 42,
     "metadata": {},
     "output_type": "execute_result"
    },
    {
     "data": {
      "image/png": "[encoded data removed]",
      "text/plain": [
       "<Figure size 432x288 with 1 Axes>"
      ]
     },
     "metadata": {
      "needs_background": "light"
     },
     "output_type": "display_data"
    }
   ],
   "source": [
    "import warnings\n",
    "warnings.filterwarnings(\"ignore\")\n",
    "\n",
    "sns.countplot(df.label)"
   ]
  },
  {
   "cell_type": "markdown",
   "id": "3deeaa9a",
   "metadata": {},
   "source": [
    "Positve Sentiment- joy, love, surprise\n",
    "\n",
    "Negative sentiment- anger, sadness, fear\n",
    "\n",
    "Now we will create a custom encoder to convert categorical target labels to numerical i.e 0 and 1"
   ]
  },
  {
   "cell_type": "code",
   "execution_count": 43,
   "id": "675fefd8",
   "metadata": {},
   "outputs": [],
   "source": [
    "def custom_encoder(df):\n",
    "    df.replace(to_replace=\"surprise\",value=1, inplace=True)\n",
    "    df.replace(to_replace=\"love\",value=1, inplace=True)\n",
    "    df.replace(to_replace=\"joy\",value=1, inplace=True)\n",
    "    df.replace(to_replace=\"fear\",value=0, inplace=True)\n",
    "    df.replace(to_replace=\"anger\",value=0, inplace=True)\n",
    "    df.replace(to_replace=\"sadness\",value=0, inplace=True)"
   ]
  },
  {
   "cell_type": "code",
   "execution_count": 44,
   "id": "c6e15076",
   "metadata": {},
   "outputs": [],
   "source": [
    "custom_encoder(df['label'])"
   ]
  },
  {
   "cell_type": "code",
   "execution_count": 45,
   "id": "3548d936",
   "metadata": {},
   "outputs": [
    {
     "data": {
      "text/plain": [
       "<AxesSubplot:xlabel='label', ylabel='count'>"
      ]
     },
     "execution_count": 45,
     "metadata": {},
     "output_type": "execute_result"
    },
    {
     "data": {
      "image/png": "[encoded data removed]",
      "text/plain": [
       "<Figure size 432x288 with 1 Axes>"
      ]
     },
     "metadata": {
      "needs_background": "light"
     },
     "output_type": "display_data"
    }
   ],
   "source": [
    "sns.countplot(df.label)"
   ]
  },
  {
   "cell_type": "markdown",
   "id": "0e3e2f2f",
   "metadata": {},
   "source": [
    "Preprocessing Steps\n",
    "\n",
    "Get rid of any characters apart from alphabets\n",
    "\n",
    "Convert the string to lowercase because Python is case-sensitive\n",
    "\n",
    "3 Check and remove the stopwords\n",
    "\n",
    "Perform lemmatization"
   ]
  },
  {
   "cell_type": "code",
   "execution_count": 48,
   "id": "508837ec",
   "metadata": {},
   "outputs": [],
   "source": [
    "lm=WordNetLemmatizer()"
   ]
  },
  {
   "cell_type": "code",
   "execution_count": 49,
   "id": "cf0e8d4f",
   "metadata": {},
   "outputs": [],
   "source": [
    "def text_transformation(df_col):\n",
    "    corpus=[]\n",
    "    for item in df_col:\n",
    "        new_item=re.sub('[^a-zA-Z]',' ',str(item))\n",
    "        new_item=new_item.lower()\n",
    "        new_item=new_item.split()\n",
    "        new_item=[lm.lemmatize(word) for word in new_item if word not in set(stopwords.words('english'))]\n",
    "        corpus.append(' '.join(str(x) for x in new_item))\n",
    "    return corpus"
   ]
  },
  {
   "cell_type": "code",
   "execution_count": 50,
   "id": "60b6cfdf",
   "metadata": {},
   "outputs": [],
   "source": [
    "corpus=text_transformation(df['text'])"
   ]
  },
  {
   "cell_type": "code",
   "execution_count": 51,
   "id": "5bbc8434",
   "metadata": {},
   "outputs": [],
   "source": [
    "cv=CountVectorizer(ngram_range=(1,2))\n",
    "traindata=cv.fit_transform(corpus)\n",
    "X=traindata\n",
    "y=df.label"
   ]
  },
  {
   "cell_type": "markdown",
   "id": "b34263a2",
   "metadata": {},
   "source": [
    "Now we will fit the data into grid search and view the best parameters using the best_params attribute"
   ]
  },
  {
   "cell_type": "code",
   "execution_count": 52,
   "id": "93caf195",
   "metadata": {},
   "outputs": [],
   "source": [
    "parameters={'max_features':('auto','sqrt'),\n",
    "            'n_estimators':[5,10],\n",
    "            'max_depth':[10,None],\n",
    "            'min_samples_split':[5],\n",
    "            'min_samples_leaf':[1],\n",
    "            'bootstrap':[True]\n",
    "           }"
   ]
  },
  {
   "cell_type": "code",
   "execution_count": 53,
   "id": "ab2e14e9",
   "metadata": {},
   "outputs": [
    {
     "data": {
      "text/plain": [
       "{'bootstrap': True,\n",
       " 'max_depth': None,\n",
       " 'max_features': 'sqrt',\n",
       " 'min_samples_leaf': 1,\n",
       " 'min_samples_split': 5,\n",
       " 'n_estimators': 10}"
      ]
     },
     "execution_count": 53,
     "metadata": {},
     "output_type": "execute_result"
    }
   ],
   "source": [
    "grid_search=GridSearchCV(RandomForestClassifier(), parameters, cv=5, return_train_score=True,n_jobs=-1)\n",
    "grid_search.fit(X,y)\n",
    "grid_search.best_params_"
   ]
  },
  {
   "cell_type": "markdown",
   "id": "c3375137",
   "metadata": {},
   "source": [
    "We can view all the models and their respective parameters, mean test score and rank as GridSearch CV"
   ]
  },
  {
   "cell_type": "code",
   "execution_count": 54,
   "id": "a7ab03f2",
   "metadata": {},
   "outputs": [
    {
     "name": "stdout",
     "output_type": "stream",
     "text": [
      "Parameters:  {'bootstrap': True, 'max_depth': 10, 'max_features': 'auto', 'min_samples_leaf': 1, 'min_samples_split': 5, 'n_estimators': 5}\n",
      "Mean test Score:  0.5970000000000001\n",
      "Rank:  [7 6 8 5 4 2 3 1]\n",
      "Parameters:  {'bootstrap': True, 'max_depth': 10, 'max_features': 'auto', 'min_samples_leaf': 1, 'min_samples_split': 5, 'n_estimators': 10}\n",
      "Mean test Score:  0.6148333333333333\n",
      "Rank:  [7 6 8 5 4 2 3 1]\n",
      "Parameters:  {'bootstrap': True, 'max_depth': 10, 'max_features': 'sqrt', 'min_samples_leaf': 1, 'min_samples_split': 5, 'n_estimators': 5}\n",
      "Mean test Score:  0.5953888888888889\n",
      "Rank:  [7 6 8 5 4 2 3 1]\n",
      "Parameters:  {'bootstrap': True, 'max_depth': 10, 'max_features': 'sqrt', 'min_samples_leaf': 1, 'min_samples_split': 5, 'n_estimators': 10}\n",
      "Mean test Score:  0.6165\n",
      "Rank:  [7 6 8 5 4 2 3 1]\n",
      "Parameters:  {'bootstrap': True, 'max_depth': None, 'max_features': 'auto', 'min_samples_leaf': 1, 'min_samples_split': 5, 'n_estimators': 5}\n",
      "Mean test Score:  0.9119444444444443\n",
      "Rank:  [7 6 8 5 4 2 3 1]\n",
      "Parameters:  {'bootstrap': True, 'max_depth': None, 'max_features': 'auto', 'min_samples_leaf': 1, 'min_samples_split': 5, 'n_estimators': 10}\n",
      "Mean test Score:  0.9382222222222222\n",
      "Rank:  [7 6 8 5 4 2 3 1]\n",
      "Parameters:  {'bootstrap': True, 'max_depth': None, 'max_features': 'sqrt', 'min_samples_leaf': 1, 'min_samples_split': 5, 'n_estimators': 5}\n",
      "Mean test Score:  0.9145\n",
      "Rank:  [7 6 8 5 4 2 3 1]\n",
      "Parameters:  {'bootstrap': True, 'max_depth': None, 'max_features': 'sqrt', 'min_samples_leaf': 1, 'min_samples_split': 5, 'n_estimators': 10}\n",
      "Mean test Score:  0.9392222222222223\n",
      "Rank:  [7 6 8 5 4 2 3 1]\n"
     ]
    }
   ],
   "source": [
    "for i in range(8):\n",
    "    print('Parameters: ', grid_search.cv_results_['params'][i])\n",
    "    print('Mean test Score: ',grid_search.cv_results_['mean_test_score'][i])\n",
    "    print(\"Rank: \",grid_search.cv_results_['rank_test_score'])"
   ]
  },
  {
   "cell_type": "markdown",
   "id": "f2de70e4",
   "metadata": {},
   "source": [
    "Now we will choose the best parameter obtained from GridSearchCV and create a final random forest classifier model and then train our model."
   ]
  },
  {
   "cell_type": "code",
   "execution_count": 55,
   "id": "2872d8f7",
   "metadata": {},
   "outputs": [
    {
     "data": {
      "text/plain": [
       "RandomForestClassifier(max_features='sqrt', min_samples_split=5,\n",
       "                       n_estimators=10)"
      ]
     },
     "execution_count": 55,
     "metadata": {},
     "output_type": "execute_result"
    }
   ],
   "source": [
    "rfc= RandomForestClassifier(max_features=grid_search.best_params_['max_features'],\n",
    "                           max_depth=grid_search.best_params_['max_depth'],\n",
    "                           n_estimators=grid_search.best_params_['n_estimators'],\n",
    "                           min_samples_split=grid_search.best_params_['min_samples_split'],\n",
    "                           min_samples_leaf=grid_search.best_params_['min_samples_leaf'],\n",
    "                           bootstrap=grid_search.best_params_['bootstrap'])\n",
    "\n",
    "rfc.fit(X,y)"
   ]
  },
  {
   "cell_type": "markdown",
   "id": "eb2bbf57",
   "metadata": {},
   "source": [
    "Test Data Transformation"
   ]
  },
  {
   "cell_type": "code",
   "execution_count": 56,
   "id": "b1bf64fe",
   "metadata": {},
   "outputs": [],
   "source": [
    "test_df=pd.read_csv('test.txt',delimiter=';',names=['text','label'])"
   ]
  },
  {
   "cell_type": "code",
   "execution_count": 57,
   "id": "b42da02e",
   "metadata": {},
   "outputs": [],
   "source": [
    "X_test, y_test=test_df.text, test_df.label\n",
    "\n",
    "# encode the labels into two classes 0 and 1\n",
    "test_df= custom_encoder(y_test)\n",
    "\n",
    "# preprocessing of text\n",
    "test_corpus=text_transformation(X_test)\n",
    "\n",
    "# convert the text data into vectors\n",
    "testdata=cv.transform(test_corpus)\n",
    "\n",
    "#predict the target\n",
    "predictions=rfc.predict(testdata)"
   ]
  },
  {
   "cell_type": "markdown",
   "id": "23e943c8",
   "metadata": {},
   "source": [
    "Model Evaluation\n",
    "\n",
    "We will evaluate our model using various metrics such as accuracy score, precision score, recall score confusion matrix."
   ]
  },
  {
   "cell_type": "code",
   "execution_count": 58,
   "id": "3964353c",
   "metadata": {},
   "outputs": [
    {
     "name": "stdout",
     "output_type": "stream",
     "text": [
      "Accuracy Score: 0.9485\n",
      "Precision Score: 0.9584736251402918\n",
      "Recall Score 0.9282608695652174\n",
      "--------------------------------------------------\n",
      "              precision    recall  f1-score   support\n",
      "\n",
      "           0       0.94      0.97      0.95      1080\n",
      "           1       0.96      0.93      0.94       920\n",
      "\n",
      "    accuracy                           0.95      2000\n",
      "   macro avg       0.95      0.95      0.95      2000\n",
      "weighted avg       0.95      0.95      0.95      2000\n",
      "\n"
     ]
    }
   ],
   "source": [
    "acc_score= accuracy_score(y_test, predictions)\n",
    "pre_score= precision_score(y_test, predictions)\n",
    "rec_score=recall_score(y_test, predictions)\n",
    "\n",
    "print('Accuracy Score:',acc_score)\n",
    "print(\"Precision Score:\",pre_score)\n",
    "print('Recall Score',rec_score)\n",
    "\n",
    "print(\"-\"*50)\n",
    "\n",
    "cr=classification_report(y_test, predictions)\n",
    "print(cr)"
   ]
  },
  {
   "cell_type": "markdown",
   "id": "14424aa7",
   "metadata": {},
   "source": [
    "ROC Curve- We will plot probability of the class using the predict_proba() method of random forest classifier and then we will plot the cureve"
   ]
  },
  {
   "cell_type": "code",
   "execution_count": 59,
   "id": "f8ce6da6",
   "metadata": {},
   "outputs": [
    {
     "data": {
      "image/png": "[encoded data removed]",
      "text/plain": [
       "<Figure size 432x288 with 1 Axes>"
      ]
     },
     "metadata": {
      "needs_background": "light"
     },
     "output_type": "display_data"
    }
   ],
   "source": [
    "predictions_probability= rfc.predict_proba(testdata)\n",
    "fpr,tpr,thresholds=roc_curve(y_test, predictions_probability[:,1])\n",
    "\n",
    "plt.plot(fpr,tpr)\n",
    "plt.plot([0,1])\n",
    "plt.title('ROC Curve')\n",
    "plt.xlabel('False Positive Rate')\n",
    "plt.ylabel('True Positive Rate')\n",
    "plt.show()"
   ]
  },
  {
   "cell_type": "markdown",
   "id": "93e14ff6",
   "metadata": {},
   "source": [
    "As we cna see that our model performed very well in classifying the sentiments, with an accuracy score, precision score and recall score of approx 96%.\n",
    "\n",
    "Now we will check for custom input as well and let our model identify the sentiment of the input statement."
   ]
  },
  {
   "cell_type": "code",
   "execution_count": 60,
   "id": "25e6f355",
   "metadata": {},
   "outputs": [],
   "source": [
    "def expression_check(prediction_input):\n",
    "    if prediction_input==0:\n",
    "        print(\"Input statement has negative sentiment\")\n",
    "    elif prediction_input==1:\n",
    "        print(\"Input statement has positive sentiment\")\n",
    "    else:\n",
    "        print(\"Invalid Statement\")"
   ]
  },
  {
   "cell_type": "markdown",
   "id": "886155d7",
   "metadata": {},
   "source": [
    "Function to take the input statement and performs the same transformation as we did earlier"
   ]
  },
  {
   "cell_type": "code",
   "execution_count": 61,
   "id": "6c02d5fd",
   "metadata": {},
   "outputs": [],
   "source": [
    "def sentiment_predictor(input):\n",
    "    input=text_transformation(input)\n",
    "    transformed_input=cv.transform(input)\n",
    "    prediction=rfc.predict(transformed_input)\n",
    "    expression_check(prediction)"
   ]
  },
  {
   "cell_type": "code",
   "execution_count": 62,
   "id": "88953cc2",
   "metadata": {},
   "outputs": [],
   "source": [
    "input1=[\"Sometimes I just don't want to go out\"]\n",
    "input2=[\"I bought a new phone and it's so good\"]"
   ]
  },
  {
   "cell_type": "code",
   "execution_count": 63,
   "id": "32c16ca2",
   "metadata": {},
   "outputs": [
    {
     "name": "stdout",
     "output_type": "stream",
     "text": [
      "Input statement has negative sentiment\n",
      "Input statement has positive sentiment\n"
     ]
    }
   ],
   "source": [
    "sentiment_predictor(input1)\n",
    "sentiment_predictor(input2)"
   ]
  },
  {
   "cell_type": "markdown",
   "id": "b6e695b9",
   "metadata": {},
   "source": [
    "# Chatbot using NLP and Neural Networks in Python"
   ]
  },
  {
   "cell_type": "markdown",
   "id": "504a8176",
   "metadata": {},
   "source": [
    "Tag means classes\n",
    "\n",
    "Patterns means what user is going to ask\n",
    "\n",
    "Response is chatbot response"
   ]
  },
  {
   "cell_type": "code",
   "execution_count": 64,
   "id": "7b48739f",
   "metadata": {},
   "outputs": [],
   "source": [
    "data={\"intents\":[\n",
    "    {\"tag\":\"greeting\",\n",
    "     \"patterns\":[\"Hello\",\"How are you?\",\"Hi There\",\"Hi\",\"What's up\"],\n",
    "     \"responses\":[\"Howdy Partner!\",\"Hello\",\"How are you doing?\",\"Greetings!\",\"How do you do\"]\n",
    "        },\n",
    "    {\"tag\":\"age\",\n",
    "     \"patterns\":[\"how old are you\",\"when is your birthday\",\"when was you born\"],\n",
    "     \"responses\":[\"I am 24 years old\",\"I was born in 1966\",\"My birthday is July 3rd and I was born in 1996\",\"03/07/1996\"]\n",
    "        },\n",
    "    {\"tag\":\"date\",\n",
    "     \"patterns\":[\"what are you doing this weekend\",\n",
    "                \"do you want to hangout sometime?\",\"what are your plans for this week\"],\n",
    "     \"responses\":[\"I am available this week\",\"I don't have any plans\",\"I am not busy\"]\n",
    "        },\n",
    "    {\"tag\":\"name\",\n",
    "     \"patterns\":[\"what's your name\",\"what are you called\",\"who are you\"],\n",
    "     \"responses\":[\"My name is Kippi\",\"I'm Kippi\",\"Kippi\"]\n",
    "        },\n",
    "    {\"tag\":\"goodbye\",\n",
    "     \"patterns\":[\"bye\",\"g2g\",\"see ya\",\"adios\",\"cya\"],\n",
    "     \"responses\":[\"It was nice speaking to you\",\"See you later\",\"Speak Soon\"]\n",
    "        },\n",
    "]}"
   ]
  },
  {
   "cell_type": "markdown",
   "id": "628db0e6",
   "metadata": {},
   "source": [
    "For each tag we created, we would specify patterns. Essentially this defines the different ways of how a user may pose a query to the chatbot.\n",
    "\n",
    "The chatbot would then take these patterns and use them as training data to determine what someone is asking and the chatbot response would be relevant to that qustion."
   ]
  },
  {
   "cell_type": "code",
   "execution_count": 65,
   "id": "6204dad4",
   "metadata": {},
   "outputs": [
    {
     "name": "stderr",
     "output_type": "stream",
     "text": [
      "[nltk_data] Downloading package punkt to C:\\Users\\Mohit\n",
      "[nltk_data]     Tripathi\\AppData\\Roaming\\nltk_data...\n",
      "[nltk_data]   Package punkt is already up-to-date!\n",
      "[nltk_data] Downloading package wordnet to C:\\Users\\Mohit\n",
      "[nltk_data]     Tripathi\\AppData\\Roaming\\nltk_data...\n",
      "[nltk_data]   Package wordnet is already up-to-date!\n"
     ]
    },
    {
     "data": {
      "text/plain": [
       "True"
      ]
     },
     "execution_count": 65,
     "metadata": {},
     "output_type": "execute_result"
    }
   ],
   "source": [
    "import json\n",
    "import string\n",
    "import random\n",
    "\n",
    "import nltk\n",
    "import numpy as np\n",
    "from nltk.stem import WordNetLemmatizer\n",
    "\n",
    "import tensorflow as tf\n",
    "from tensorflow.keras import Sequential\n",
    "from tensorflow.keras.layers import Dense,Dropout\n",
    "\n",
    "nltk.download(\"punkt\")\n",
    "nltk.download(\"wordnet\")"
   ]
  },
  {
   "cell_type": "markdown",
   "id": "59da5f25",
   "metadata": {},
   "source": [
    "In order to create our training data below steps to be followed\n",
    "\n",
    "Create a vocabulary of all the words used in the patterns\n",
    "\n",
    "Create a list of the classes- tage of ach intent\n",
    "\n",
    "Create a list of all the patterns within the intents file\n",
    "\n",
    "Create a list of all the associated tags to go with each patterns in the intents file.\n",
    "\n",
    "Initialising lemmatier to get stem of words"
   ]
  },
  {
   "cell_type": "code",
   "execution_count": 66,
   "id": "aa7275e7",
   "metadata": {},
   "outputs": [],
   "source": [
    "lemmatizer=WordNetLemmatizer()\n",
    "\n",
    "words=[]\n",
    "classes=[]\n",
    "doc_x=[]\n",
    "doc_y=[]"
   ]
  },
  {
   "cell_type": "markdown",
   "id": "77a695d9",
   "metadata": {},
   "source": [
    "Loop through all the intents\n",
    "\n",
    "Tokenize each patter and append token to words, the patterns and the associated tag to their associated list"
   ]
  },
  {
   "cell_type": "code",
   "execution_count": 67,
   "id": "eb8245f3",
   "metadata": {},
   "outputs": [],
   "source": [
    "for intent in data[\"intents\"]:\n",
    "    for pattern in intent[\"patterns\"]:\n",
    "        tokens=nltk.word_tokenize(pattern)\n",
    "        words.extend(tokens)\n",
    "        doc_x.append(pattern)\n",
    "        doc_y.append(intent[\"tag\"])\n",
    "    if intent[\"tag\"] not in classes:\n",
    "        classes.append(intent[\"tag\"])"
   ]
  },
  {
   "cell_type": "markdown",
   "id": "cdd03d5e",
   "metadata": {},
   "source": [
    "Lemmatize all the words in the vocab and convert them to lowercase"
   ]
  },
  {
   "cell_type": "code",
   "execution_count": 68,
   "id": "30b98269",
   "metadata": {},
   "outputs": [],
   "source": [
    "words=[lemmatizer.lemmatize(word.lower()) for word in words if word not in string.punctuation]"
   ]
  },
  {
   "cell_type": "markdown",
   "id": "0f919fc7",
   "metadata": {},
   "source": [
    "Sorting the vocab and classes in alphabeical order and taking the set to ensure no duplicates occur"
   ]
  },
  {
   "cell_type": "code",
   "execution_count": 69,
   "id": "d2a03711",
   "metadata": {},
   "outputs": [],
   "source": [
    "words=sorted(set(words))\n",
    "classes=sorted(set(classes))"
   ]
  },
  {
   "cell_type": "code",
   "execution_count": 70,
   "id": "eaea03c1",
   "metadata": {},
   "outputs": [
    {
     "name": "stdout",
     "output_type": "stream",
     "text": [
      "[\"'s\", 'adios', 'are', 'birthday', 'born', 'bye', 'called', 'cya', 'do', 'doing', 'for', 'g2g', 'hangout', 'hello', 'hi', 'how', 'is', 'name', 'old', 'plan', 'see', 'sometime', 'there', 'this', 'to', 'up', 'wa', 'want', 'week', 'weekend', 'what', 'when', 'who', 'ya', 'you', 'your']\n"
     ]
    }
   ],
   "source": [
    "print(words)"
   ]
  },
  {
   "cell_type": "code",
   "execution_count": 71,
   "id": "53191290",
   "metadata": {},
   "outputs": [
    {
     "name": "stdout",
     "output_type": "stream",
     "text": [
      "['age', 'date', 'goodbye', 'greeting', 'name']\n"
     ]
    }
   ],
   "source": [
    "print(classes)"
   ]
  },
  {
   "cell_type": "code",
   "execution_count": 72,
   "id": "ff1d24e0",
   "metadata": {},
   "outputs": [
    {
     "name": "stdout",
     "output_type": "stream",
     "text": [
      "['Hello', 'How are you?', 'Hi There', 'Hi', \"What's up\", 'how old are you', 'when is your birthday', 'when was you born', 'what are you doing this weekend', 'do you want to hangout sometime?', 'what are your plans for this week', \"what's your name\", 'what are you called', 'who are you', 'bye', 'g2g', 'see ya', 'adios', 'cya']\n"
     ]
    }
   ],
   "source": [
    "print(doc_x)"
   ]
  },
  {
   "cell_type": "code",
   "execution_count": 73,
   "id": "9bf79313",
   "metadata": {},
   "outputs": [
    {
     "name": "stdout",
     "output_type": "stream",
     "text": [
      "['greeting', 'greeting', 'greeting', 'greeting', 'greeting', 'age', 'age', 'age', 'date', 'date', 'date', 'name', 'name', 'name', 'goodbye', 'goodbye', 'goodbye', 'goodbye', 'goodbye']\n"
     ]
    }
   ],
   "source": [
    "print(doc_y)"
   ]
  },
  {
   "cell_type": "markdown",
   "id": "edfa8b3d",
   "metadata": {},
   "source": [
    "List for training data"
   ]
  },
  {
   "cell_type": "code",
   "execution_count": 74,
   "id": "ab3d9f48",
   "metadata": {},
   "outputs": [],
   "source": [
    "training=[]\n",
    "out_empty=[0]*len(classes)\n",
    "\n",
    "# creating a bag of words model\n",
    "\n",
    "for idx, doc in enumerate(doc_x):\n",
    "    bow=[]\n",
    "    text=lemmatizer.lemmatize(doc.lower())\n",
    "    for word in words:\n",
    "        bow.append(1) if word in text else bow.append(0)\n",
    "    output_row=list(out_empty)\n",
    "    output_row[classes.index(doc_y[idx])]=1\n",
    "\n",
    "    training.append([bow, output_row])\n",
    "\n",
    "random.shuffle(training)\n",
    "\n",
    "training=np.array(training,dtype=object)\n",
    "\n",
    "train_X=np.array(list(training[:,0]))\n",
    "train_y=np.array(list(training[:,1]))"
   ]
  },
  {
   "cell_type": "code",
   "execution_count": 76,
   "id": "d1ee1b16",
   "metadata": {},
   "outputs": [
    {
     "data": {
      "text/plain": [
       "array([[1, 0, 0, 0, 0, 0, 0, 0, 0, 0, 0, 0, 0, 0, 0, 0, 0, 1, 0, 0, 0, 0,\n",
       "        0, 0, 0, 0, 0, 0, 0, 0, 1, 0, 0, 0, 1, 1],\n",
       "       [0, 0, 0, 0, 0, 0, 0, 0, 0, 0, 0, 0, 0, 0, 1, 0, 0, 0, 0, 0, 0, 0,\n",
       "        0, 0, 0, 0, 0, 0, 0, 0, 0, 0, 0, 0, 0, 0]])"
      ]
     },
     "execution_count": 76,
     "metadata": {},
     "output_type": "execute_result"
    }
   ],
   "source": [
    "train_X[:2]"
   ]
  },
  {
   "cell_type": "code",
   "execution_count": 77,
   "id": "5968ee8b",
   "metadata": {},
   "outputs": [
    {
     "data": {
      "text/plain": [
       "array([[0, 0, 0, 0, 1],\n",
       "       [0, 0, 0, 1, 0]])"
      ]
     },
     "execution_count": 77,
     "metadata": {},
     "output_type": "execute_result"
    }
   ],
   "source": [
    "train_y[:2]"
   ]
  },
  {
   "cell_type": "code",
   "execution_count": 78,
   "id": "a5b674c4",
   "metadata": {},
   "outputs": [],
   "source": [
    "input_shape=(len(train_X[0]),)\n",
    "output_shape=len(train_y[0])\n",
    "\n",
    "epochs=500"
   ]
  },
  {
   "cell_type": "code",
   "execution_count": 79,
   "id": "40d42b5b",
   "metadata": {},
   "outputs": [
    {
     "name": "stdout",
     "output_type": "stream",
     "text": [
      "Model: \"sequential_1\"\n",
      "_________________________________________________________________\n",
      " Layer (type)                Output Shape              Param #   \n",
      "=================================================================\n",
      " dense_2 (Dense)             (None, 128)               4736      \n",
      "                                                                 \n",
      " dropout_3 (Dropout)         (None, 128)               0         \n",
      "                                                                 \n",
      " dense_3 (Dense)             (None, 64)                8256      \n",
      "                                                                 \n",
      " dropout_4 (Dropout)         (None, 64)                0         \n",
      "                                                                 \n",
      " dense_4 (Dense)             (None, 5)                 325       \n",
      "                                                                 \n",
      "=================================================================\n",
      "Total params: 13317 (52.02 KB)\n",
      "Trainable params: 13317 (52.02 KB)\n",
      "Non-trainable params: 0 (0.00 Byte)\n",
      "_________________________________________________________________\n",
      "None\n"
     ]
    }
   ],
   "source": [
    "from tensorflow.keras.models import Sequential\n",
    "from tensorflow.keras.layers import Dense, Dropout\n",
    "\n",
    "# Create a Sequential model\n",
    "model = Sequential()\n",
    "model.add(Dense(128, input_shape=input_shape, activation='relu'))\n",
    "model.add(Dropout(0.5))\n",
    "model.add(Dense(64, activation='relu'))\n",
    "model.add(Dropout(0.3))\n",
    "model.add(Dense(output_shape, activation='softmax'))\n",
    "\n",
    "# Create the Adam optimizer with a specified learning rate\n",
    "adam = tf.keras.optimizers.Adam(learning_rate=0.01)\n",
    "\n",
    "# Compile the model using the Adam optimizer\n",
    "model.compile(loss='categorical_crossentropy',\n",
    "              optimizer=adam,\n",
    "              metrics=['accuracy'])\n",
    "\n",
    "print(model.summary())"
   ]
  },
  {
   "cell_type": "code",
   "execution_count": 80,
   "id": "c74bd839",
   "metadata": {},
   "outputs": [
    {
     "name": "stdout",
     "output_type": "stream",
     "text": [
      "Epoch 1/500\n",
      "1/1 [==============================] - 2s 2s/step - loss: 1.6191 - accuracy: 0.1053\n",
      "Epoch 2/500\n",
      "1/1 [==============================] - 0s 18ms/step - loss: 1.5498 - accuracy: 0.3158\n",
      "Epoch 3/500\n",
      "1/1 [==============================] - 0s 12ms/step - loss: 1.3489 - accuracy: 0.5789\n",
      "Epoch 4/500\n",
      "1/1 [==============================] - 0s 17ms/step - loss: 1.2536 - accuracy: 0.6842\n",
      "Epoch 5/500\n",
      "1/1 [==============================] - 0s 15ms/step - loss: 1.1208 - accuracy: 0.8421\n",
      "Epoch 6/500\n",
      "1/1 [==============================] - 0s 14ms/step - loss: 1.0863 - accuracy: 0.7368\n",
      "Epoch 7/500\n",
      "1/1 [==============================] - 0s 11ms/step - loss: 1.0991 - accuracy: 0.6842\n",
      "Epoch 8/500\n",
      "1/1 [==============================] - 0s 12ms/step - loss: 0.8308 - accuracy: 0.8421\n",
      "Epoch 9/500\n",
      "1/1 [==============================] - 0s 10ms/step - loss: 0.6025 - accuracy: 1.0000\n",
      "Epoch 10/500\n",
      "1/1 [==============================] - 0s 15ms/step - loss: 0.4572 - accuracy: 0.9474\n",
      "Epoch 11/500\n",
      "1/1 [==============================] - 0s 11ms/step - loss: 0.5693 - accuracy: 0.8421\n",
      "Epoch 12/500\n",
      "1/1 [==============================] - 0s 12ms/step - loss: 0.3396 - accuracy: 1.0000\n",
      "Epoch 13/500\n",
      "1/1 [==============================] - 0s 13ms/step - loss: 0.3888 - accuracy: 0.8947\n",
      "Epoch 14/500\n",
      "1/1 [==============================] - 0s 14ms/step - loss: 0.2659 - accuracy: 1.0000\n",
      "Epoch 15/500\n",
      "1/1 [==============================] - 0s 12ms/step - loss: 0.2775 - accuracy: 0.8421\n",
      "Epoch 16/500\n",
      "1/1 [==============================] - 0s 12ms/step - loss: 0.0853 - accuracy: 1.0000\n",
      "Epoch 17/500\n",
      "1/1 [==============================] - 0s 10ms/step - loss: 0.2739 - accuracy: 0.9474\n",
      "Epoch 18/500\n",
      "1/1 [==============================] - 0s 11ms/step - loss: 0.1631 - accuracy: 0.9474\n",
      "Epoch 19/500\n",
      "1/1 [==============================] - 0s 12ms/step - loss: 0.0790 - accuracy: 1.0000\n",
      "Epoch 20/500\n",
      "1/1 [==============================] - 0s 13ms/step - loss: 0.1430 - accuracy: 1.0000\n",
      "Epoch 21/500\n",
      "1/1 [==============================] - 0s 9ms/step - loss: 0.0912 - accuracy: 0.9474\n",
      "Epoch 22/500\n",
      "1/1 [==============================] - 0s 11ms/step - loss: 0.0643 - accuracy: 1.0000\n",
      "Epoch 23/500\n",
      "1/1 [==============================] - 0s 11ms/step - loss: 0.0983 - accuracy: 0.9474\n",
      "Epoch 24/500\n",
      "1/1 [==============================] - 0s 11ms/step - loss: 0.0395 - accuracy: 1.0000\n",
      "Epoch 25/500\n",
      "1/1 [==============================] - 0s 9ms/step - loss: 0.0511 - accuracy: 1.0000\n",
      "Epoch 26/500\n",
      "1/1 [==============================] - 0s 12ms/step - loss: 0.0120 - accuracy: 1.0000\n",
      "Epoch 27/500\n",
      "1/1 [==============================] - 0s 12ms/step - loss: 0.1826 - accuracy: 0.9474\n",
      "Epoch 28/500\n",
      "1/1 [==============================] - 0s 17ms/step - loss: 0.0219 - accuracy: 1.0000\n",
      "Epoch 29/500\n",
      "1/1 [==============================] - 0s 14ms/step - loss: 0.0150 - accuracy: 1.0000\n",
      "Epoch 30/500\n",
      "1/1 [==============================] - 0s 11ms/step - loss: 0.0644 - accuracy: 0.9474\n",
      "Epoch 31/500\n",
      "1/1 [==============================] - 0s 10ms/step - loss: 0.1345 - accuracy: 0.9474\n",
      "Epoch 32/500\n",
      "1/1 [==============================] - 0s 11ms/step - loss: 0.0304 - accuracy: 1.0000\n",
      "Epoch 33/500\n",
      "1/1 [==============================] - 0s 11ms/step - loss: 0.0040 - accuracy: 1.0000\n",
      "Epoch 34/500\n",
      "1/1 [==============================] - 0s 11ms/step - loss: 0.0036 - accuracy: 1.0000\n",
      "Epoch 35/500\n",
      "1/1 [==============================] - 0s 37ms/step - loss: 0.1881 - accuracy: 0.9474\n",
      "Epoch 36/500\n",
      "1/1 [==============================] - 0s 15ms/step - loss: 0.0321 - accuracy: 1.0000\n",
      "Epoch 37/500\n",
      "1/1 [==============================] - 0s 11ms/step - loss: 0.0849 - accuracy: 0.9474\n",
      "Epoch 38/500\n",
      "1/1 [==============================] - 0s 14ms/step - loss: 0.0030 - accuracy: 1.0000\n",
      "Epoch 39/500\n",
      "1/1 [==============================] - 0s 19ms/step - loss: 0.0143 - accuracy: 1.0000\n",
      "Epoch 40/500\n",
      "1/1 [==============================] - 0s 13ms/step - loss: 0.0114 - accuracy: 1.0000\n",
      "Epoch 41/500\n",
      "1/1 [==============================] - 0s 14ms/step - loss: 0.0544 - accuracy: 0.9474\n",
      "Epoch 42/500\n",
      "1/1 [==============================] - 0s 16ms/step - loss: 0.0037 - accuracy: 1.0000\n",
      "Epoch 43/500\n",
      "1/1 [==============================] - 0s 15ms/step - loss: 0.0052 - accuracy: 1.0000\n",
      "Epoch 44/500\n",
      "1/1 [==============================] - 0s 15ms/step - loss: 0.0415 - accuracy: 0.9474\n",
      "Epoch 45/500\n",
      "1/1 [==============================] - 0s 15ms/step - loss: 0.0042 - accuracy: 1.0000\n",
      "Epoch 46/500\n",
      "1/1 [==============================] - 0s 14ms/step - loss: 0.0254 - accuracy: 1.0000\n",
      "Epoch 47/500\n",
      "1/1 [==============================] - 0s 14ms/step - loss: 0.0145 - accuracy: 1.0000\n",
      "Epoch 48/500\n",
      "1/1 [==============================] - 0s 17ms/step - loss: 0.0015 - accuracy: 1.0000\n",
      "Epoch 49/500\n",
      "1/1 [==============================] - 0s 23ms/step - loss: 0.0168 - accuracy: 1.0000\n",
      "Epoch 50/500\n",
      "1/1 [==============================] - 0s 20ms/step - loss: 0.0014 - accuracy: 1.0000\n",
      "Epoch 51/500\n",
      "1/1 [==============================] - 0s 16ms/step - loss: 6.3285e-04 - accuracy: 1.0000\n",
      "Epoch 52/500\n",
      "1/1 [==============================] - 0s 22ms/step - loss: 0.0013 - accuracy: 1.0000\n",
      "Epoch 53/500\n",
      "1/1 [==============================] - 0s 17ms/step - loss: 0.0666 - accuracy: 0.9474\n",
      "Epoch 54/500\n",
      "1/1 [==============================] - 0s 31ms/step - loss: 0.0101 - accuracy: 1.0000\n",
      "Epoch 55/500\n",
      "1/1 [==============================] - 0s 32ms/step - loss: 0.0049 - accuracy: 1.0000\n",
      "Epoch 56/500\n",
      "1/1 [==============================] - 0s 120ms/step - loss: 0.0011 - accuracy: 1.0000\n",
      "Epoch 57/500\n",
      "1/1 [==============================] - 0s 45ms/step - loss: 0.0765 - accuracy: 0.9474\n",
      "Epoch 58/500\n",
      "1/1 [==============================] - 0s 49ms/step - loss: 0.0102 - accuracy: 1.0000\n",
      "Epoch 59/500\n",
      "1/1 [==============================] - 0s 79ms/step - loss: 9.2841e-04 - accuracy: 1.0000\n",
      "Epoch 60/500\n",
      "1/1 [==============================] - 0s 30ms/step - loss: 0.0012 - accuracy: 1.0000\n",
      "Epoch 61/500\n",
      "1/1 [==============================] - 0s 29ms/step - loss: 0.0018 - accuracy: 1.0000\n",
      "Epoch 62/500\n",
      "1/1 [==============================] - 0s 36ms/step - loss: 0.1323 - accuracy: 0.9474\n",
      "Epoch 63/500\n",
      "1/1 [==============================] - 0s 50ms/step - loss: 0.0070 - accuracy: 1.0000\n",
      "Epoch 64/500\n",
      "1/1 [==============================] - 0s 36ms/step - loss: 0.0037 - accuracy: 1.0000\n",
      "Epoch 65/500\n",
      "1/1 [==============================] - 0s 35ms/step - loss: 0.0037 - accuracy: 1.0000\n",
      "Epoch 66/500\n",
      "1/1 [==============================] - 0s 38ms/step - loss: 0.0011 - accuracy: 1.0000\n",
      "Epoch 67/500\n",
      "1/1 [==============================] - 0s 33ms/step - loss: 0.0091 - accuracy: 1.0000\n",
      "Epoch 68/500\n",
      "1/1 [==============================] - 0s 38ms/step - loss: 0.1768 - accuracy: 0.9474\n",
      "Epoch 69/500\n",
      "1/1 [==============================] - 0s 63ms/step - loss: 0.0338 - accuracy: 1.0000\n",
      "Epoch 70/500\n",
      "1/1 [==============================] - 0s 45ms/step - loss: 0.0011 - accuracy: 1.0000\n",
      "Epoch 71/500\n",
      "1/1 [==============================] - 0s 39ms/step - loss: 5.2564e-04 - accuracy: 1.0000\n",
      "Epoch 72/500\n",
      "1/1 [==============================] - 0s 32ms/step - loss: 0.0085 - accuracy: 1.0000\n",
      "Epoch 73/500\n",
      "1/1 [==============================] - 0s 46ms/step - loss: 9.8711e-04 - accuracy: 1.0000\n",
      "Epoch 74/500\n",
      "1/1 [==============================] - 0s 34ms/step - loss: 0.0010 - accuracy: 1.0000\n",
      "Epoch 75/500\n",
      "1/1 [==============================] - 0s 31ms/step - loss: 0.0189 - accuracy: 1.0000\n",
      "Epoch 76/500\n",
      "1/1 [==============================] - 0s 36ms/step - loss: 0.0148 - accuracy: 1.0000\n",
      "Epoch 77/500\n",
      "1/1 [==============================] - 0s 45ms/step - loss: 0.0252 - accuracy: 1.0000\n",
      "Epoch 78/500\n",
      "1/1 [==============================] - 0s 35ms/step - loss: 0.0016 - accuracy: 1.0000\n",
      "Epoch 79/500\n",
      "1/1 [==============================] - 0s 29ms/step - loss: 0.0187 - accuracy: 1.0000\n",
      "Epoch 80/500\n",
      "1/1 [==============================] - 0s 34ms/step - loss: 0.0156 - accuracy: 1.0000\n",
      "Epoch 81/500\n",
      "1/1 [==============================] - 0s 33ms/step - loss: 5.5295e-04 - accuracy: 1.0000\n",
      "Epoch 82/500\n",
      "1/1 [==============================] - 0s 48ms/step - loss: 0.0263 - accuracy: 1.0000\n",
      "Epoch 83/500\n"
     ]
    },
    {
     "name": "stdout",
     "output_type": "stream",
     "text": [
      "1/1 [==============================] - 0s 43ms/step - loss: 0.0023 - accuracy: 1.0000\n",
      "Epoch 84/500\n",
      "1/1 [==============================] - 0s 29ms/step - loss: 0.0025 - accuracy: 1.0000\n",
      "Epoch 85/500\n",
      "1/1 [==============================] - 0s 32ms/step - loss: 0.0805 - accuracy: 0.9474\n",
      "Epoch 86/500\n",
      "1/1 [==============================] - 0s 38ms/step - loss: 6.5153e-05 - accuracy: 1.0000\n",
      "Epoch 87/500\n",
      "1/1 [==============================] - 0s 47ms/step - loss: 0.0076 - accuracy: 1.0000\n",
      "Epoch 88/500\n",
      "1/1 [==============================] - 0s 40ms/step - loss: 0.1085 - accuracy: 0.9474\n",
      "Epoch 89/500\n",
      "1/1 [==============================] - 0s 40ms/step - loss: 0.0357 - accuracy: 1.0000\n",
      "Epoch 90/500\n",
      "1/1 [==============================] - 0s 49ms/step - loss: 4.0553e-04 - accuracy: 1.0000\n",
      "Epoch 91/500\n",
      "1/1 [==============================] - 0s 43ms/step - loss: 1.3413e-04 - accuracy: 1.0000\n",
      "Epoch 92/500\n",
      "1/1 [==============================] - 0s 32ms/step - loss: 0.0011 - accuracy: 1.0000\n",
      "Epoch 93/500\n",
      "1/1 [==============================] - 0s 32ms/step - loss: 0.0126 - accuracy: 1.0000\n",
      "Epoch 94/500\n",
      "1/1 [==============================] - 0s 38ms/step - loss: 3.2504e-04 - accuracy: 1.0000\n",
      "Epoch 95/500\n",
      "1/1 [==============================] - 0s 82ms/step - loss: 6.6927e-04 - accuracy: 1.0000\n",
      "Epoch 96/500\n",
      "1/1 [==============================] - 0s 39ms/step - loss: 0.0037 - accuracy: 1.0000\n",
      "Epoch 97/500\n",
      "1/1 [==============================] - 0s 41ms/step - loss: 5.9043e-04 - accuracy: 1.0000\n",
      "Epoch 98/500\n",
      "1/1 [==============================] - 0s 40ms/step - loss: 7.6175e-04 - accuracy: 1.0000\n",
      "Epoch 99/500\n",
      "1/1 [==============================] - 0s 55ms/step - loss: 3.2240e-04 - accuracy: 1.0000\n",
      "Epoch 100/500\n",
      "1/1 [==============================] - 0s 47ms/step - loss: 4.4894e-04 - accuracy: 1.0000\n",
      "Epoch 101/500\n",
      "1/1 [==============================] - 0s 31ms/step - loss: 0.0026 - accuracy: 1.0000\n",
      "Epoch 102/500\n",
      "1/1 [==============================] - 0s 45ms/step - loss: 4.3287e-04 - accuracy: 1.0000\n",
      "Epoch 103/500\n",
      "1/1 [==============================] - 0s 37ms/step - loss: 0.0061 - accuracy: 1.0000\n",
      "Epoch 104/500\n",
      "1/1 [==============================] - 0s 33ms/step - loss: 0.0027 - accuracy: 1.0000\n",
      "Epoch 105/500\n",
      "1/1 [==============================] - 0s 24ms/step - loss: 0.0012 - accuracy: 1.0000\n",
      "Epoch 106/500\n",
      "1/1 [==============================] - 0s 28ms/step - loss: 0.0242 - accuracy: 1.0000\n",
      "Epoch 107/500\n",
      "1/1 [==============================] - 0s 34ms/step - loss: 0.3647 - accuracy: 0.9474\n",
      "Epoch 108/500\n",
      "1/1 [==============================] - 0s 26ms/step - loss: 4.8418e-04 - accuracy: 1.0000\n",
      "Epoch 109/500\n",
      "1/1 [==============================] - 0s 29ms/step - loss: 0.0085 - accuracy: 1.0000\n",
      "Epoch 110/500\n",
      "1/1 [==============================] - 0s 28ms/step - loss: 2.3178e-04 - accuracy: 1.0000\n",
      "Epoch 111/500\n",
      "1/1 [==============================] - 0s 30ms/step - loss: 0.0090 - accuracy: 1.0000\n",
      "Epoch 112/500\n",
      "1/1 [==============================] - 0s 28ms/step - loss: 2.7211e-04 - accuracy: 1.0000\n",
      "Epoch 113/500\n",
      "1/1 [==============================] - 0s 40ms/step - loss: 8.7134e-04 - accuracy: 1.0000\n",
      "Epoch 114/500\n",
      "1/1 [==============================] - 0s 31ms/step - loss: 3.6544e-04 - accuracy: 1.0000\n",
      "Epoch 115/500\n",
      "1/1 [==============================] - 0s 95ms/step - loss: 0.0023 - accuracy: 1.0000\n",
      "Epoch 116/500\n",
      "1/1 [==============================] - 0s 105ms/step - loss: 8.2594e-04 - accuracy: 1.0000\n",
      "Epoch 117/500\n",
      "1/1 [==============================] - 0s 45ms/step - loss: 0.0033 - accuracy: 1.0000\n",
      "Epoch 118/500\n",
      "1/1 [==============================] - 0s 56ms/step - loss: 0.0015 - accuracy: 1.0000\n",
      "Epoch 119/500\n",
      "1/1 [==============================] - 0s 76ms/step - loss: 0.0017 - accuracy: 1.0000\n",
      "Epoch 120/500\n",
      "1/1 [==============================] - 0s 43ms/step - loss: 0.0015 - accuracy: 1.0000\n",
      "Epoch 121/500\n",
      "1/1 [==============================] - 0s 42ms/step - loss: 0.0029 - accuracy: 1.0000\n",
      "Epoch 122/500\n",
      "1/1 [==============================] - 0s 44ms/step - loss: 1.3052e-04 - accuracy: 1.0000\n",
      "Epoch 123/500\n",
      "1/1 [==============================] - 0s 66ms/step - loss: 9.8425e-04 - accuracy: 1.0000\n",
      "Epoch 124/500\n",
      "1/1 [==============================] - 0s 36ms/step - loss: 0.0011 - accuracy: 1.0000\n",
      "Epoch 125/500\n",
      "1/1 [==============================] - 0s 133ms/step - loss: 8.4699e-04 - accuracy: 1.0000\n",
      "Epoch 126/500\n",
      "1/1 [==============================] - 0s 26ms/step - loss: 0.0021 - accuracy: 1.0000\n",
      "Epoch 127/500\n",
      "1/1 [==============================] - 0s 80ms/step - loss: 0.0025 - accuracy: 1.0000\n",
      "Epoch 128/500\n",
      "1/1 [==============================] - 0s 51ms/step - loss: 0.0048 - accuracy: 1.0000\n",
      "Epoch 129/500\n",
      "1/1 [==============================] - 0s 49ms/step - loss: 2.7484e-04 - accuracy: 1.0000\n",
      "Epoch 130/500\n",
      "1/1 [==============================] - 0s 47ms/step - loss: 0.0017 - accuracy: 1.0000\n",
      "Epoch 131/500\n",
      "1/1 [==============================] - 0s 49ms/step - loss: 2.3864e-04 - accuracy: 1.0000\n",
      "Epoch 132/500\n",
      "1/1 [==============================] - 0s 43ms/step - loss: 3.2332e-04 - accuracy: 1.0000\n",
      "Epoch 133/500\n",
      "1/1 [==============================] - 0s 35ms/step - loss: 0.0018 - accuracy: 1.0000\n",
      "Epoch 134/500\n",
      "1/1 [==============================] - 0s 37ms/step - loss: 5.3867e-04 - accuracy: 1.0000\n",
      "Epoch 135/500\n",
      "1/1 [==============================] - 0s 44ms/step - loss: 0.0028 - accuracy: 1.0000\n",
      "Epoch 136/500\n",
      "1/1 [==============================] - 0s 37ms/step - loss: 1.9026e-04 - accuracy: 1.0000\n",
      "Epoch 137/500\n",
      "1/1 [==============================] - 0s 46ms/step - loss: 3.6943e-04 - accuracy: 1.0000\n",
      "Epoch 138/500\n",
      "1/1 [==============================] - 0s 56ms/step - loss: 0.0024 - accuracy: 1.0000\n",
      "Epoch 139/500\n",
      "1/1 [==============================] - 0s 40ms/step - loss: 2.8521e-04 - accuracy: 1.0000\n",
      "Epoch 140/500\n",
      "1/1 [==============================] - 0s 35ms/step - loss: 0.0016 - accuracy: 1.0000\n",
      "Epoch 141/500\n",
      "1/1 [==============================] - 0s 34ms/step - loss: 0.0014 - accuracy: 1.0000\n",
      "Epoch 142/500\n",
      "1/1 [==============================] - 0s 38ms/step - loss: 0.0012 - accuracy: 1.0000\n",
      "Epoch 143/500\n",
      "1/1 [==============================] - 0s 37ms/step - loss: 6.9444e-04 - accuracy: 1.0000\n",
      "Epoch 144/500\n",
      "1/1 [==============================] - 0s 33ms/step - loss: 3.2614e-04 - accuracy: 1.0000\n",
      "Epoch 145/500\n",
      "1/1 [==============================] - 0s 33ms/step - loss: 0.0020 - accuracy: 1.0000\n",
      "Epoch 146/500\n",
      "1/1 [==============================] - 0s 41ms/step - loss: 1.9199e-04 - accuracy: 1.0000\n",
      "Epoch 147/500\n",
      "1/1 [==============================] - 0s 47ms/step - loss: 3.7044e-04 - accuracy: 1.0000\n",
      "Epoch 148/500\n",
      "1/1 [==============================] - 0s 10ms/step - loss: 8.8792e-04 - accuracy: 1.0000\n",
      "Epoch 149/500\n",
      "1/1 [==============================] - 0s 9ms/step - loss: 1.1192e-04 - accuracy: 1.0000\n",
      "Epoch 150/500\n",
      "1/1 [==============================] - 0s 12ms/step - loss: 5.4723e-04 - accuracy: 1.0000\n",
      "Epoch 151/500\n",
      "1/1 [==============================] - 0s 30ms/step - loss: 1.5412e-04 - accuracy: 1.0000\n",
      "Epoch 152/500\n",
      "1/1 [==============================] - 0s 25ms/step - loss: 0.0018 - accuracy: 1.0000\n",
      "Epoch 153/500\n",
      "1/1 [==============================] - 0s 30ms/step - loss: 5.9854e-04 - accuracy: 1.0000\n",
      "Epoch 154/500\n",
      "1/1 [==============================] - 0s 27ms/step - loss: 1.5302e-05 - accuracy: 1.0000\n",
      "Epoch 155/500\n",
      "1/1 [==============================] - 0s 28ms/step - loss: 0.0046 - accuracy: 1.0000\n",
      "Epoch 156/500\n",
      "1/1 [==============================] - 0s 30ms/step - loss: 0.0052 - accuracy: 1.0000\n",
      "Epoch 157/500\n",
      "1/1 [==============================] - 0s 25ms/step - loss: 5.6637e-04 - accuracy: 1.0000\n",
      "Epoch 158/500\n",
      "1/1 [==============================] - 0s 32ms/step - loss: 1.4046e-04 - accuracy: 1.0000\n",
      "Epoch 159/500\n",
      "1/1 [==============================] - 0s 29ms/step - loss: 4.2264e-04 - accuracy: 1.0000\n",
      "Epoch 160/500\n",
      "1/1 [==============================] - 0s 32ms/step - loss: 7.5444e-05 - accuracy: 1.0000\n",
      "Epoch 161/500\n",
      "1/1 [==============================] - 0s 44ms/step - loss: 9.1107e-05 - accuracy: 1.0000\n",
      "Epoch 162/500\n",
      "1/1 [==============================] - 0s 36ms/step - loss: 9.3743e-05 - accuracy: 1.0000\n",
      "Epoch 163/500\n"
     ]
    },
    {
     "name": "stdout",
     "output_type": "stream",
     "text": [
      "1/1 [==============================] - 0s 35ms/step - loss: 4.6595e-04 - accuracy: 1.0000\n",
      "Epoch 164/500\n",
      "1/1 [==============================] - 0s 33ms/step - loss: 1.4523e-04 - accuracy: 1.0000\n",
      "Epoch 165/500\n",
      "1/1 [==============================] - 0s 35ms/step - loss: 2.3223e-04 - accuracy: 1.0000\n",
      "Epoch 166/500\n",
      "1/1 [==============================] - 0s 34ms/step - loss: 1.4504e-04 - accuracy: 1.0000\n",
      "Epoch 167/500\n",
      "1/1 [==============================] - 0s 31ms/step - loss: 6.1855e-05 - accuracy: 1.0000\n",
      "Epoch 168/500\n",
      "1/1 [==============================] - 0s 32ms/step - loss: 1.7515e-04 - accuracy: 1.0000\n",
      "Epoch 169/500\n",
      "1/1 [==============================] - 0s 29ms/step - loss: 3.2498e-04 - accuracy: 1.0000\n",
      "Epoch 170/500\n",
      "1/1 [==============================] - 0s 39ms/step - loss: 0.0015 - accuracy: 1.0000\n",
      "Epoch 171/500\n",
      "1/1 [==============================] - 0s 29ms/step - loss: 2.9982e-04 - accuracy: 1.0000\n",
      "Epoch 172/500\n",
      "1/1 [==============================] - 0s 27ms/step - loss: 0.0014 - accuracy: 1.0000\n",
      "Epoch 173/500\n",
      "1/1 [==============================] - 0s 28ms/step - loss: 0.0022 - accuracy: 1.0000\n",
      "Epoch 174/500\n",
      "1/1 [==============================] - 0s 25ms/step - loss: 3.0592e-04 - accuracy: 1.0000\n",
      "Epoch 175/500\n",
      "1/1 [==============================] - 0s 23ms/step - loss: 4.1926e-05 - accuracy: 1.0000\n",
      "Epoch 176/500\n",
      "1/1 [==============================] - 0s 24ms/step - loss: 2.3746e-04 - accuracy: 1.0000\n",
      "Epoch 177/500\n",
      "1/1 [==============================] - 0s 24ms/step - loss: 2.8043e-05 - accuracy: 1.0000\n",
      "Epoch 178/500\n",
      "1/1 [==============================] - 0s 19ms/step - loss: 0.0021 - accuracy: 1.0000\n",
      "Epoch 179/500\n",
      "1/1 [==============================] - 0s 23ms/step - loss: 5.9717e-04 - accuracy: 1.0000\n",
      "Epoch 180/500\n",
      "1/1 [==============================] - 0s 21ms/step - loss: 1.8609e-04 - accuracy: 1.0000\n",
      "Epoch 181/500\n",
      "1/1 [==============================] - 0s 19ms/step - loss: 0.0011 - accuracy: 1.0000\n",
      "Epoch 182/500\n",
      "1/1 [==============================] - 0s 24ms/step - loss: 3.4939e-05 - accuracy: 1.0000\n",
      "Epoch 183/500\n",
      "1/1 [==============================] - 0s 19ms/step - loss: 5.6924e-05 - accuracy: 1.0000\n",
      "Epoch 184/500\n",
      "1/1 [==============================] - 0s 19ms/step - loss: 0.0011 - accuracy: 1.0000\n",
      "Epoch 185/500\n",
      "1/1 [==============================] - 0s 18ms/step - loss: 1.1596e-04 - accuracy: 1.0000\n",
      "Epoch 186/500\n",
      "1/1 [==============================] - 0s 16ms/step - loss: 0.0108 - accuracy: 1.0000\n",
      "Epoch 187/500\n",
      "1/1 [==============================] - 0s 18ms/step - loss: 5.4898e-04 - accuracy: 1.0000\n",
      "Epoch 188/500\n",
      "1/1 [==============================] - 0s 19ms/step - loss: 7.4841e-04 - accuracy: 1.0000\n",
      "Epoch 189/500\n",
      "1/1 [==============================] - 0s 17ms/step - loss: 5.8704e-05 - accuracy: 1.0000\n",
      "Epoch 190/500\n",
      "1/1 [==============================] - 0s 18ms/step - loss: 0.0024 - accuracy: 1.0000\n",
      "Epoch 191/500\n",
      "1/1 [==============================] - 0s 15ms/step - loss: 0.0026 - accuracy: 1.0000\n",
      "Epoch 192/500\n",
      "1/1 [==============================] - 0s 18ms/step - loss: 0.0017 - accuracy: 1.0000\n",
      "Epoch 193/500\n",
      "1/1 [==============================] - 0s 17ms/step - loss: 7.3387e-05 - accuracy: 1.0000\n",
      "Epoch 194/500\n",
      "1/1 [==============================] - 0s 24ms/step - loss: 8.1803e-05 - accuracy: 1.0000\n",
      "Epoch 195/500\n",
      "1/1 [==============================] - 0s 15ms/step - loss: 0.0033 - accuracy: 1.0000\n",
      "Epoch 196/500\n",
      "1/1 [==============================] - 0s 16ms/step - loss: 3.2647e-05 - accuracy: 1.0000\n",
      "Epoch 197/500\n",
      "1/1 [==============================] - 0s 5ms/step - loss: 5.4304e-05 - accuracy: 1.0000\n",
      "Epoch 198/500\n",
      "1/1 [==============================] - 0s 10ms/step - loss: 1.2781e-04 - accuracy: 1.0000\n",
      "Epoch 199/500\n",
      "1/1 [==============================] - 0s 6ms/step - loss: 2.5438e-04 - accuracy: 1.0000\n",
      "Epoch 200/500\n",
      "1/1 [==============================] - 0s 7ms/step - loss: 6.3556e-04 - accuracy: 1.0000\n",
      "Epoch 201/500\n",
      "1/1 [==============================] - 0s 17ms/step - loss: 2.2371e-04 - accuracy: 1.0000\n",
      "Epoch 202/500\n",
      "1/1 [==============================] - 0s 21ms/step - loss: 4.6261e-04 - accuracy: 1.0000\n",
      "Epoch 203/500\n",
      "1/1 [==============================] - 0s 22ms/step - loss: 5.6212e-04 - accuracy: 1.0000\n",
      "Epoch 204/500\n",
      "1/1 [==============================] - 0s 22ms/step - loss: 0.0166 - accuracy: 1.0000\n",
      "Epoch 205/500\n",
      "1/1 [==============================] - 0s 22ms/step - loss: 7.5929e-05 - accuracy: 1.0000\n",
      "Epoch 206/500\n",
      "1/1 [==============================] - 0s 21ms/step - loss: 0.0012 - accuracy: 1.0000\n",
      "Epoch 207/500\n",
      "1/1 [==============================] - 0s 21ms/step - loss: 6.8452e-04 - accuracy: 1.0000\n",
      "Epoch 208/500\n",
      "1/1 [==============================] - 0s 27ms/step - loss: 2.7669e-06 - accuracy: 1.0000\n",
      "Epoch 209/500\n",
      "1/1 [==============================] - 0s 18ms/step - loss: 5.6444e-04 - accuracy: 1.0000\n",
      "Epoch 210/500\n",
      "1/1 [==============================] - 0s 19ms/step - loss: 1.7849e-04 - accuracy: 1.0000\n",
      "Epoch 211/500\n",
      "1/1 [==============================] - 0s 18ms/step - loss: 0.0030 - accuracy: 1.0000\n",
      "Epoch 212/500\n",
      "1/1 [==============================] - 0s 18ms/step - loss: 9.7350e-05 - accuracy: 1.0000\n",
      "Epoch 213/500\n",
      "1/1 [==============================] - 0s 24ms/step - loss: 0.0038 - accuracy: 1.0000\n",
      "Epoch 214/500\n",
      "1/1 [==============================] - 0s 18ms/step - loss: 9.0450e-04 - accuracy: 1.0000\n",
      "Epoch 215/500\n",
      "1/1 [==============================] - 0s 18ms/step - loss: 6.2018e-05 - accuracy: 1.0000\n",
      "Epoch 216/500\n",
      "1/1 [==============================] - 0s 20ms/step - loss: 3.9464e-06 - accuracy: 1.0000\n",
      "Epoch 217/500\n",
      "1/1 [==============================] - 0s 18ms/step - loss: 1.9230e-05 - accuracy: 1.0000\n",
      "Epoch 218/500\n",
      "1/1 [==============================] - 0s 19ms/step - loss: 2.6537e-05 - accuracy: 1.0000\n",
      "Epoch 219/500\n",
      "1/1 [==============================] - 0s 22ms/step - loss: 7.6363e-04 - accuracy: 1.0000\n",
      "Epoch 220/500\n",
      "1/1 [==============================] - 0s 17ms/step - loss: 3.7994e-04 - accuracy: 1.0000\n",
      "Epoch 221/500\n",
      "1/1 [==============================] - 0s 18ms/step - loss: 1.0267e-04 - accuracy: 1.0000\n",
      "Epoch 222/500\n",
      "1/1 [==============================] - 0s 21ms/step - loss: 1.5595e-04 - accuracy: 1.0000\n",
      "Epoch 223/500\n",
      "1/1 [==============================] - 0s 22ms/step - loss: 0.0019 - accuracy: 1.0000\n",
      "Epoch 224/500\n",
      "1/1 [==============================] - 0s 15ms/step - loss: 3.0181e-04 - accuracy: 1.0000\n",
      "Epoch 225/500\n",
      "1/1 [==============================] - 0s 17ms/step - loss: 0.0026 - accuracy: 1.0000\n",
      "Epoch 226/500\n",
      "1/1 [==============================] - 0s 19ms/step - loss: 0.0028 - accuracy: 1.0000\n",
      "Epoch 227/500\n",
      "1/1 [==============================] - 0s 21ms/step - loss: 9.5349e-04 - accuracy: 1.0000\n",
      "Epoch 228/500\n",
      "1/1 [==============================] - 0s 48ms/step - loss: 6.1192e-05 - accuracy: 1.0000\n",
      "Epoch 229/500\n",
      "1/1 [==============================] - 0s 74ms/step - loss: 4.6605e-04 - accuracy: 1.0000\n",
      "Epoch 230/500\n",
      "1/1 [==============================] - 0s 31ms/step - loss: 7.9861e-04 - accuracy: 1.0000\n",
      "Epoch 231/500\n",
      "1/1 [==============================] - 0s 18ms/step - loss: 7.3206e-04 - accuracy: 1.0000\n",
      "Epoch 232/500\n",
      "1/1 [==============================] - 0s 24ms/step - loss: 6.0060e-05 - accuracy: 1.0000\n",
      "Epoch 233/500\n",
      "1/1 [==============================] - 0s 21ms/step - loss: 3.9690e-05 - accuracy: 1.0000\n",
      "Epoch 234/500\n",
      "1/1 [==============================] - 0s 22ms/step - loss: 5.1405e-04 - accuracy: 1.0000\n",
      "Epoch 235/500\n",
      "1/1 [==============================] - 0s 29ms/step - loss: 2.8903e-05 - accuracy: 1.0000\n",
      "Epoch 236/500\n",
      "1/1 [==============================] - 0s 31ms/step - loss: 7.0511e-04 - accuracy: 1.0000\n",
      "Epoch 237/500\n",
      "1/1 [==============================] - 0s 43ms/step - loss: 1.1230e-05 - accuracy: 1.0000\n",
      "Epoch 238/500\n",
      "1/1 [==============================] - 0s 24ms/step - loss: 1.9719e-05 - accuracy: 1.0000\n",
      "Epoch 239/500\n",
      "1/1 [==============================] - 0s 35ms/step - loss: 1.9023e-04 - accuracy: 1.0000\n",
      "Epoch 240/500\n",
      "1/1 [==============================] - 0s 36ms/step - loss: 2.1615e-04 - accuracy: 1.0000\n",
      "Epoch 241/500\n",
      "1/1 [==============================] - 0s 27ms/step - loss: 8.1743e-05 - accuracy: 1.0000\n",
      "Epoch 242/500\n"
     ]
    },
    {
     "name": "stdout",
     "output_type": "stream",
     "text": [
      "1/1 [==============================] - 0s 27ms/step - loss: 1.7334e-05 - accuracy: 1.0000\n",
      "Epoch 243/500\n",
      "1/1 [==============================] - 0s 35ms/step - loss: 4.6928e-05 - accuracy: 1.0000\n",
      "Epoch 244/500\n",
      "1/1 [==============================] - 0s 23ms/step - loss: 1.6443e-05 - accuracy: 1.0000\n",
      "Epoch 245/500\n",
      "1/1 [==============================] - 0s 42ms/step - loss: 1.1636e-04 - accuracy: 1.0000\n",
      "Epoch 246/500\n",
      "1/1 [==============================] - 0s 25ms/step - loss: 2.2429e-05 - accuracy: 1.0000\n",
      "Epoch 247/500\n",
      "1/1 [==============================] - 0s 26ms/step - loss: 8.8405e-05 - accuracy: 1.0000\n",
      "Epoch 248/500\n",
      "1/1 [==============================] - 0s 30ms/step - loss: 0.0016 - accuracy: 1.0000\n",
      "Epoch 249/500\n",
      "1/1 [==============================] - 0s 30ms/step - loss: 9.0938e-05 - accuracy: 1.0000\n",
      "Epoch 250/500\n",
      "1/1 [==============================] - 0s 27ms/step - loss: 4.5612e-06 - accuracy: 1.0000\n",
      "Epoch 251/500\n",
      "1/1 [==============================] - 0s 21ms/step - loss: 1.5911e-04 - accuracy: 1.0000\n",
      "Epoch 252/500\n",
      "1/1 [==============================] - 0s 24ms/step - loss: 1.2159e-05 - accuracy: 1.0000\n",
      "Epoch 253/500\n",
      "1/1 [==============================] - 0s 25ms/step - loss: 6.7635e-05 - accuracy: 1.0000\n",
      "Epoch 254/500\n",
      "1/1 [==============================] - 0s 31ms/step - loss: 6.5051e-04 - accuracy: 1.0000\n",
      "Epoch 255/500\n",
      "1/1 [==============================] - 0s 21ms/step - loss: 9.1983e-05 - accuracy: 1.0000\n",
      "Epoch 256/500\n",
      "1/1 [==============================] - 0s 26ms/step - loss: 1.4109e-04 - accuracy: 1.0000\n",
      "Epoch 257/500\n",
      "1/1 [==============================] - 0s 27ms/step - loss: 1.6849e-04 - accuracy: 1.0000\n",
      "Epoch 258/500\n",
      "1/1 [==============================] - 0s 23ms/step - loss: 0.0011 - accuracy: 1.0000\n",
      "Epoch 259/500\n",
      "1/1 [==============================] - 0s 23ms/step - loss: 3.6226e-05 - accuracy: 1.0000\n",
      "Epoch 260/500\n",
      "1/1 [==============================] - 0s 25ms/step - loss: 1.0239e-05 - accuracy: 1.0000\n",
      "Epoch 261/500\n",
      "1/1 [==============================] - 0s 20ms/step - loss: 1.6175e-04 - accuracy: 1.0000\n",
      "Epoch 262/500\n",
      "1/1 [==============================] - 0s 20ms/step - loss: 6.3142e-05 - accuracy: 1.0000\n",
      "Epoch 263/500\n",
      "1/1 [==============================] - 0s 18ms/step - loss: 0.0010 - accuracy: 1.0000\n",
      "Epoch 264/500\n",
      "1/1 [==============================] - 0s 16ms/step - loss: 1.2297e-05 - accuracy: 1.0000\n",
      "Epoch 265/500\n",
      "1/1 [==============================] - 0s 14ms/step - loss: 3.9071e-04 - accuracy: 1.0000\n",
      "Epoch 266/500\n",
      "1/1 [==============================] - 0s 14ms/step - loss: 7.3523e-05 - accuracy: 1.0000\n",
      "Epoch 267/500\n",
      "1/1 [==============================] - 0s 24ms/step - loss: 0.0020 - accuracy: 1.0000\n",
      "Epoch 268/500\n",
      "1/1 [==============================] - 0s 18ms/step - loss: 7.1836e-05 - accuracy: 1.0000\n",
      "Epoch 269/500\n",
      "1/1 [==============================] - 0s 15ms/step - loss: 1.4712e-04 - accuracy: 1.0000\n",
      "Epoch 270/500\n",
      "1/1 [==============================] - 0s 20ms/step - loss: 6.0499e-04 - accuracy: 1.0000\n",
      "Epoch 271/500\n",
      "1/1 [==============================] - 0s 14ms/step - loss: 5.8702e-04 - accuracy: 1.0000\n",
      "Epoch 272/500\n",
      "1/1 [==============================] - 0s 15ms/step - loss: 3.1804e-05 - accuracy: 1.0000\n",
      "Epoch 273/500\n",
      "1/1 [==============================] - 0s 16ms/step - loss: 5.6922e-05 - accuracy: 1.0000\n",
      "Epoch 274/500\n",
      "1/1 [==============================] - 0s 13ms/step - loss: 2.7817e-04 - accuracy: 1.0000\n",
      "Epoch 275/500\n",
      "1/1 [==============================] - 0s 14ms/step - loss: 2.5349e-04 - accuracy: 1.0000\n",
      "Epoch 276/500\n",
      "1/1 [==============================] - 0s 14ms/step - loss: 2.3388e-05 - accuracy: 1.0000\n",
      "Epoch 277/500\n",
      "1/1 [==============================] - 0s 17ms/step - loss: 1.0442e-04 - accuracy: 1.0000\n",
      "Epoch 278/500\n",
      "1/1 [==============================] - 0s 18ms/step - loss: 3.5200e-04 - accuracy: 1.0000\n",
      "Epoch 279/500\n",
      "1/1 [==============================] - 0s 19ms/step - loss: 0.0017 - accuracy: 1.0000\n",
      "Epoch 280/500\n",
      "1/1 [==============================] - 0s 17ms/step - loss: 7.7880e-05 - accuracy: 1.0000\n",
      "Epoch 281/500\n",
      "1/1 [==============================] - 0s 19ms/step - loss: 0.0037 - accuracy: 1.0000\n",
      "Epoch 282/500\n",
      "1/1 [==============================] - 0s 14ms/step - loss: 0.0011 - accuracy: 1.0000\n",
      "Epoch 283/500\n",
      "1/1 [==============================] - 0s 21ms/step - loss: 6.4621e-06 - accuracy: 1.0000\n",
      "Epoch 284/500\n",
      "1/1 [==============================] - 0s 18ms/step - loss: 2.7482e-04 - accuracy: 1.0000\n",
      "Epoch 285/500\n",
      "1/1 [==============================] - 0s 18ms/step - loss: 4.7251e-05 - accuracy: 1.0000\n",
      "Epoch 286/500\n",
      "1/1 [==============================] - 0s 16ms/step - loss: 9.4869e-05 - accuracy: 1.0000\n",
      "Epoch 287/500\n",
      "1/1 [==============================] - 0s 15ms/step - loss: 1.9949e-04 - accuracy: 1.0000\n",
      "Epoch 288/500\n",
      "1/1 [==============================] - 0s 19ms/step - loss: 1.7115e-04 - accuracy: 1.0000\n",
      "Epoch 289/500\n",
      "1/1 [==============================] - 0s 20ms/step - loss: 1.9329e-05 - accuracy: 1.0000\n",
      "Epoch 290/500\n",
      "1/1 [==============================] - 0s 19ms/step - loss: 1.5708e-04 - accuracy: 1.0000\n",
      "Epoch 291/500\n",
      "1/1 [==============================] - 0s 16ms/step - loss: 1.1568e-04 - accuracy: 1.0000\n",
      "Epoch 292/500\n",
      "1/1 [==============================] - 0s 14ms/step - loss: 1.1693e-04 - accuracy: 1.0000\n",
      "Epoch 293/500\n",
      "1/1 [==============================] - 0s 16ms/step - loss: 6.5102e-05 - accuracy: 1.0000\n",
      "Epoch 294/500\n",
      "1/1 [==============================] - 0s 16ms/step - loss: 1.2508e-04 - accuracy: 1.0000\n",
      "Epoch 295/500\n",
      "1/1 [==============================] - 0s 16ms/step - loss: 2.7541e-05 - accuracy: 1.0000\n",
      "Epoch 296/500\n",
      "1/1 [==============================] - 0s 18ms/step - loss: 2.1751e-04 - accuracy: 1.0000\n",
      "Epoch 297/500\n",
      "1/1 [==============================] - 0s 16ms/step - loss: 2.1318e-05 - accuracy: 1.0000\n",
      "Epoch 298/500\n",
      "1/1 [==============================] - 0s 15ms/step - loss: 1.2153e-04 - accuracy: 1.0000\n",
      "Epoch 299/500\n",
      "1/1 [==============================] - 0s 16ms/step - loss: 5.7533e-05 - accuracy: 1.0000\n",
      "Epoch 300/500\n",
      "1/1 [==============================] - 0s 14ms/step - loss: 1.7151e-04 - accuracy: 1.0000\n",
      "Epoch 301/500\n",
      "1/1 [==============================] - 0s 20ms/step - loss: 6.0716e-04 - accuracy: 1.0000\n",
      "Epoch 302/500\n",
      "1/1 [==============================] - 0s 14ms/step - loss: 1.7577e-04 - accuracy: 1.0000\n",
      "Epoch 303/500\n",
      "1/1 [==============================] - 0s 15ms/step - loss: 3.9736e-04 - accuracy: 1.0000\n",
      "Epoch 304/500\n",
      "1/1 [==============================] - 0s 16ms/step - loss: 2.1369e-04 - accuracy: 1.0000\n",
      "Epoch 305/500\n",
      "1/1 [==============================] - 0s 22ms/step - loss: 1.5277e-04 - accuracy: 1.0000\n",
      "Epoch 306/500\n",
      "1/1 [==============================] - 0s 19ms/step - loss: 1.0904e-05 - accuracy: 1.0000\n",
      "Epoch 307/500\n",
      "1/1 [==============================] - 0s 18ms/step - loss: 1.2633e-04 - accuracy: 1.0000\n",
      "Epoch 308/500\n",
      "1/1 [==============================] - 0s 20ms/step - loss: 6.3368e-06 - accuracy: 1.0000\n",
      "Epoch 309/500\n",
      "1/1 [==============================] - 0s 19ms/step - loss: 7.8531e-05 - accuracy: 1.0000\n",
      "Epoch 310/500\n",
      "1/1 [==============================] - 0s 21ms/step - loss: 1.5680e-04 - accuracy: 1.0000\n",
      "Epoch 311/500\n",
      "1/1 [==============================] - 0s 17ms/step - loss: 0.0056 - accuracy: 1.0000\n",
      "Epoch 312/500\n",
      "1/1 [==============================] - 0s 18ms/step - loss: 2.0665e-05 - accuracy: 1.0000\n",
      "Epoch 313/500\n",
      "1/1 [==============================] - 0s 20ms/step - loss: 8.4197e-06 - accuracy: 1.0000\n",
      "Epoch 314/500\n",
      "1/1 [==============================] - 0s 14ms/step - loss: 2.0746e-04 - accuracy: 1.0000\n",
      "Epoch 315/500\n",
      "1/1 [==============================] - 0s 17ms/step - loss: 3.6814e-05 - accuracy: 1.0000\n",
      "Epoch 316/500\n",
      "1/1 [==============================] - 0s 19ms/step - loss: 1.1506e-05 - accuracy: 1.0000\n",
      "Epoch 317/500\n",
      "1/1 [==============================] - 0s 16ms/step - loss: 1.2843e-04 - accuracy: 1.0000\n",
      "Epoch 318/500\n",
      "1/1 [==============================] - 0s 13ms/step - loss: 6.9205e-05 - accuracy: 1.0000\n",
      "Epoch 319/500\n",
      "1/1 [==============================] - 0s 17ms/step - loss: 1.4831e-05 - accuracy: 1.0000\n",
      "Epoch 320/500\n",
      "1/1 [==============================] - 0s 10ms/step - loss: 4.7932e-05 - accuracy: 1.0000\n",
      "Epoch 321/500\n"
     ]
    },
    {
     "name": "stdout",
     "output_type": "stream",
     "text": [
      "1/1 [==============================] - 0s 6ms/step - loss: 3.1207e-05 - accuracy: 1.0000\n",
      "Epoch 322/500\n",
      "1/1 [==============================] - 0s 6ms/step - loss: 9.7615e-04 - accuracy: 1.0000\n",
      "Epoch 323/500\n",
      "1/1 [==============================] - 0s 20ms/step - loss: 3.4083e-05 - accuracy: 1.0000\n",
      "Epoch 324/500\n",
      "1/1 [==============================] - 0s 20ms/step - loss: 3.3951e-05 - accuracy: 1.0000\n",
      "Epoch 325/500\n",
      "1/1 [==============================] - 0s 21ms/step - loss: 0.0022 - accuracy: 1.0000\n",
      "Epoch 326/500\n",
      "1/1 [==============================] - 0s 22ms/step - loss: 1.1586e-04 - accuracy: 1.0000\n",
      "Epoch 327/500\n",
      "1/1 [==============================] - 0s 17ms/step - loss: 1.4983e-04 - accuracy: 1.0000\n",
      "Epoch 328/500\n",
      "1/1 [==============================] - 0s 18ms/step - loss: 3.0557e-05 - accuracy: 1.0000\n",
      "Epoch 329/500\n",
      "1/1 [==============================] - 0s 30ms/step - loss: 9.9441e-05 - accuracy: 1.0000\n",
      "Epoch 330/500\n",
      "1/1 [==============================] - 0s 21ms/step - loss: 7.1732e-04 - accuracy: 1.0000\n",
      "Epoch 331/500\n",
      "1/1 [==============================] - 0s 20ms/step - loss: 0.0021 - accuracy: 1.0000\n",
      "Epoch 332/500\n",
      "1/1 [==============================] - 0s 21ms/step - loss: 1.5288e-05 - accuracy: 1.0000\n",
      "Epoch 333/500\n",
      "1/1 [==============================] - 0s 17ms/step - loss: 0.0031 - accuracy: 1.0000\n",
      "Epoch 334/500\n",
      "1/1 [==============================] - 0s 26ms/step - loss: 2.3124e-05 - accuracy: 1.0000\n",
      "Epoch 335/500\n",
      "1/1 [==============================] - 0s 22ms/step - loss: 1.3367e-04 - accuracy: 1.0000\n",
      "Epoch 336/500\n",
      "1/1 [==============================] - 0s 24ms/step - loss: 4.3720e-04 - accuracy: 1.0000\n",
      "Epoch 337/500\n",
      "1/1 [==============================] - 0s 23ms/step - loss: 4.7572e-04 - accuracy: 1.0000\n",
      "Epoch 338/500\n",
      "1/1 [==============================] - 0s 26ms/step - loss: 0.0015 - accuracy: 1.0000\n",
      "Epoch 339/500\n",
      "1/1 [==============================] - 0s 23ms/step - loss: 1.1179e-04 - accuracy: 1.0000\n",
      "Epoch 340/500\n",
      "1/1 [==============================] - 0s 23ms/step - loss: 5.5273e-05 - accuracy: 1.0000\n",
      "Epoch 341/500\n",
      "1/1 [==============================] - 0s 21ms/step - loss: 4.0150e-05 - accuracy: 1.0000\n",
      "Epoch 342/500\n",
      "1/1 [==============================] - 0s 24ms/step - loss: 1.4759e-04 - accuracy: 1.0000\n",
      "Epoch 343/500\n",
      "1/1 [==============================] - 0s 27ms/step - loss: 9.0029e-06 - accuracy: 1.0000\n",
      "Epoch 344/500\n",
      "1/1 [==============================] - 0s 21ms/step - loss: 2.1636e-04 - accuracy: 1.0000\n",
      "Epoch 345/500\n",
      "1/1 [==============================] - 0s 19ms/step - loss: 9.2352e-05 - accuracy: 1.0000\n",
      "Epoch 346/500\n",
      "1/1 [==============================] - 0s 26ms/step - loss: 3.1494e-05 - accuracy: 1.0000\n",
      "Epoch 347/500\n",
      "1/1 [==============================] - 0s 20ms/step - loss: 3.0995e-05 - accuracy: 1.0000\n",
      "Epoch 348/500\n",
      "1/1 [==============================] - 0s 21ms/step - loss: 2.1128e-04 - accuracy: 1.0000\n",
      "Epoch 349/500\n",
      "1/1 [==============================] - 0s 27ms/step - loss: 8.2707e-04 - accuracy: 1.0000\n",
      "Epoch 350/500\n",
      "1/1 [==============================] - 0s 25ms/step - loss: 4.6693e-04 - accuracy: 1.0000\n",
      "Epoch 351/500\n",
      "1/1 [==============================] - 0s 22ms/step - loss: 1.5045e-05 - accuracy: 1.0000\n",
      "Epoch 352/500\n",
      "1/1 [==============================] - 0s 22ms/step - loss: 0.0081 - accuracy: 1.0000\n",
      "Epoch 353/500\n",
      "1/1 [==============================] - 0s 18ms/step - loss: 8.2564e-06 - accuracy: 1.0000\n",
      "Epoch 354/500\n",
      "1/1 [==============================] - 0s 86ms/step - loss: 1.1808e-05 - accuracy: 1.0000\n",
      "Epoch 355/500\n",
      "1/1 [==============================] - 0s 24ms/step - loss: 2.1832e-05 - accuracy: 1.0000\n",
      "Epoch 356/500\n",
      "1/1 [==============================] - 0s 40ms/step - loss: 5.1950e-05 - accuracy: 1.0000\n",
      "Epoch 357/500\n",
      "1/1 [==============================] - 0s 31ms/step - loss: 9.1544e-04 - accuracy: 1.0000\n",
      "Epoch 358/500\n",
      "1/1 [==============================] - 0s 24ms/step - loss: 4.3615e-05 - accuracy: 1.0000\n",
      "Epoch 359/500\n",
      "1/1 [==============================] - 0s 27ms/step - loss: 0.0024 - accuracy: 1.0000\n",
      "Epoch 360/500\n",
      "1/1 [==============================] - 0s 25ms/step - loss: 3.4392e-05 - accuracy: 1.0000\n",
      "Epoch 361/500\n",
      "1/1 [==============================] - 0s 21ms/step - loss: 1.6248e-04 - accuracy: 1.0000\n",
      "Epoch 362/500\n",
      "1/1 [==============================] - 0s 22ms/step - loss: 9.8640e-05 - accuracy: 1.0000\n",
      "Epoch 363/500\n",
      "1/1 [==============================] - 0s 23ms/step - loss: 1.1214e-04 - accuracy: 1.0000\n",
      "Epoch 364/500\n",
      "1/1 [==============================] - 0s 26ms/step - loss: 1.7735e-05 - accuracy: 1.0000\n",
      "Epoch 365/500\n",
      "1/1 [==============================] - 0s 23ms/step - loss: 3.7052e-05 - accuracy: 1.0000\n",
      "Epoch 366/500\n",
      "1/1 [==============================] - 0s 23ms/step - loss: 6.0060e-05 - accuracy: 1.0000\n",
      "Epoch 367/500\n",
      "1/1 [==============================] - 0s 24ms/step - loss: 2.0949e-04 - accuracy: 1.0000\n",
      "Epoch 368/500\n",
      "1/1 [==============================] - 0s 21ms/step - loss: 3.4609e-05 - accuracy: 1.0000\n",
      "Epoch 369/500\n",
      "1/1 [==============================] - 0s 25ms/step - loss: 1.2930e-05 - accuracy: 1.0000\n",
      "Epoch 370/500\n",
      "1/1 [==============================] - 0s 27ms/step - loss: 4.0492e-05 - accuracy: 1.0000\n",
      "Epoch 371/500\n",
      "1/1 [==============================] - 0s 23ms/step - loss: 0.0015 - accuracy: 1.0000\n",
      "Epoch 372/500\n",
      "1/1 [==============================] - 0s 11ms/step - loss: 5.0389e-05 - accuracy: 1.0000\n",
      "Epoch 373/500\n",
      "1/1 [==============================] - 0s 6ms/step - loss: 6.8777e-05 - accuracy: 1.0000\n",
      "Epoch 374/500\n",
      "1/1 [==============================] - 0s 12ms/step - loss: 8.8212e-06 - accuracy: 1.0000\n",
      "Epoch 375/500\n",
      "1/1 [==============================] - 0s 24ms/step - loss: 6.7635e-06 - accuracy: 1.0000\n",
      "Epoch 376/500\n",
      "1/1 [==============================] - 0s 50ms/step - loss: 4.8292e-05 - accuracy: 1.0000\n",
      "Epoch 377/500\n",
      "1/1 [==============================] - 0s 40ms/step - loss: 7.6229e-06 - accuracy: 1.0000\n",
      "Epoch 378/500\n",
      "1/1 [==============================] - 0s 47ms/step - loss: 9.0090e-05 - accuracy: 1.0000\n",
      "Epoch 379/500\n",
      "1/1 [==============================] - 0s 49ms/step - loss: 1.6622e-04 - accuracy: 1.0000\n",
      "Epoch 380/500\n",
      "1/1 [==============================] - 0s 40ms/step - loss: 4.6114e-06 - accuracy: 1.0000\n",
      "Epoch 381/500\n",
      "1/1 [==============================] - 0s 38ms/step - loss: 1.1726e-05 - accuracy: 1.0000\n",
      "Epoch 382/500\n",
      "1/1 [==============================] - 0s 46ms/step - loss: 8.4270e-05 - accuracy: 1.0000\n",
      "Epoch 383/500\n",
      "1/1 [==============================] - 0s 37ms/step - loss: 2.3641e-04 - accuracy: 1.0000\n",
      "Epoch 384/500\n",
      "1/1 [==============================] - 0s 51ms/step - loss: 8.6830e-06 - accuracy: 1.0000\n",
      "Epoch 385/500\n",
      "1/1 [==============================] - 0s 42ms/step - loss: 7.1335e-06 - accuracy: 1.0000\n",
      "Epoch 386/500\n",
      "1/1 [==============================] - 0s 39ms/step - loss: 1.3161e-04 - accuracy: 1.0000\n",
      "Epoch 387/500\n",
      "1/1 [==============================] - 0s 36ms/step - loss: 6.9005e-04 - accuracy: 1.0000\n",
      "Epoch 388/500\n",
      "1/1 [==============================] - 0s 41ms/step - loss: 5.8827e-04 - accuracy: 1.0000\n",
      "Epoch 389/500\n",
      "1/1 [==============================] - 0s 36ms/step - loss: 6.9883e-05 - accuracy: 1.0000\n",
      "Epoch 390/500\n",
      "1/1 [==============================] - 0s 34ms/step - loss: 1.0020e-04 - accuracy: 1.0000\n",
      "Epoch 391/500\n",
      "1/1 [==============================] - 0s 34ms/step - loss: 2.4485e-05 - accuracy: 1.0000\n",
      "Epoch 392/500\n",
      "1/1 [==============================] - 0s 36ms/step - loss: 4.1409e-06 - accuracy: 1.0000\n",
      "Epoch 393/500\n",
      "1/1 [==============================] - 0s 41ms/step - loss: 3.8995e-05 - accuracy: 1.0000\n",
      "Epoch 394/500\n",
      "1/1 [==============================] - 0s 32ms/step - loss: 1.6659e-04 - accuracy: 1.0000\n",
      "Epoch 395/500\n",
      "1/1 [==============================] - 0s 34ms/step - loss: 3.1621e-05 - accuracy: 1.0000\n",
      "Epoch 396/500\n",
      "1/1 [==============================] - 0s 30ms/step - loss: 3.3253e-07 - accuracy: 1.0000\n",
      "Epoch 397/500\n",
      "1/1 [==============================] - 0s 28ms/step - loss: 1.6442e-05 - accuracy: 1.0000\n",
      "Epoch 398/500\n",
      "1/1 [==============================] - 0s 30ms/step - loss: 2.1647e-04 - accuracy: 1.0000\n",
      "Epoch 399/500\n",
      "1/1 [==============================] - 0s 26ms/step - loss: 8.7520e-04 - accuracy: 1.0000\n",
      "Epoch 400/500\n"
     ]
    },
    {
     "name": "stdout",
     "output_type": "stream",
     "text": [
      "1/1 [==============================] - 0s 24ms/step - loss: 0.0015 - accuracy: 1.0000\n",
      "Epoch 401/500\n",
      "1/1 [==============================] - 0s 29ms/step - loss: 6.1221e-05 - accuracy: 1.0000\n",
      "Epoch 402/500\n",
      "1/1 [==============================] - 0s 23ms/step - loss: 5.6038e-05 - accuracy: 1.0000\n",
      "Epoch 403/500\n",
      "1/1 [==============================] - 0s 27ms/step - loss: 2.4505e-05 - accuracy: 1.0000\n",
      "Epoch 404/500\n",
      "1/1 [==============================] - 0s 25ms/step - loss: 1.4612e-04 - accuracy: 1.0000\n",
      "Epoch 405/500\n",
      "1/1 [==============================] - 0s 23ms/step - loss: 3.8948e-04 - accuracy: 1.0000\n",
      "Epoch 406/500\n",
      "1/1 [==============================] - 0s 22ms/step - loss: 4.8231e-05 - accuracy: 1.0000\n",
      "Epoch 407/500\n",
      "1/1 [==============================] - 0s 29ms/step - loss: 1.1532e-04 - accuracy: 1.0000\n",
      "Epoch 408/500\n",
      "1/1 [==============================] - 0s 24ms/step - loss: 3.0210e-05 - accuracy: 1.0000\n",
      "Epoch 409/500\n",
      "1/1 [==============================] - 0s 17ms/step - loss: 9.4112e-07 - accuracy: 1.0000\n",
      "Epoch 410/500\n",
      "1/1 [==============================] - 0s 20ms/step - loss: 1.7466e-05 - accuracy: 1.0000\n",
      "Epoch 411/500\n",
      "1/1 [==============================] - 0s 16ms/step - loss: 1.5867e-05 - accuracy: 1.0000\n",
      "Epoch 412/500\n",
      "1/1 [==============================] - 0s 26ms/step - loss: 1.6546e-04 - accuracy: 1.0000\n",
      "Epoch 413/500\n",
      "1/1 [==============================] - 0s 19ms/step - loss: 6.1924e-06 - accuracy: 1.0000\n",
      "Epoch 414/500\n",
      "1/1 [==============================] - 0s 16ms/step - loss: 3.6769e-04 - accuracy: 1.0000\n",
      "Epoch 415/500\n",
      "1/1 [==============================] - 0s 23ms/step - loss: 9.6554e-06 - accuracy: 1.0000\n",
      "Epoch 416/500\n",
      "1/1 [==============================] - 0s 18ms/step - loss: 5.9227e-06 - accuracy: 1.0000\n",
      "Epoch 417/500\n",
      "1/1 [==============================] - 0s 16ms/step - loss: 5.8912e-05 - accuracy: 1.0000\n",
      "Epoch 418/500\n",
      "1/1 [==============================] - 0s 17ms/step - loss: 5.6394e-04 - accuracy: 1.0000\n",
      "Epoch 419/500\n",
      "1/1 [==============================] - 0s 19ms/step - loss: 8.3897e-05 - accuracy: 1.0000\n",
      "Epoch 420/500\n",
      "1/1 [==============================] - 0s 14ms/step - loss: 1.3176e-06 - accuracy: 1.0000\n",
      "Epoch 421/500\n",
      "1/1 [==============================] - 0s 18ms/step - loss: 7.4582e-05 - accuracy: 1.0000\n",
      "Epoch 422/500\n",
      "1/1 [==============================] - 0s 20ms/step - loss: 1.2222e-05 - accuracy: 1.0000\n",
      "Epoch 423/500\n",
      "1/1 [==============================] - 0s 24ms/step - loss: 6.4897e-04 - accuracy: 1.0000\n",
      "Epoch 424/500\n",
      "1/1 [==============================] - 0s 18ms/step - loss: 1.0283e-05 - accuracy: 1.0000\n",
      "Epoch 425/500\n",
      "1/1 [==============================] - 0s 20ms/step - loss: 1.2548e-06 - accuracy: 1.0000\n",
      "Epoch 426/500\n",
      "1/1 [==============================] - 0s 15ms/step - loss: 9.6802e-04 - accuracy: 1.0000\n",
      "Epoch 427/500\n",
      "1/1 [==============================] - 0s 25ms/step - loss: 6.4103e-04 - accuracy: 1.0000\n",
      "Epoch 428/500\n",
      "1/1 [==============================] - 0s 15ms/step - loss: 2.5787e-06 - accuracy: 1.0000\n",
      "Epoch 429/500\n",
      "1/1 [==============================] - 0s 22ms/step - loss: 1.0556e-04 - accuracy: 1.0000\n",
      "Epoch 430/500\n",
      "1/1 [==============================] - 0s 19ms/step - loss: 2.1268e-05 - accuracy: 1.0000\n",
      "Epoch 431/500\n",
      "1/1 [==============================] - 0s 21ms/step - loss: 1.5698e-04 - accuracy: 1.0000\n",
      "Epoch 432/500\n",
      "1/1 [==============================] - 0s 14ms/step - loss: 0.0022 - accuracy: 1.0000\n",
      "Epoch 433/500\n",
      "1/1 [==============================] - 0s 13ms/step - loss: 2.4056e-05 - accuracy: 1.0000\n",
      "Epoch 434/500\n",
      "1/1 [==============================] - 0s 16ms/step - loss: 5.6843e-06 - accuracy: 1.0000\n",
      "Epoch 435/500\n",
      "1/1 [==============================] - 0s 15ms/step - loss: 1.8067e-05 - accuracy: 1.0000\n",
      "Epoch 436/500\n",
      "1/1 [==============================] - 0s 19ms/step - loss: 8.5137e-06 - accuracy: 1.0000\n",
      "Epoch 437/500\n",
      "1/1 [==============================] - 0s 16ms/step - loss: 1.0145e-04 - accuracy: 1.0000\n",
      "Epoch 438/500\n",
      "1/1 [==============================] - 0s 18ms/step - loss: 9.6338e-04 - accuracy: 1.0000\n",
      "Epoch 439/500\n",
      "1/1 [==============================] - 0s 19ms/step - loss: 7.3592e-06 - accuracy: 1.0000\n",
      "Epoch 440/500\n",
      "1/1 [==============================] - 0s 17ms/step - loss: 3.1199e-04 - accuracy: 1.0000\n",
      "Epoch 441/500\n",
      "1/1 [==============================] - 0s 20ms/step - loss: 1.3677e-05 - accuracy: 1.0000\n",
      "Epoch 442/500\n",
      "1/1 [==============================] - 0s 22ms/step - loss: 0.0059 - accuracy: 1.0000\n",
      "Epoch 443/500\n",
      "1/1 [==============================] - 0s 19ms/step - loss: 2.0014e-06 - accuracy: 1.0000\n",
      "Epoch 444/500\n",
      "1/1 [==============================] - 0s 16ms/step - loss: 6.2788e-05 - accuracy: 1.0000\n",
      "Epoch 445/500\n",
      "1/1 [==============================] - 0s 21ms/step - loss: 1.0853e-04 - accuracy: 1.0000\n",
      "Epoch 446/500\n",
      "1/1 [==============================] - 0s 19ms/step - loss: 7.1837e-06 - accuracy: 1.0000\n",
      "Epoch 447/500\n",
      "1/1 [==============================] - 0s 18ms/step - loss: 4.0593e-06 - accuracy: 1.0000\n",
      "Epoch 448/500\n",
      "1/1 [==============================] - 0s 19ms/step - loss: 2.4590e-04 - accuracy: 1.0000\n",
      "Epoch 449/500\n",
      "1/1 [==============================] - 0s 23ms/step - loss: 2.9969e-05 - accuracy: 1.0000\n",
      "Epoch 450/500\n",
      "1/1 [==============================] - 0s 17ms/step - loss: 1.5703e-05 - accuracy: 1.0000\n",
      "Epoch 451/500\n",
      "1/1 [==============================] - 0s 19ms/step - loss: 4.6052e-06 - accuracy: 1.0000\n",
      "Epoch 452/500\n",
      "1/1 [==============================] - 0s 22ms/step - loss: 2.2086e-04 - accuracy: 1.0000\n",
      "Epoch 453/500\n",
      "1/1 [==============================] - 0s 17ms/step - loss: 2.5822e-04 - accuracy: 1.0000\n",
      "Epoch 454/500\n",
      "1/1 [==============================] - 0s 17ms/step - loss: 8.6582e-06 - accuracy: 1.0000\n",
      "Epoch 455/500\n",
      "1/1 [==============================] - 0s 20ms/step - loss: 5.4270e-06 - accuracy: 1.0000\n",
      "Epoch 456/500\n",
      "1/1 [==============================] - 0s 19ms/step - loss: 3.1583e-05 - accuracy: 1.0000\n",
      "Epoch 457/500\n",
      "1/1 [==============================] - 0s 20ms/step - loss: 4.9782e-05 - accuracy: 1.0000\n",
      "Epoch 458/500\n",
      "1/1 [==============================] - 0s 19ms/step - loss: 1.5162e-04 - accuracy: 1.0000\n",
      "Epoch 459/500\n",
      "1/1 [==============================] - 0s 20ms/step - loss: 2.9104e-04 - accuracy: 1.0000\n",
      "Epoch 460/500\n",
      "1/1 [==============================] - 0s 13ms/step - loss: 1.6990e-05 - accuracy: 1.0000\n",
      "Epoch 461/500\n",
      "1/1 [==============================] - 0s 17ms/step - loss: 6.2330e-05 - accuracy: 1.0000\n",
      "Epoch 462/500\n",
      "1/1 [==============================] - 0s 21ms/step - loss: 3.3604e-04 - accuracy: 1.0000\n",
      "Epoch 463/500\n",
      "1/1 [==============================] - 0s 19ms/step - loss: 2.0539e-05 - accuracy: 1.0000\n",
      "Epoch 464/500\n",
      "1/1 [==============================] - 0s 16ms/step - loss: 8.9361e-05 - accuracy: 1.0000\n",
      "Epoch 465/500\n",
      "1/1 [==============================] - 0s 22ms/step - loss: 4.5130e-05 - accuracy: 1.0000\n",
      "Epoch 466/500\n",
      "1/1 [==============================] - 0s 15ms/step - loss: 5.9573e-05 - accuracy: 1.0000\n",
      "Epoch 467/500\n",
      "1/1 [==============================] - 0s 18ms/step - loss: 1.2319e-04 - accuracy: 1.0000\n",
      "Epoch 468/500\n",
      "1/1 [==============================] - 0s 14ms/step - loss: 1.0967e-05 - accuracy: 1.0000\n",
      "Epoch 469/500\n",
      "1/1 [==============================] - 0s 17ms/step - loss: 2.0014e-06 - accuracy: 1.0000\n",
      "Epoch 470/500\n",
      "1/1 [==============================] - 0s 13ms/step - loss: 8.3194e-06 - accuracy: 1.0000\n",
      "Epoch 471/500\n",
      "1/1 [==============================] - 0s 16ms/step - loss: 4.9756e-05 - accuracy: 1.0000\n",
      "Epoch 472/500\n",
      "1/1 [==============================] - 0s 16ms/step - loss: 0.0011 - accuracy: 1.0000\n",
      "Epoch 473/500\n",
      "1/1 [==============================] - 0s 15ms/step - loss: 1.3991e-06 - accuracy: 1.0000\n",
      "Epoch 474/500\n",
      "1/1 [==============================] - 0s 17ms/step - loss: 4.3772e-05 - accuracy: 1.0000\n",
      "Epoch 475/500\n",
      "1/1 [==============================] - 0s 20ms/step - loss: 4.4094e-05 - accuracy: 1.0000\n",
      "Epoch 476/500\n",
      "1/1 [==============================] - 0s 19ms/step - loss: 3.4046e-05 - accuracy: 1.0000\n",
      "Epoch 477/500\n",
      "1/1 [==============================] - 0s 16ms/step - loss: 1.2651e-04 - accuracy: 1.0000\n",
      "Epoch 478/500\n",
      "1/1 [==============================] - 0s 15ms/step - loss: 3.1546e-04 - accuracy: 1.0000\n",
      "Epoch 479/500\n"
     ]
    },
    {
     "name": "stdout",
     "output_type": "stream",
     "text": [
      "1/1 [==============================] - 0s 18ms/step - loss: 2.7471e-05 - accuracy: 1.0000\n",
      "Epoch 480/500\n",
      "1/1 [==============================] - 0s 19ms/step - loss: 4.7470e-05 - accuracy: 1.0000\n",
      "Epoch 481/500\n",
      "1/1 [==============================] - 0s 19ms/step - loss: 1.0961e-04 - accuracy: 1.0000\n",
      "Epoch 482/500\n",
      "1/1 [==============================] - 0s 15ms/step - loss: 6.3452e-04 - accuracy: 1.0000\n",
      "Epoch 483/500\n",
      "1/1 [==============================] - 0s 17ms/step - loss: 2.5159e-06 - accuracy: 1.0000\n",
      "Epoch 484/500\n",
      "1/1 [==============================] - 0s 12ms/step - loss: 1.6418e-04 - accuracy: 1.0000\n",
      "Epoch 485/500\n",
      "1/1 [==============================] - 0s 17ms/step - loss: 1.0320e-05 - accuracy: 1.0000\n",
      "Epoch 486/500\n",
      "1/1 [==============================] - 0s 20ms/step - loss: 5.4511e-05 - accuracy: 1.0000\n",
      "Epoch 487/500\n",
      "1/1 [==============================] - 0s 15ms/step - loss: 0.0018 - accuracy: 1.0000\n",
      "Epoch 488/500\n",
      "1/1 [==============================] - 0s 17ms/step - loss: 6.5250e-06 - accuracy: 1.0000\n",
      "Epoch 489/500\n",
      "1/1 [==============================] - 0s 19ms/step - loss: 3.6276e-04 - accuracy: 1.0000\n",
      "Epoch 490/500\n",
      "1/1 [==============================] - 0s 21ms/step - loss: 1.3671e-05 - accuracy: 1.0000\n",
      "Epoch 491/500\n",
      "1/1 [==============================] - 0s 19ms/step - loss: 2.6540e-05 - accuracy: 1.0000\n",
      "Epoch 492/500\n",
      "1/1 [==============================] - 0s 21ms/step - loss: 4.9439e-06 - accuracy: 1.0000\n",
      "Epoch 493/500\n",
      "1/1 [==============================] - 0s 17ms/step - loss: 6.2995e-05 - accuracy: 1.0000\n",
      "Epoch 494/500\n",
      "1/1 [==============================] - 0s 17ms/step - loss: 2.5016e-05 - accuracy: 1.0000\n",
      "Epoch 495/500\n",
      "1/1 [==============================] - 0s 17ms/step - loss: 3.0041e-05 - accuracy: 1.0000\n",
      "Epoch 496/500\n",
      "1/1 [==============================] - 0s 16ms/step - loss: 4.7990e-05 - accuracy: 1.0000\n",
      "Epoch 497/500\n",
      "1/1 [==============================] - 0s 14ms/step - loss: 8.6581e-06 - accuracy: 1.0000\n",
      "Epoch 498/500\n",
      "1/1 [==============================] - 0s 10ms/step - loss: 3.3569e-05 - accuracy: 1.0000\n",
      "Epoch 499/500\n",
      "1/1 [==============================] - 0s 19ms/step - loss: 1.0540e-05 - accuracy: 1.0000\n",
      "Epoch 500/500\n",
      "1/1 [==============================] - 0s 18ms/step - loss: 1.0891e-04 - accuracy: 1.0000\n"
     ]
    },
    {
     "data": {
      "text/plain": [
       "<keras.src.callbacks.History at 0x2250c07f7c0>"
      ]
     },
     "execution_count": 80,
     "metadata": {},
     "output_type": "execute_result"
    }
   ],
   "source": [
    "model.fit(x=train_X, y=train_y, epochs=500, verbose=1)"
   ]
  },
  {
   "cell_type": "code",
   "execution_count": 81,
   "id": "3314fa4e",
   "metadata": {},
   "outputs": [],
   "source": [
    "def clean_text(text):\n",
    "    tokens=nltk.word_tokenize(text)\n",
    "    tokens=[lemmatizer.lemmatize(word) for word in tokens]\n",
    "    return tokens\n",
    "\n",
    "def bag_of_words(text,vocab):\n",
    "    tokens=clean_text(text)\n",
    "    bow=[0]*len(vocab)\n",
    "    for w in tokens:\n",
    "        for idx, word in enumerate(vocab):\n",
    "            if word==w:\n",
    "                bow[idx]=1\n",
    "    return np.array(bow)"
   ]
  },
  {
   "cell_type": "code",
   "execution_count": 82,
   "id": "13d450d9",
   "metadata": {},
   "outputs": [],
   "source": [
    "def pred_class(text, vocab,labels):\n",
    "    bow=bag_of_words(text, vocab)\n",
    "    result=model.predict(np.array([bow]))[0]\n",
    "    thresh=0.2\n",
    "    y_pred=[[idx,res] for idx, res in enumerate(result) if res>thresh]\n",
    "\n",
    "    y_pred.sort(key=lambda x:x[1], reverse=True)\n",
    "    return_list=[]\n",
    "    for r in y_pred:\n",
    "        return_list.append(labels[r[0]])\n",
    "    return return_list\n",
    "\n",
    "def get_response(intents_list, intents_json):\n",
    "    tag=intents_list[0]\n",
    "    list_of_intents=intents_json[\"intents\"]\n",
    "    for i in list_of_intents:\n",
    "        if i[\"tag\"]==tag:\n",
    "            result=random.choice(i[\"responses\"])\n",
    "            break\n",
    "    return result"
   ]
  },
  {
   "cell_type": "markdown",
   "id": "807e5a84",
   "metadata": {},
   "source": [
    "Running the chatbot"
   ]
  },
  {
   "cell_type": "code",
   "execution_count": 83,
   "id": "62e90948",
   "metadata": {},
   "outputs": [
    {
     "name": "stdout",
     "output_type": "stream",
     "text": [
      "hello\n",
      "1/1 [==============================] - 0s 371ms/step\n",
      "Hello\n",
      "what is your name\n",
      "1/1 [==============================] - 0s 54ms/step\n",
      "My name is Kippi\n",
      "goodbye\n",
      "1/1 [==============================] - 0s 79ms/step\n",
      "See you later\n"
     ]
    },
    {
     "ename": "KeyboardInterrupt",
     "evalue": "Interrupted by user",
     "output_type": "error",
     "traceback": [
      "\u001b[1;31m---------------------------------------------------------------------------\u001b[0m",
      "\u001b[1;31mKeyboardInterrupt\u001b[0m                         Traceback (most recent call last)",
      "Input \u001b[1;32mIn [83]\u001b[0m, in \u001b[0;36m<cell line: 2>\u001b[1;34m()\u001b[0m\n\u001b[0;32m      1\u001b[0m \u001b[38;5;28;01mwhile\u001b[39;00m \u001b[38;5;28;01mTrue\u001b[39;00m:\n\u001b[1;32m----> 2\u001b[0m     message\u001b[38;5;241m=\u001b[39m\u001b[38;5;28;43minput\u001b[39;49m\u001b[43m(\u001b[49m\u001b[38;5;124;43m\"\u001b[39;49m\u001b[38;5;124;43m\"\u001b[39;49m\u001b[43m)\u001b[49m\n\u001b[0;32m      3\u001b[0m     intents\u001b[38;5;241m=\u001b[39mpred_class(message, words, classes)\n\u001b[0;32m      4\u001b[0m     result\u001b[38;5;241m=\u001b[39mget_response(intents,data)\n",
      "File \u001b[1;32mC:\\ProgramData\\Anaconda3\\lib\\site-packages\\ipykernel\\kernelbase.py:1075\u001b[0m, in \u001b[0;36mKernel.raw_input\u001b[1;34m(self, prompt)\u001b[0m\n\u001b[0;32m   1071\u001b[0m \u001b[38;5;28;01mif\u001b[39;00m \u001b[38;5;129;01mnot\u001b[39;00m \u001b[38;5;28mself\u001b[39m\u001b[38;5;241m.\u001b[39m_allow_stdin:\n\u001b[0;32m   1072\u001b[0m     \u001b[38;5;28;01mraise\u001b[39;00m StdinNotImplementedError(\n\u001b[0;32m   1073\u001b[0m         \u001b[38;5;124m\"\u001b[39m\u001b[38;5;124mraw_input was called, but this frontend does not support input requests.\u001b[39m\u001b[38;5;124m\"\u001b[39m\n\u001b[0;32m   1074\u001b[0m     )\n\u001b[1;32m-> 1075\u001b[0m \u001b[38;5;28;01mreturn\u001b[39;00m \u001b[38;5;28;43mself\u001b[39;49m\u001b[38;5;241;43m.\u001b[39;49m\u001b[43m_input_request\u001b[49m\u001b[43m(\u001b[49m\n\u001b[0;32m   1076\u001b[0m \u001b[43m    \u001b[49m\u001b[38;5;28;43mstr\u001b[39;49m\u001b[43m(\u001b[49m\u001b[43mprompt\u001b[49m\u001b[43m)\u001b[49m\u001b[43m,\u001b[49m\n\u001b[0;32m   1077\u001b[0m \u001b[43m    \u001b[49m\u001b[38;5;28;43mself\u001b[39;49m\u001b[38;5;241;43m.\u001b[39;49m\u001b[43m_parent_ident\u001b[49m\u001b[43m[\u001b[49m\u001b[38;5;124;43m\"\u001b[39;49m\u001b[38;5;124;43mshell\u001b[39;49m\u001b[38;5;124;43m\"\u001b[39;49m\u001b[43m]\u001b[49m\u001b[43m,\u001b[49m\n\u001b[0;32m   1078\u001b[0m \u001b[43m    \u001b[49m\u001b[38;5;28;43mself\u001b[39;49m\u001b[38;5;241;43m.\u001b[39;49m\u001b[43mget_parent\u001b[49m\u001b[43m(\u001b[49m\u001b[38;5;124;43m\"\u001b[39;49m\u001b[38;5;124;43mshell\u001b[39;49m\u001b[38;5;124;43m\"\u001b[39;49m\u001b[43m)\u001b[49m\u001b[43m,\u001b[49m\n\u001b[0;32m   1079\u001b[0m \u001b[43m    \u001b[49m\u001b[43mpassword\u001b[49m\u001b[38;5;241;43m=\u001b[39;49m\u001b[38;5;28;43;01mFalse\u001b[39;49;00m\u001b[43m,\u001b[49m\n\u001b[0;32m   1080\u001b[0m \u001b[43m\u001b[49m\u001b[43m)\u001b[49m\n",
      "File \u001b[1;32mC:\\ProgramData\\Anaconda3\\lib\\site-packages\\ipykernel\\kernelbase.py:1120\u001b[0m, in \u001b[0;36mKernel._input_request\u001b[1;34m(self, prompt, ident, parent, password)\u001b[0m\n\u001b[0;32m   1117\u001b[0m             \u001b[38;5;28;01mbreak\u001b[39;00m\n\u001b[0;32m   1118\u001b[0m \u001b[38;5;28;01mexcept\u001b[39;00m \u001b[38;5;167;01mKeyboardInterrupt\u001b[39;00m:\n\u001b[0;32m   1119\u001b[0m     \u001b[38;5;66;03m# re-raise KeyboardInterrupt, to truncate traceback\u001b[39;00m\n\u001b[1;32m-> 1120\u001b[0m     \u001b[38;5;28;01mraise\u001b[39;00m \u001b[38;5;167;01mKeyboardInterrupt\u001b[39;00m(\u001b[38;5;124m\"\u001b[39m\u001b[38;5;124mInterrupted by user\u001b[39m\u001b[38;5;124m\"\u001b[39m) \u001b[38;5;28;01mfrom\u001b[39;00m \u001b[38;5;28;01mNone\u001b[39;00m\n\u001b[0;32m   1121\u001b[0m \u001b[38;5;28;01mexcept\u001b[39;00m \u001b[38;5;167;01mException\u001b[39;00m:\n\u001b[0;32m   1122\u001b[0m     \u001b[38;5;28mself\u001b[39m\u001b[38;5;241m.\u001b[39mlog\u001b[38;5;241m.\u001b[39mwarning(\u001b[38;5;124m\"\u001b[39m\u001b[38;5;124mInvalid Message:\u001b[39m\u001b[38;5;124m\"\u001b[39m, exc_info\u001b[38;5;241m=\u001b[39m\u001b[38;5;28;01mTrue\u001b[39;00m)\n",
      "\u001b[1;31mKeyboardInterrupt\u001b[0m: Interrupted by user"
     ]
    }
   ],
   "source": [
    "while True:\n",
    "    message=input(\"\")\n",
    "    intents=pred_class(message, words, classes)\n",
    "    result=get_response(intents,data)\n",
    "    print(result)"
   ]
  },
  {
   "cell_type": "code",
   "execution_count": null,
   "id": "1fec89f3",
   "metadata": {},
   "outputs": [],
   "source": []
  }
 ],
 "metadata": {
  "kernelspec": {
   "display_name": "Python 3 (ipykernel)",
   "language": "python",
   "name": "python3"
  },
  "language_info": {
   "codemirror_mode": {
    "name": "ipython",
    "version": 3
   },
   "file_extension": ".py",
   "mimetype": "text/x-python",
   "name": "python",
   "nbconvert_exporter": "python",
   "pygments_lexer": "ipython3",
   "version": "3.9.12"
  }
 },
 "nbformat": 4,
 "nbformat_minor": 5
}
