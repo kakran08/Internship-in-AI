{
 "cells": [
  {
   "cell_type": "markdown",
   "id": "d04c44d4",
   "metadata": {},
   "source": [
    "# Deep Learning Framework"
   ]
  },
  {
   "cell_type": "code",
   "execution_count": 6,
   "id": "16472abb",
   "metadata": {},
   "outputs": [],
   "source": [
    "# https://www.bing.com/images/search?view=detailV2&ccid=O0iwbD7U&id=4845535FA0CC6FDB641F56D51EC1E76AC515A340&thid=OIP.O0iwbD7ULb8KHCg2-qPy3gAAAA&mediaurl=https%3A%2F%2Fth.bing.com%2Fth%2Fid%2FR.3b48b06c3ed42dbf0a1c2836faa3f2de%3Frik%3DQKMVxWrnwR7VVg%26riu%3Dhttp%253a%252f%252fwhatsnext.nuance.com%252fwp-content%252fuploads%252fartificial-neural-network.png%26ehk%3DQnOcNgKLeonpoxX4Y99XcDExUrzY6ehxw35oXce1jHk%253d%26risl%3D%26pid%3DImgRaw%26r%3D0&exph=356&expw=296&q=neural+networks&simid=608046406034201783&form=IRPRST&ck=CB6FFFA2AF9C15FF127B7ED96860729F&selectedindex=0&ajaxhist=0&ajaxserp=0&pivotparams=insightsToken%3Dccid_kaxFfBnq*cp_9DBF928D8B4E0305140D8DBF1D787F34*mid_AD2EC9CA454FEBF1AA328BEBCEAB3C46A6BE94F3*simid_608034298438094607*thid_OIP.kaxFfBnq9MvXQQ!_b8alIxAHaI5&vt=0&sim=11&iss=VSI"
   ]
  },
  {
   "cell_type": "code",
   "execution_count": 7,
   "id": "374da275",
   "metadata": {},
   "outputs": [],
   "source": [
    "# https://www.bing.com/images/search?view=detailV2&ccid=GWa2CNAh&id=3EB02540780073ECB247DB6C886F098D06EFAE3D&thid=OIP.GWa2CNAhABt0I1DIryl49QHaET&mediaurl=https%3a%2f%2fi.stack.imgur.com%2fUrm63.png&exph=396&expw=682&q=perceptron&simid=608051946460438379&FORM=IRPRST&ck=65C07BDE20175D7132A58145966CE2C5&selectedIndex=1&ajaxhist=0&ajaxserp=0"
   ]
  },
  {
   "cell_type": "code",
   "execution_count": 8,
   "id": "81f88590",
   "metadata": {},
   "outputs": [],
   "source": [
    "# https://www.bing.com/images/search?view=detailV2&ccid=eT%2fHzPAM&id=7F83E0B85CA8696759BD3417A4036A2CF5833EBA&thid=OIP.eT_HzPAM0gpsqjirjbR48AHaEm&mediaurl=https%3a%2f%2fmiro.medium.com%2fmax%2f2010%2f1*QhPZ4yGFGdXklywNlAk0Wg.png&exph=624&expw=1005&q=gradient+descent+in+machine+learning&simid=608027374971214203&FORM=IRPRST&ck=D45A4E0A4D8BCAD2A28292FD14ECA175&selectedIndex=3&ajaxhist=0&ajaxserp=0"
   ]
  },
  {
   "cell_type": "markdown",
   "id": "35cea4f3",
   "metadata": {},
   "source": [
    "Deep Learning is a field within Machine Learning that deals with building and using Neural Network Models.\n",
    "\n",
    "Neural Networks mimic the functioning of a human brain.\n",
    "\n",
    "Neural Networks with more than three layers are typically categorised as Deep Learning Networks."
   ]
  },
  {
   "cell_type": "markdown",
   "id": "06b9a699",
   "metadata": {},
   "source": [
    "Perceptron\n",
    "\n",
    "The perceptron is the unit for learning in an artificial neural network, A perceptron resembles a human brain cell.\n",
    "\n",
    "A perceprton is a single cell or node in a neural network."
   ]
  },
  {
   "cell_type": "markdown",
   "id": "d545dd62",
   "metadata": {},
   "source": [
    "In Deep Learning we replace slope of model with weights called as w and intercept with the bias called as b.\n",
    "\n",
    "Weights and Biases become the parameters for a neural network.\n",
    "\n",
    "The number of weights equals the number of inputs/features."
   ]
  },
  {
   "cell_type": "markdown",
   "id": "47ec620b",
   "metadata": {},
   "source": [
    "# Artifical Neural Network"
   ]
  },
  {
   "cell_type": "markdown",
   "id": "6021ef2d",
   "metadata": {},
   "source": [
    "An ANN is a network of perceptrons. A deep neural network usually has three or more layers.\n",
    "\n",
    "Each node has its own weights, biases and activation function. Each node is connected to al the nodes in the next layer forming a dense network.\n",
    "\n",
    "Training an ANN means determining the right values for these parameters and hyperparameters such that it maximizes the accuracy of predictions for the given use case."
   ]
  },
  {
   "cell_type": "markdown",
   "id": "23459fe9",
   "metadata": {},
   "source": [
    "# Neural Network Architecture"
   ]
  },
  {
   "cell_type": "markdown",
   "id": "60e11ddf",
   "metadata": {},
   "source": [
    "Input Layer\n",
    "\n",
    "The input to Deep Learning model is usually a vector of Numeric values.\n",
    "\n",
    "Vectors are usually defined using NumPy arrays. It represents the feature variables or independent variables that are used for prediction as well as training."
   ]
  },
  {
   "cell_type": "markdown",
   "id": "4227da4b",
   "metadata": {},
   "source": [
    "Hidden Layer\n",
    "\n",
    "An ANN can have one or more hidden layers. The more the layers are the deep the network is.\n",
    "\n",
    "Each hidden layer can have one or more nodes. Typically, the node count is configured in range of 2^n. Examples are 8,16,32,64,128 etc.\n",
    "\n",
    "A neural network is defined by the number of layers and nodes.\n",
    "\n",
    "The output of each node in previous layer will become the inout for every node in the current layers.\n",
    "\n",
    "When there are more nodes and layers it usually results in better accuracy. As a general practice, start with small number and keep adding until an acceptable accuracy levels are obtained."
   ]
  },
  {
   "cell_type": "markdown",
   "id": "3f00a4e9",
   "metadata": {},
   "source": [
    "Weights and Biases\n",
    "\n",
    "They form the basis for Deep Leaarning Algorithms. Weights and Biases are trainable parameters in a neural network model.\n",
    "\n",
    "Each input for each node will have an associated weight with it."
   ]
  },
  {
   "cell_type": "markdown",
   "id": "d45491b0",
   "metadata": {},
   "source": [
    "Activation Functions\n",
    "\n",
    "An activation function plays an important role in creating the output of the node in the neural network.\n",
    "\n",
    "An activation function takes the matrix output of the node and determines if and how the node will propagate information to the next layer.\n",
    "\n",
    "The main objective of activation function is that it converts the output to a non-linear value. They serve as a critical step in helping a neural network learn specific patterns in the data.\n",
    "\n",
    "TanH- A TanH function normalizes the output in the range of (-1 to +1)\n",
    "\n",
    "ReLu- Rectified Linear Unit- A ReLu produces a zero if the output is negative. Else, it will produce the same input verbatim.\n",
    "\n",
    "Softmax Function- This is used in the case of classification problems. It produces a vector of probabilities for each of the possible classes in the outcomes. The class with the highest probability will be considered as the final class.\n",
    "\n",
    "These all activation functions are added as hyperparameters in the model."
   ]
  },
  {
   "cell_type": "markdown",
   "id": "2c289d38",
   "metadata": {},
   "source": [
    "Ouput Layer\n",
    "\n",
    "The output layer is the final layer in the neural network where desired predictions are obtained."
   ]
  },
  {
   "cell_type": "markdown",
   "id": "e3836d80",
   "metadata": {},
   "source": [
    "Training a Neural Network Model\n",
    "\n",
    "Set up and initialisation- Converting data into numeric vectors. Splitting data into training, validation and test sets.\n",
    "\n",
    "Forward Propagation- Movement from input to hidden layer and then output layer\n",
    "\n",
    "Measure Accuracy and Error\n",
    "\n",
    "Backpropagation- If error is high then it adjusts weights and biases by the process of gradient descent to improve accuracy.\n",
    "\n",
    "Gradient Descent is the process of repeating the forward and backward ropagation in order to reduce error and move closer to the desired model.\n",
    "\n",
    "Batches and Epochs- 10000/10 (1000)\n",
    "\n",
    "Validation and Testing"
   ]
  },
  {
   "cell_type": "markdown",
   "id": "dc6d0ad5",
   "metadata": {},
   "source": [
    "# Deep Learning Example- Iris Dataset"
   ]
  },
  {
   "cell_type": "code",
   "execution_count": 17,
   "id": "5d840761",
   "metadata": {},
   "outputs": [],
   "source": [
    "import pandas as pd\n",
    "import numpy as np\n",
    "import matplotlib.pyplot as plt\n",
    "import os\n",
    "import tensorflow as tf\n",
    "from sklearn.model_selection import train_test_split\n",
    "from sklearn.preprocessing import StandardScaler\n",
    "\n",
    "import warnings\n",
    "warnings.filterwarnings(\"ignore\")"
   ]
  },
  {
   "cell_type": "markdown",
   "id": "55646942",
   "metadata": {},
   "source": [
    "Prepare input data for deep learning\n",
    "\n",
    "Load data into pandas dataframe\n",
    "\n",
    "Convert the dataframe into anumy array\n",
    "\n",
    "Scale the feature dataset\n",
    "\n",
    "Use of onehot encoding for the target variable\n",
    "\n",
    "Split the dataset into training and test datasets."
   ]
  },
  {
   "cell_type": "markdown",
   "id": "1f14840e",
   "metadata": {},
   "source": [
    "Load Data and Review content"
   ]
  },
  {
   "cell_type": "code",
   "execution_count": 18,
   "id": "eb39dfae",
   "metadata": {},
   "outputs": [
    {
     "name": "stdout",
     "output_type": "stream",
     "text": [
      "   Sepal.Length  Sepal.Width  Petal.Length  Petal.Width Species\n",
      "0           5.1          3.5           1.4          0.2  setosa\n",
      "1           4.9          3.0           1.4          0.2  setosa\n",
      "2           4.7          3.2           1.3          0.2  setosa\n",
      "3           4.6          3.1           1.5          0.2  setosa\n",
      "4           5.0          3.6           1.4          0.2  setosa\n"
     ]
    }
   ],
   "source": [
    "iris_data=pd.read_csv(\"iris.csv\")\n",
    "print(iris_data.head())"
   ]
  },
  {
   "cell_type": "markdown",
   "id": "25764117",
   "metadata": {},
   "source": [
    "Use label encoder to convert String to Numeric values for the target variable"
   ]
  },
  {
   "cell_type": "code",
   "execution_count": 19,
   "id": "f097c4b4",
   "metadata": {},
   "outputs": [
    {
     "name": "stdout",
     "output_type": "stream",
     "text": [
      "   Sepal.Length  Sepal.Width  Petal.Length  Petal.Width  Species\n",
      "0           5.1          3.5           1.4          0.2        0\n",
      "1           4.9          3.0           1.4          0.2        0\n",
      "2           4.7          3.2           1.3          0.2        0\n",
      "3           4.6          3.1           1.5          0.2        0\n",
      "4           5.0          3.6           1.4          0.2        0\n"
     ]
    }
   ],
   "source": [
    "from sklearn.preprocessing import LabelEncoder\n",
    "\n",
    "label_encoder=LabelEncoder()\n",
    "\n",
    "iris_data['Species']=label_encoder.fit_transform(iris_data['Species'])\n",
    "\n",
    "print(iris_data.head())"
   ]
  },
  {
   "cell_type": "markdown",
   "id": "d4f75263",
   "metadata": {},
   "source": [
    "Converting input to numpy array"
   ]
  },
  {
   "cell_type": "code",
   "execution_count": 20,
   "id": "3c77232b",
   "metadata": {},
   "outputs": [
    {
     "name": "stdout",
     "output_type": "stream",
     "text": [
      "(150, 5)\n"
     ]
    }
   ],
   "source": [
    "np_iris=iris_data.to_numpy()\n",
    "\n",
    "print(np_iris.shape)"
   ]
  },
  {
   "cell_type": "markdown",
   "id": "68db81c3",
   "metadata": {},
   "source": [
    "Separate features and target variables"
   ]
  },
  {
   "cell_type": "code",
   "execution_count": 21,
   "id": "9bccfc97",
   "metadata": {},
   "outputs": [
    {
     "name": "stdout",
     "output_type": "stream",
     "text": [
      "\n",
      " Features before Scaling : \n",
      "------------------------\n",
      "[[5.1 3.5 1.4 0.2]\n",
      " [4.9 3.  1.4 0.2]\n",
      " [4.7 3.2 1.3 0.2]\n",
      " [4.6 3.1 1.5 0.2]\n",
      " [5.  3.6 1.4 0.2]]\n",
      "\n",
      "target before one-hot encoding: \n",
      "-------------------\n",
      "[0. 0. 0. 0. 0.]\n"
     ]
    }
   ],
   "source": [
    "X_data=np_iris[:,0:4]\n",
    "\n",
    "Y_data=np_iris[:,4]\n",
    "\n",
    "print(\"\\n Features before Scaling : \\n------------------------\")\n",
    "\n",
    "print(X_data[:5,:])\n",
    "\n",
    "print(\"\\ntarget before one-hot encoding: \\n-------------------\")\n",
    "\n",
    "print(Y_data[:5])"
   ]
  },
  {
   "cell_type": "markdown",
   "id": "e73ee7a7",
   "metadata": {},
   "source": [
    "Create a standard scaler object that if fit on the input data"
   ]
  },
  {
   "cell_type": "code",
   "execution_count": 22,
   "id": "8ddf545a",
   "metadata": {},
   "outputs": [
    {
     "name": "stdout",
     "output_type": "stream",
     "text": [
      "\n",
      " Features after Scaling : \n",
      "------------------------\n",
      "[[-0.90068117  1.01900435 -1.34022653 -1.3154443 ]\n",
      " [-1.14301691 -0.13197948 -1.34022653 -1.3154443 ]\n",
      " [-1.38535265  0.32841405 -1.39706395 -1.3154443 ]\n",
      " [-1.50652052  0.09821729 -1.2833891  -1.3154443 ]\n",
      " [-1.02184904  1.24920112 -1.34022653 -1.3154443 ]]\n",
      "\n",
      "target after one-hot encoding: \n",
      "-------------------\n",
      "[[1. 0. 0.]\n",
      " [1. 0. 0.]\n",
      " [1. 0. 0.]\n",
      " [1. 0. 0.]\n",
      " [1. 0. 0.]]\n"
     ]
    }
   ],
   "source": [
    "scaler=StandardScaler().fit(X_data)\n",
    "\n",
    "# scale the numeric feature variable\n",
    "X_data=scaler.transform(X_data)\n",
    "\n",
    "# convert target variable as a one-hot encoded array\n",
    "Y_data=tf.keras.utils.to_categorical(Y_data,3)\n",
    "\n",
    "print(\"\\n Features after Scaling : \\n------------------------\")\n",
    "\n",
    "print(X_data[:5,:])\n",
    "\n",
    "print(\"\\ntarget after one-hot encoding: \\n-------------------\")\n",
    "\n",
    "print(Y_data[:5])"
   ]
  },
  {
   "cell_type": "markdown",
   "id": "c987bab7",
   "metadata": {},
   "source": [
    "Splitting data into training and test sets"
   ]
  },
  {
   "cell_type": "code",
   "execution_count": 23,
   "id": "0c9cbe35",
   "metadata": {},
   "outputs": [
    {
     "name": "stdout",
     "output_type": "stream",
     "text": [
      "\n",
      " Train test Dimensions: \n",
      "--------------\n",
      "(135, 4) (15, 4) (135, 3) (15, 3)\n"
     ]
    }
   ],
   "source": [
    "X_train, X_test, Y_train, Y_test=train_test_split(X_data, Y_data, test_size=0.10)\n",
    "\n",
    "print(\"\\n Train test Dimensions: \\n--------------\")\n",
    "\n",
    "print(X_train.shape, X_test.shape, Y_train.shape, Y_test.shape)"
   ]
  },
  {
   "cell_type": "markdown",
   "id": "75a94990",
   "metadata": {},
   "source": [
    "Create a Model\n",
    "\n",
    "Number of hidden layers\n",
    "\n",
    "Number of nodes in each layer\n",
    "\n",
    "Activation functions\n",
    "\n",
    "Loss function and accuracy measurements."
   ]
  },
  {
   "cell_type": "code",
   "execution_count": 26,
   "id": "97ee7156",
   "metadata": {},
   "outputs": [
    {
     "name": "stdout",
     "output_type": "stream",
     "text": [
      "Model: \"sequential_2\"\n",
      "_________________________________________________________________\n",
      " Layer (type)                Output Shape              Param #   \n",
      "=================================================================\n",
      " Hidden-Layer-1 (Dense)      (None, 128)               640       \n",
      "                                                                 \n",
      " Hidden-Layer-2 (Dense)      (None, 128)               16512     \n",
      "                                                                 \n",
      " Output-Layer (Dense)        (None, 3)                 387       \n",
      "                                                                 \n",
      "=================================================================\n",
      "Total params: 17539 (68.51 KB)\n",
      "Trainable params: 17539 (68.51 KB)\n",
      "Non-trainable params: 0 (0.00 Byte)\n",
      "_________________________________________________________________\n"
     ]
    }
   ],
   "source": [
    "from tensorflow import keras\n",
    "\n",
    "# Number of classes in the target variable\n",
    "NB_CLASSES=3\n",
    "\n",
    "# Create a sequential model in keras\n",
    "model=tf.keras.models.Sequential()\n",
    "\n",
    "# add the first hidden layer\n",
    "model.add(keras.layers.Dense(128, # Number of nodes\n",
    "                            input_shape=(4,), # number of input variables\n",
    "                            name=\"Hidden-Layer-1\", # Logical name\n",
    "                            activation=\"relu\")) # activation function\n",
    "\n",
    "# add a second hidden layer\n",
    "model.add(keras.layers.Dense(128,\n",
    "                            name=\"Hidden-Layer-2\",\n",
    "                            activation=\"relu\"))\n",
    "\n",
    "# add an output layer with softmax function\n",
    "model.add(keras.layers.Dense(NB_CLASSES,\n",
    "                            name=\"Output-Layer\",\n",
    "                            activation=\"softmax\"))\n",
    "\n",
    "# compile the model with loss and metrics\n",
    "model.compile(loss=\"categorical_crossentropy\",\n",
    "             metrics=[\"accuracy\"])\n",
    "\n",
    "# print the model summary\n",
    "model.summary()"
   ]
  },
  {
   "cell_type": "markdown",
   "id": "a9247d22",
   "metadata": {},
   "source": [
    "Training and Evaluating the model"
   ]
  },
  {
   "cell_type": "code",
   "execution_count": 27,
   "id": "65c2f419",
   "metadata": {},
   "outputs": [
    {
     "name": "stdout",
     "output_type": "stream",
     "text": [
      "\n",
      "Training Progress: \n",
      "------------------\n",
      "Epoch 1/20\n",
      "WARNING:tensorflow:From C:\\Users\\Mohit Tripathi\\AppData\\Roaming\\Python\\Python39\\site-packages\\keras\\src\\utils\\tf_utils.py:492: The name tf.ragged.RaggedTensorValue is deprecated. Please use tf.compat.v1.ragged.RaggedTensorValue instead.\n",
      "\n",
      "WARNING:tensorflow:From C:\\Users\\Mohit Tripathi\\AppData\\Roaming\\Python\\Python39\\site-packages\\keras\\src\\engine\\base_layer_utils.py:384: The name tf.executing_eagerly_outside_functions is deprecated. Please use tf.compat.v1.executing_eagerly_outside_functions instead.\n",
      "\n",
      "7/7 [==============================] - 21s 749ms/step - loss: 0.8808 - accuracy: 0.6944 - val_loss: 0.7041 - val_accuracy: 0.7407\n",
      "Epoch 2/20\n",
      "7/7 [==============================] - 1s 88ms/step - loss: 0.5772 - accuracy: 0.8241 - val_loss: 0.5515 - val_accuracy: 0.8148\n",
      "Epoch 3/20\n",
      "7/7 [==============================] - 1s 99ms/step - loss: 0.4533 - accuracy: 0.8426 - val_loss: 0.4622 - val_accuracy: 0.8148\n",
      "Epoch 4/20\n",
      "7/7 [==============================] - 1s 92ms/step - loss: 0.3815 - accuracy: 0.8333 - val_loss: 0.4106 - val_accuracy: 0.8148\n",
      "Epoch 5/20\n",
      "7/7 [==============================] - 1s 83ms/step - loss: 0.3345 - accuracy: 0.8519 - val_loss: 0.3758 - val_accuracy: 0.8889\n",
      "Epoch 6/20\n",
      "7/7 [==============================] - 1s 155ms/step - loss: 0.2959 - accuracy: 0.8704 - val_loss: 0.3500 - val_accuracy: 0.8889\n",
      "Epoch 7/20\n",
      "7/7 [==============================] - 1s 140ms/step - loss: 0.2662 - accuracy: 0.8796 - val_loss: 0.3354 - val_accuracy: 0.8889\n",
      "Epoch 8/20\n",
      "7/7 [==============================] - 2s 294ms/step - loss: 0.2431 - accuracy: 0.9074 - val_loss: 0.3167 - val_accuracy: 0.9259\n",
      "Epoch 9/20\n",
      "7/7 [==============================] - 1s 243ms/step - loss: 0.2168 - accuracy: 0.9537 - val_loss: 0.2948 - val_accuracy: 0.8889\n",
      "Epoch 10/20\n",
      "7/7 [==============================] - 1s 157ms/step - loss: 0.1973 - accuracy: 0.9074 - val_loss: 0.2909 - val_accuracy: 0.8889\n",
      "Epoch 11/20\n",
      "7/7 [==============================] - 1s 108ms/step - loss: 0.1780 - accuracy: 0.9537 - val_loss: 0.2753 - val_accuracy: 0.8889\n",
      "Epoch 12/20\n",
      "7/7 [==============================] - 0s 62ms/step - loss: 0.1633 - accuracy: 0.9537 - val_loss: 0.2707 - val_accuracy: 0.8889\n",
      "Epoch 13/20\n",
      "7/7 [==============================] - 0s 45ms/step - loss: 0.1591 - accuracy: 0.9537 - val_loss: 0.2639 - val_accuracy: 0.8889\n",
      "Epoch 14/20\n",
      "7/7 [==============================] - 0s 42ms/step - loss: 0.1334 - accuracy: 0.9630 - val_loss: 0.2716 - val_accuracy: 0.9259\n",
      "Epoch 15/20\n",
      "7/7 [==============================] - 0s 29ms/step - loss: 0.1235 - accuracy: 0.9630 - val_loss: 0.2657 - val_accuracy: 0.8889\n",
      "Epoch 16/20\n",
      "7/7 [==============================] - 0s 28ms/step - loss: 0.1183 - accuracy: 0.9630 - val_loss: 0.2744 - val_accuracy: 0.9259\n",
      "Epoch 17/20\n",
      "7/7 [==============================] - 0s 30ms/step - loss: 0.1082 - accuracy: 0.9630 - val_loss: 0.2633 - val_accuracy: 0.9259\n",
      "Epoch 18/20\n",
      "7/7 [==============================] - 0s 30ms/step - loss: 0.0994 - accuracy: 0.9722 - val_loss: 0.2625 - val_accuracy: 0.9259\n",
      "Epoch 19/20\n",
      "7/7 [==============================] - 0s 29ms/step - loss: 0.0890 - accuracy: 0.9722 - val_loss: 0.2766 - val_accuracy: 0.8519\n",
      "Epoch 20/20\n",
      "7/7 [==============================] - 0s 27ms/step - loss: 0.0780 - accuracy: 0.9815 - val_loss: 0.3460 - val_accuracy: 0.8889\n"
     ]
    }
   ],
   "source": [
    "# Make it verbose so we can see the process\n",
    "VERBOSE=1\n",
    "\n",
    "# Set hyperparameters for training\n",
    "\n",
    "# Set batch size\n",
    "BATCH_SIZE=16\n",
    "\n",
    "# Set the number of epochs\n",
    "EPOCHS=20\n",
    "\n",
    "# Set the validation split. 20% of the training dataset will be used for validation\n",
    "VALIDATION_SPLIT=0.2\n",
    "\n",
    "print(\"\\nTraining Progress: \\n------------------\")\n",
    "\n",
    "# Fitting the model. This will perform the enitre training cycle, including forward propagation, loss computation,\n",
    "# backward propagation and gradient descent.\n",
    "\n",
    "history=model.fit(X_train,\n",
    "                  Y_train,\n",
    "                  batch_size=BATCH_SIZE,\n",
    "                  epochs=EPOCHS,\n",
    "                  verbose=VERBOSE,\n",
    "                  validation_split=VALIDATION_SPLIT)\n",
    "\n"
   ]
  },
  {
   "cell_type": "code",
   "execution_count": 28,
   "id": "3e8a080e",
   "metadata": {},
   "outputs": [
    {
     "name": "stdout",
     "output_type": "stream",
     "text": [
      "\n",
      "Accuracy During Training: \n",
      "-------------------------\n"
     ]
    },
    {
     "data": {
      "image/png": "[encoded data removed]",
      "text/plain": [
       "<Figure size 576x360 with 1 Axes>"
      ]
     },
     "metadata": {
      "needs_background": "light"
     },
     "output_type": "display_data"
    }
   ],
   "source": [
    "print(\"\\nAccuracy During Training: \\n-------------------------\")\n",
    "\n",
    "import matplotlib.pyplot as plt\n",
    "\n",
    "# Plot the accuracy of the model after each epoch\n",
    "\n",
    "pd.DataFrame(history.history)[\"accuracy\"].plot(figsize=(8,5))\n",
    "plt.title(\"Accuracy improvement after each epoch\")\n",
    "plt.show()"
   ]
  },
  {
   "cell_type": "markdown",
   "id": "fe1a762e",
   "metadata": {},
   "source": [
    "Evaluate the model against the test dataset and print the result"
   ]
  },
  {
   "cell_type": "code",
   "execution_count": 29,
   "id": "d0614e33",
   "metadata": {},
   "outputs": [
    {
     "name": "stdout",
     "output_type": "stream",
     "text": [
      "\n",
      "Evaluate against test dataset: \n",
      "--------------------------\n",
      "1/1 [==============================] - 0s 32ms/step - loss: 0.2347 - accuracy: 0.8667\n"
     ]
    },
    {
     "data": {
      "text/plain": [
       "[0.2347232699394226, 0.8666666746139526]"
      ]
     },
     "execution_count": 29,
     "metadata": {},
     "output_type": "execute_result"
    }
   ],
   "source": [
    "print(\"\\nEvaluate against test dataset: \\n--------------------------\")\n",
    "\n",
    "model.evaluate(X_test, Y_test)"
   ]
  },
  {
   "cell_type": "code",
   "execution_count": 30,
   "id": "629b6b8c",
   "metadata": {},
   "outputs": [
    {
     "name": "stderr",
     "output_type": "stream",
     "text": [
      "WARNING:absl:`Hidden-Layer-1_input` is not a valid tf.function parameter name. Sanitizing to `Hidden_Layer_1_input`.\n",
      "WARNING:absl:`Hidden-Layer-1_input` is not a valid tf.function parameter name. Sanitizing to `Hidden_Layer_1_input`.\n",
      "WARNING:absl:`Hidden-Layer-1_input` is not a valid tf.function parameter name. Sanitizing to `Hidden_Layer_1_input`.\n"
     ]
    },
    {
     "name": "stdout",
     "output_type": "stream",
     "text": [
      "INFO:tensorflow:Assets written to: iris_save\\assets\n"
     ]
    },
    {
     "name": "stderr",
     "output_type": "stream",
     "text": [
      "INFO:tensorflow:Assets written to: iris_save\\assets\n"
     ]
    },
    {
     "name": "stdout",
     "output_type": "stream",
     "text": [
      "WARNING:tensorflow:From C:\\Users\\Mohit Tripathi\\AppData\\Roaming\\Python\\Python39\\site-packages\\keras\\src\\saving\\legacy\\saved_model\\load.py:107: The name tf.gfile.Exists is deprecated. Please use tf.io.gfile.exists instead.\n",
      "\n"
     ]
    },
    {
     "name": "stderr",
     "output_type": "stream",
     "text": [
      "WARNING:tensorflow:From C:\\Users\\Mohit Tripathi\\AppData\\Roaming\\Python\\Python39\\site-packages\\keras\\src\\saving\\legacy\\saved_model\\load.py:107: The name tf.gfile.Exists is deprecated. Please use tf.io.gfile.exists instead.\n",
      "\n"
     ]
    },
    {
     "name": "stdout",
     "output_type": "stream",
     "text": [
      "Model: \"sequential_2\"\n",
      "_________________________________________________________________\n",
      " Layer (type)                Output Shape              Param #   \n",
      "=================================================================\n",
      " Hidden-Layer-1 (Dense)      (None, 128)               640       \n",
      "                                                                 \n",
      " Hidden-Layer-2 (Dense)      (None, 128)               16512     \n",
      "                                                                 \n",
      " Output-Layer (Dense)        (None, 3)                 387       \n",
      "                                                                 \n",
      "=================================================================\n",
      "Total params: 17539 (68.51 KB)\n",
      "Trainable params: 17539 (68.51 KB)\n",
      "Non-trainable params: 0 (0.00 Byte)\n",
      "_________________________________________________________________\n"
     ]
    }
   ],
   "source": [
    "# Saving a model\n",
    "model.save(\"iris_save\")\n",
    "\n",
    "#load the model\n",
    "loaded_model=keras.models.load_model(\"iris_save\")\n",
    "\n",
    "#print the model summary\n",
    "loaded_model.summary()"
   ]
  },
  {
   "cell_type": "markdown",
   "id": "dbb8df69",
   "metadata": {},
   "source": [
    "Predictions with Deep Learning Model"
   ]
  },
  {
   "cell_type": "code",
   "execution_count": 31,
   "id": "a8856882",
   "metadata": {},
   "outputs": [
    {
     "name": "stdout",
     "output_type": "stream",
     "text": [
      "1/1 [==============================] - 1s 1s/step\n",
      "Raw Prediction Output (Probabilities): [[4.6584982e-02 9.5341504e-01 7.7057860e-14]]\n",
      "Prediction is ['versicolor']\n"
     ]
    }
   ],
   "source": [
    "# raw prediction data\n",
    "prediction_input=[[2.6,12.,2.4,4.4]]\n",
    "\n",
    "# scale the prediction data with the same scaling object\n",
    "scaled_input=scaler.transform(prediction_input)\n",
    "\n",
    "# get the raw prediction probabilities\n",
    "raw_prediction=loaded_model.predict(scaled_input)\n",
    "print(\"Raw Prediction Output (Probabilities):\",raw_prediction)\n",
    "\n",
    "#Find Prediction\n",
    "prediction=np.argmax(raw_prediction)\n",
    "print(\"Prediction is\",label_encoder.inverse_transform([prediction]))"
   ]
  },
  {
   "cell_type": "markdown",
   "id": "a11031a7",
   "metadata": {},
   "source": [
    "# Convolutional Neural Network"
   ]
  },
  {
   "cell_type": "markdown",
   "id": "06722e11",
   "metadata": {},
   "source": [
    "A Convolutional Neural Network (CNN) is a type of artificial neural network that is used in image recognition and processing that is specifically designed to process pixel data."
   ]
  },
  {
   "cell_type": "markdown",
   "id": "7d10b9b5",
   "metadata": {},
   "source": [
    "# CNN Model on MNIST Dataset for written digit classification"
   ]
  },
  {
   "cell_type": "markdown",
   "id": "7200175d",
   "metadata": {},
   "source": [
    "MNIST Dataset is the handwritten numbers taken as images. All images are grey scale."
   ]
  },
  {
   "cell_type": "code",
   "execution_count": 32,
   "id": "164341b4",
   "metadata": {},
   "outputs": [],
   "source": [
    "from keras.datasets import mnist\n",
    "#from keras.preprocessing.image import load_img, array_to_img\n",
    "from tensorflow.keras.utils import to_categorical\n",
    "from keras.models import Sequential\n",
    "from keras.layers import Dense\n",
    "\n",
    "import numpy as np\n",
    "import matplotlib.pyplot as plt"
   ]
  },
  {
   "cell_type": "code",
   "execution_count": 33,
   "id": "8400e98e",
   "metadata": {},
   "outputs": [],
   "source": [
    "(X_train, y_train),(X_test, y_test)=mnist.load_data()"
   ]
  },
  {
   "cell_type": "code",
   "execution_count": 34,
   "id": "38fe1126",
   "metadata": {},
   "outputs": [
    {
     "name": "stdout",
     "output_type": "stream",
     "text": [
      "(60000, 28, 28)\n",
      "(60000,)\n",
      "(10000, 28, 28)\n",
      "(10000,)\n"
     ]
    }
   ],
   "source": [
    "print(X_train.shape)\n",
    "print(y_train.shape)\n",
    "print(X_test.shape)\n",
    "print(y_test.shape)"
   ]
  },
  {
   "cell_type": "code",
   "execution_count": 35,
   "id": "f6c30251",
   "metadata": {},
   "outputs": [
    {
     "data": {
      "text/plain": [
       "(28, 28)"
      ]
     },
     "execution_count": 35,
     "metadata": {},
     "output_type": "execute_result"
    }
   ],
   "source": [
    "X_train[0].shape"
   ]
  },
  {
   "cell_type": "code",
   "execution_count": 36,
   "id": "74d0c59b",
   "metadata": {},
   "outputs": [
    {
     "data": {
      "text/plain": [
       "<matplotlib.image.AxesImage at 0x16cd9d57dc0>"
      ]
     },
     "execution_count": 36,
     "metadata": {},
     "output_type": "execute_result"
    },
    {
     "data": {
      "image/png": "[encoded data removed]",
      "text/plain": [
       "<Figure size 432x288 with 1 Axes>"
      ]
     },
     "metadata": {
      "needs_background": "light"
     },
     "output_type": "display_data"
    }
   ],
   "source": [
    "plt.imshow(X_train[0],cmap=\"gray\")"
   ]
  },
  {
   "cell_type": "code",
   "execution_count": 37,
   "id": "f70131aa",
   "metadata": {},
   "outputs": [
    {
     "data": {
      "text/plain": [
       "5"
      ]
     },
     "execution_count": 37,
     "metadata": {},
     "output_type": "execute_result"
    }
   ],
   "source": [
    "y_train[0]"
   ]
  },
  {
   "cell_type": "markdown",
   "id": "620d3341",
   "metadata": {},
   "source": [
    "Preprocess the image data"
   ]
  },
  {
   "cell_type": "code",
   "execution_count": 38,
   "id": "0c488b6e",
   "metadata": {},
   "outputs": [],
   "source": [
    "image_height, image_width=28,28"
   ]
  },
  {
   "cell_type": "code",
   "execution_count": 39,
   "id": "419ec0e7",
   "metadata": {},
   "outputs": [
    {
     "name": "stdout",
     "output_type": "stream",
     "text": [
      "(60000, 784)\n",
      "(10000, 784)\n"
     ]
    }
   ],
   "source": [
    "X_train=X_train.reshape(60000, image_height*image_width)\n",
    "X_test=X_test.reshape(10000, image_height*image_width)\n",
    "\n",
    "print(X_train.shape)\n",
    "print(X_test.shape)"
   ]
  },
  {
   "cell_type": "code",
   "execution_count": 40,
   "id": "69f9ad48",
   "metadata": {},
   "outputs": [
    {
     "name": "stdout",
     "output_type": "stream",
     "text": [
      "[  0   0   0   0   0   0   0   0   0   0   0   0   0   0   0   0   0   0\n",
      "   0   0   0   0   0   0   0   0   0   0   0   0   0   0   0   0   0   0\n",
      "   0   0   0   0   0   0   0   0   0   0   0   0   0   0   0   0   0   0\n",
      "   0   0   0   0   0   0   0   0   0   0   0   0   0   0   0   0   0   0\n",
      "   0   0   0   0   0   0   0   0   0   0   0   0   0   0   0   0   0   0\n",
      "   0   0   0   0   0   0   0   0   0   0   0   0   0   0   0   0   0   0\n",
      "   0   0   0   0   0   0   0   0   0   0   0   0   0   0   0   0   0   0\n",
      "   0   0   0   0   0   0   0   0   0   0   0   0   0   0   0   0   0   0\n",
      "   0   0   0   0   0   0   0   0   3  18  18  18 126 136 175  26 166 255\n",
      " 247 127   0   0   0   0   0   0   0   0   0   0   0   0  30  36  94 154\n",
      " 170 253 253 253 253 253 225 172 253 242 195  64   0   0   0   0   0   0\n",
      "   0   0   0   0   0  49 238 253 253 253 253 253 253 253 253 251  93  82\n",
      "  82  56  39   0   0   0   0   0   0   0   0   0   0   0   0  18 219 253\n",
      " 253 253 253 253 198 182 247 241   0   0   0   0   0   0   0   0   0   0\n",
      "   0   0   0   0   0   0   0   0  80 156 107 253 253 205  11   0  43 154\n",
      "   0   0   0   0   0   0   0   0   0   0   0   0   0   0   0   0   0   0\n",
      "   0  14   1 154 253  90   0   0   0   0   0   0   0   0   0   0   0   0\n",
      "   0   0   0   0   0   0   0   0   0   0   0   0   0 139 253 190   2   0\n",
      "   0   0   0   0   0   0   0   0   0   0   0   0   0   0   0   0   0   0\n",
      "   0   0   0   0   0  11 190 253  70   0   0   0   0   0   0   0   0   0\n",
      "   0   0   0   0   0   0   0   0   0   0   0   0   0   0   0   0  35 241\n",
      " 225 160 108   1   0   0   0   0   0   0   0   0   0   0   0   0   0   0\n",
      "   0   0   0   0   0   0   0   0   0  81 240 253 253 119  25   0   0   0\n",
      "   0   0   0   0   0   0   0   0   0   0   0   0   0   0   0   0   0   0\n",
      "   0   0  45 186 253 253 150  27   0   0   0   0   0   0   0   0   0   0\n",
      "   0   0   0   0   0   0   0   0   0   0   0   0   0  16  93 252 253 187\n",
      "   0   0   0   0   0   0   0   0   0   0   0   0   0   0   0   0   0   0\n",
      "   0   0   0   0   0   0   0 249 253 249  64   0   0   0   0   0   0   0\n",
      "   0   0   0   0   0   0   0   0   0   0   0   0   0   0  46 130 183 253\n",
      " 253 207   2   0   0   0   0   0   0   0   0   0   0   0   0   0   0   0\n",
      "   0   0   0   0  39 148 229 253 253 253 250 182   0   0   0   0   0   0\n",
      "   0   0   0   0   0   0   0   0   0   0   0   0  24 114 221 253 253 253\n",
      " 253 201  78   0   0   0   0   0   0   0   0   0   0   0   0   0   0   0\n",
      "   0   0  23  66 213 253 253 253 253 198  81   2   0   0   0   0   0   0\n",
      "   0   0   0   0   0   0   0   0   0   0  18 171 219 253 253 253 253 195\n",
      "  80   9   0   0   0   0   0   0   0   0   0   0   0   0   0   0   0   0\n",
      "  55 172 226 253 253 253 253 244 133  11   0   0   0   0   0   0   0   0\n",
      "   0   0   0   0   0   0   0   0   0   0 136 253 253 253 212 135 132  16\n",
      "   0   0   0   0   0   0   0   0   0   0   0   0   0   0   0   0   0   0\n",
      "   0   0   0   0   0   0   0   0   0   0   0   0   0   0   0   0   0   0\n",
      "   0   0   0   0   0   0   0   0   0   0   0   0   0   0   0   0   0   0\n",
      "   0   0   0   0   0   0   0   0   0   0   0   0   0   0   0   0   0   0\n",
      "   0   0   0   0   0   0   0   0   0   0   0   0   0   0   0   0   0   0\n",
      "   0   0   0   0   0   0   0   0   0   0]\n"
     ]
    }
   ],
   "source": [
    "print(X_train[0])"
   ]
  },
  {
   "cell_type": "code",
   "execution_count": 43,
   "id": "bf6507c7",
   "metadata": {},
   "outputs": [],
   "source": [
    "X_train=X_train.astype('float32')\n",
    "X_test=X_test.astype('float32')"
   ]
  },
  {
   "cell_type": "code",
   "execution_count": 44,
   "id": "c1ed9252",
   "metadata": {},
   "outputs": [],
   "source": [
    "X_train/=255.0\n",
    "X_test/=255.0"
   ]
  },
  {
   "cell_type": "code",
   "execution_count": 45,
   "id": "04825287",
   "metadata": {},
   "outputs": [
    {
     "name": "stdout",
     "output_type": "stream",
     "text": [
      "[0.0000000e+00 0.0000000e+00 0.0000000e+00 0.0000000e+00 0.0000000e+00\n",
      " 0.0000000e+00 0.0000000e+00 0.0000000e+00 0.0000000e+00 0.0000000e+00\n",
      " 0.0000000e+00 0.0000000e+00 0.0000000e+00 0.0000000e+00 0.0000000e+00\n",
      " 0.0000000e+00 0.0000000e+00 0.0000000e+00 0.0000000e+00 0.0000000e+00\n",
      " 0.0000000e+00 0.0000000e+00 0.0000000e+00 0.0000000e+00 0.0000000e+00\n",
      " 0.0000000e+00 0.0000000e+00 0.0000000e+00 0.0000000e+00 0.0000000e+00\n",
      " 0.0000000e+00 0.0000000e+00 0.0000000e+00 0.0000000e+00 0.0000000e+00\n",
      " 0.0000000e+00 0.0000000e+00 0.0000000e+00 0.0000000e+00 0.0000000e+00\n",
      " 0.0000000e+00 0.0000000e+00 0.0000000e+00 0.0000000e+00 0.0000000e+00\n",
      " 0.0000000e+00 0.0000000e+00 0.0000000e+00 0.0000000e+00 0.0000000e+00\n",
      " 0.0000000e+00 0.0000000e+00 0.0000000e+00 0.0000000e+00 0.0000000e+00\n",
      " 0.0000000e+00 0.0000000e+00 0.0000000e+00 0.0000000e+00 0.0000000e+00\n",
      " 0.0000000e+00 0.0000000e+00 0.0000000e+00 0.0000000e+00 0.0000000e+00\n",
      " 0.0000000e+00 0.0000000e+00 0.0000000e+00 0.0000000e+00 0.0000000e+00\n",
      " 0.0000000e+00 0.0000000e+00 0.0000000e+00 0.0000000e+00 0.0000000e+00\n",
      " 0.0000000e+00 0.0000000e+00 0.0000000e+00 0.0000000e+00 0.0000000e+00\n",
      " 0.0000000e+00 0.0000000e+00 0.0000000e+00 0.0000000e+00 0.0000000e+00\n",
      " 0.0000000e+00 0.0000000e+00 0.0000000e+00 0.0000000e+00 0.0000000e+00\n",
      " 0.0000000e+00 0.0000000e+00 0.0000000e+00 0.0000000e+00 0.0000000e+00\n",
      " 0.0000000e+00 0.0000000e+00 0.0000000e+00 0.0000000e+00 0.0000000e+00\n",
      " 0.0000000e+00 0.0000000e+00 0.0000000e+00 0.0000000e+00 0.0000000e+00\n",
      " 0.0000000e+00 0.0000000e+00 0.0000000e+00 0.0000000e+00 0.0000000e+00\n",
      " 0.0000000e+00 0.0000000e+00 0.0000000e+00 0.0000000e+00 0.0000000e+00\n",
      " 0.0000000e+00 0.0000000e+00 0.0000000e+00 0.0000000e+00 0.0000000e+00\n",
      " 0.0000000e+00 0.0000000e+00 0.0000000e+00 0.0000000e+00 0.0000000e+00\n",
      " 0.0000000e+00 0.0000000e+00 0.0000000e+00 0.0000000e+00 0.0000000e+00\n",
      " 0.0000000e+00 0.0000000e+00 0.0000000e+00 0.0000000e+00 0.0000000e+00\n",
      " 0.0000000e+00 0.0000000e+00 0.0000000e+00 0.0000000e+00 0.0000000e+00\n",
      " 0.0000000e+00 0.0000000e+00 0.0000000e+00 0.0000000e+00 0.0000000e+00\n",
      " 0.0000000e+00 0.0000000e+00 0.0000000e+00 0.0000000e+00 0.0000000e+00\n",
      " 0.0000000e+00 0.0000000e+00 4.6136101e-05 2.7681663e-04 2.7681663e-04\n",
      " 2.7681663e-04 1.9377163e-03 2.0915035e-03 2.6912726e-03 3.9984621e-04\n",
      " 2.5528644e-03 3.9215689e-03 3.7985391e-03 1.9530950e-03 0.0000000e+00\n",
      " 0.0000000e+00 0.0000000e+00 0.0000000e+00 0.0000000e+00 0.0000000e+00\n",
      " 0.0000000e+00 0.0000000e+00 0.0000000e+00 0.0000000e+00 0.0000000e+00\n",
      " 0.0000000e+00 4.6136102e-04 5.5363326e-04 1.4455979e-03 2.3683200e-03\n",
      " 2.6143792e-03 3.8908112e-03 3.8908112e-03 3.8908112e-03 3.8908112e-03\n",
      " 3.8908112e-03 3.4602077e-03 2.6451366e-03 3.8908112e-03 3.7216456e-03\n",
      " 2.9988466e-03 9.8423695e-04 0.0000000e+00 0.0000000e+00 0.0000000e+00\n",
      " 0.0000000e+00 0.0000000e+00 0.0000000e+00 0.0000000e+00 0.0000000e+00\n",
      " 0.0000000e+00 0.0000000e+00 0.0000000e+00 7.5355632e-04 3.6601308e-03\n",
      " 3.8908112e-03 3.8908112e-03 3.8908112e-03 3.8908112e-03 3.8908112e-03\n",
      " 3.8908112e-03 3.8908112e-03 3.8908112e-03 3.8600538e-03 1.4302192e-03\n",
      " 1.2610535e-03 1.2610535e-03 8.6120726e-04 5.9976935e-04 0.0000000e+00\n",
      " 0.0000000e+00 0.0000000e+00 0.0000000e+00 0.0000000e+00 0.0000000e+00\n",
      " 0.0000000e+00 0.0000000e+00 0.0000000e+00 0.0000000e+00 0.0000000e+00\n",
      " 0.0000000e+00 2.7681663e-04 3.3679355e-03 3.8908112e-03 3.8908112e-03\n",
      " 3.8908112e-03 3.8908112e-03 3.8908112e-03 3.0449827e-03 2.7989235e-03\n",
      " 3.7985391e-03 3.7062669e-03 0.0000000e+00 0.0000000e+00 0.0000000e+00\n",
      " 0.0000000e+00 0.0000000e+00 0.0000000e+00 0.0000000e+00 0.0000000e+00\n",
      " 0.0000000e+00 0.0000000e+00 0.0000000e+00 0.0000000e+00 0.0000000e+00\n",
      " 0.0000000e+00 0.0000000e+00 0.0000000e+00 0.0000000e+00 0.0000000e+00\n",
      " 1.2302961e-03 2.3990774e-03 1.6455210e-03 3.8908112e-03 3.8908112e-03\n",
      " 3.1526336e-03 1.6916571e-04 0.0000000e+00 6.6128414e-04 2.3683200e-03\n",
      " 0.0000000e+00 0.0000000e+00 0.0000000e+00 0.0000000e+00 0.0000000e+00\n",
      " 0.0000000e+00 0.0000000e+00 0.0000000e+00 0.0000000e+00 0.0000000e+00\n",
      " 0.0000000e+00 0.0000000e+00 0.0000000e+00 0.0000000e+00 0.0000000e+00\n",
      " 0.0000000e+00 0.0000000e+00 0.0000000e+00 0.0000000e+00 2.1530181e-04\n",
      " 1.5378702e-05 2.3683200e-03 3.8908112e-03 1.3840831e-03 0.0000000e+00\n",
      " 0.0000000e+00 0.0000000e+00 0.0000000e+00 0.0000000e+00 0.0000000e+00\n",
      " 0.0000000e+00 0.0000000e+00 0.0000000e+00 0.0000000e+00 0.0000000e+00\n",
      " 0.0000000e+00 0.0000000e+00 0.0000000e+00 0.0000000e+00 0.0000000e+00\n",
      " 0.0000000e+00 0.0000000e+00 0.0000000e+00 0.0000000e+00 0.0000000e+00\n",
      " 0.0000000e+00 0.0000000e+00 0.0000000e+00 0.0000000e+00 2.1376396e-03\n",
      " 3.8908112e-03 2.9219531e-03 3.0757405e-05 0.0000000e+00 0.0000000e+00\n",
      " 0.0000000e+00 0.0000000e+00 0.0000000e+00 0.0000000e+00 0.0000000e+00\n",
      " 0.0000000e+00 0.0000000e+00 0.0000000e+00 0.0000000e+00 0.0000000e+00\n",
      " 0.0000000e+00 0.0000000e+00 0.0000000e+00 0.0000000e+00 0.0000000e+00\n",
      " 0.0000000e+00 0.0000000e+00 0.0000000e+00 0.0000000e+00 0.0000000e+00\n",
      " 0.0000000e+00 0.0000000e+00 1.6916571e-04 2.9219531e-03 3.8908112e-03\n",
      " 1.0765091e-03 0.0000000e+00 0.0000000e+00 0.0000000e+00 0.0000000e+00\n",
      " 0.0000000e+00 0.0000000e+00 0.0000000e+00 0.0000000e+00 0.0000000e+00\n",
      " 0.0000000e+00 0.0000000e+00 0.0000000e+00 0.0000000e+00 0.0000000e+00\n",
      " 0.0000000e+00 0.0000000e+00 0.0000000e+00 0.0000000e+00 0.0000000e+00\n",
      " 0.0000000e+00 0.0000000e+00 0.0000000e+00 0.0000000e+00 0.0000000e+00\n",
      " 0.0000000e+00 5.3825456e-04 3.7062669e-03 3.4602077e-03 2.4605922e-03\n",
      " 1.6608997e-03 1.5378702e-05 0.0000000e+00 0.0000000e+00 0.0000000e+00\n",
      " 0.0000000e+00 0.0000000e+00 0.0000000e+00 0.0000000e+00 0.0000000e+00\n",
      " 0.0000000e+00 0.0000000e+00 0.0000000e+00 0.0000000e+00 0.0000000e+00\n",
      " 0.0000000e+00 0.0000000e+00 0.0000000e+00 0.0000000e+00 0.0000000e+00\n",
      " 0.0000000e+00 0.0000000e+00 0.0000000e+00 0.0000000e+00 0.0000000e+00\n",
      " 1.2456748e-03 3.6908882e-03 3.8908112e-03 3.8908112e-03 1.8300654e-03\n",
      " 3.8446751e-04 0.0000000e+00 0.0000000e+00 0.0000000e+00 0.0000000e+00\n",
      " 0.0000000e+00 0.0000000e+00 0.0000000e+00 0.0000000e+00 0.0000000e+00\n",
      " 0.0000000e+00 0.0000000e+00 0.0000000e+00 0.0000000e+00 0.0000000e+00\n",
      " 0.0000000e+00 0.0000000e+00 0.0000000e+00 0.0000000e+00 0.0000000e+00\n",
      " 0.0000000e+00 0.0000000e+00 0.0000000e+00 0.0000000e+00 6.9204153e-04\n",
      " 2.8604383e-03 3.8908112e-03 3.8908112e-03 2.3068052e-03 4.1522493e-04\n",
      " 0.0000000e+00 0.0000000e+00 0.0000000e+00 0.0000000e+00 0.0000000e+00\n",
      " 0.0000000e+00 0.0000000e+00 0.0000000e+00 0.0000000e+00 0.0000000e+00\n",
      " 0.0000000e+00 0.0000000e+00 0.0000000e+00 0.0000000e+00 0.0000000e+00\n",
      " 0.0000000e+00 0.0000000e+00 0.0000000e+00 0.0000000e+00 0.0000000e+00\n",
      " 0.0000000e+00 0.0000000e+00 0.0000000e+00 2.4605924e-04 1.4302192e-03\n",
      " 3.8754325e-03 3.8908112e-03 2.8758170e-03 0.0000000e+00 0.0000000e+00\n",
      " 0.0000000e+00 0.0000000e+00 0.0000000e+00 0.0000000e+00 0.0000000e+00\n",
      " 0.0000000e+00 0.0000000e+00 0.0000000e+00 0.0000000e+00 0.0000000e+00\n",
      " 0.0000000e+00 0.0000000e+00 0.0000000e+00 0.0000000e+00 0.0000000e+00\n",
      " 0.0000000e+00 0.0000000e+00 0.0000000e+00 0.0000000e+00 0.0000000e+00\n",
      " 0.0000000e+00 0.0000000e+00 0.0000000e+00 3.8292964e-03 3.8908112e-03\n",
      " 3.8292964e-03 9.8423695e-04 0.0000000e+00 0.0000000e+00 0.0000000e+00\n",
      " 0.0000000e+00 0.0000000e+00 0.0000000e+00 0.0000000e+00 0.0000000e+00\n",
      " 0.0000000e+00 0.0000000e+00 0.0000000e+00 0.0000000e+00 0.0000000e+00\n",
      " 0.0000000e+00 0.0000000e+00 0.0000000e+00 0.0000000e+00 0.0000000e+00\n",
      " 0.0000000e+00 0.0000000e+00 0.0000000e+00 7.0742023e-04 1.9992313e-03\n",
      " 2.8143022e-03 3.8908112e-03 3.8908112e-03 3.1833909e-03 3.0757405e-05\n",
      " 0.0000000e+00 0.0000000e+00 0.0000000e+00 0.0000000e+00 0.0000000e+00\n",
      " 0.0000000e+00 0.0000000e+00 0.0000000e+00 0.0000000e+00 0.0000000e+00\n",
      " 0.0000000e+00 0.0000000e+00 0.0000000e+00 0.0000000e+00 0.0000000e+00\n",
      " 0.0000000e+00 0.0000000e+00 0.0000000e+00 0.0000000e+00 5.9976935e-04\n",
      " 2.2760478e-03 3.5217225e-03 3.8908112e-03 3.8908112e-03 3.8908112e-03\n",
      " 3.8446751e-03 2.7989235e-03 0.0000000e+00 0.0000000e+00 0.0000000e+00\n",
      " 0.0000000e+00 0.0000000e+00 0.0000000e+00 0.0000000e+00 0.0000000e+00\n",
      " 0.0000000e+00 0.0000000e+00 0.0000000e+00 0.0000000e+00 0.0000000e+00\n",
      " 0.0000000e+00 0.0000000e+00 0.0000000e+00 0.0000000e+00 0.0000000e+00\n",
      " 3.6908881e-04 1.7531719e-03 3.3986929e-03 3.8908112e-03 3.8908112e-03\n",
      " 3.8908112e-03 3.8908112e-03 3.0911188e-03 1.1995387e-03 0.0000000e+00\n",
      " 0.0000000e+00 0.0000000e+00 0.0000000e+00 0.0000000e+00 0.0000000e+00\n",
      " 0.0000000e+00 0.0000000e+00 0.0000000e+00 0.0000000e+00 0.0000000e+00\n",
      " 0.0000000e+00 0.0000000e+00 0.0000000e+00 0.0000000e+00 0.0000000e+00\n",
      " 0.0000000e+00 3.5371011e-04 1.0149943e-03 3.2756634e-03 3.8908112e-03\n",
      " 3.8908112e-03 3.8908112e-03 3.8908112e-03 3.0449827e-03 1.2456748e-03\n",
      " 3.0757405e-05 0.0000000e+00 0.0000000e+00 0.0000000e+00 0.0000000e+00\n",
      " 0.0000000e+00 0.0000000e+00 0.0000000e+00 0.0000000e+00 0.0000000e+00\n",
      " 0.0000000e+00 0.0000000e+00 0.0000000e+00 0.0000000e+00 0.0000000e+00\n",
      " 0.0000000e+00 0.0000000e+00 2.7681663e-04 2.6297579e-03 3.3679355e-03\n",
      " 3.8908112e-03 3.8908112e-03 3.8908112e-03 3.8908112e-03 2.9988466e-03\n",
      " 1.2302961e-03 1.3840832e-04 0.0000000e+00 0.0000000e+00 0.0000000e+00\n",
      " 0.0000000e+00 0.0000000e+00 0.0000000e+00 0.0000000e+00 0.0000000e+00\n",
      " 0.0000000e+00 0.0000000e+00 0.0000000e+00 0.0000000e+00 0.0000000e+00\n",
      " 0.0000000e+00 0.0000000e+00 0.0000000e+00 8.4582856e-04 2.6451366e-03\n",
      " 3.4755864e-03 3.8908112e-03 3.8908112e-03 3.8908112e-03 3.8908112e-03\n",
      " 3.7524030e-03 2.0453674e-03 1.6916571e-04 0.0000000e+00 0.0000000e+00\n",
      " 0.0000000e+00 0.0000000e+00 0.0000000e+00 0.0000000e+00 0.0000000e+00\n",
      " 0.0000000e+00 0.0000000e+00 0.0000000e+00 0.0000000e+00 0.0000000e+00\n",
      " 0.0000000e+00 0.0000000e+00 0.0000000e+00 0.0000000e+00 0.0000000e+00\n",
      " 0.0000000e+00 2.0915035e-03 3.8908112e-03 3.8908112e-03 3.8908112e-03\n",
      " 3.2602844e-03 2.0761248e-03 2.0299887e-03 2.4605924e-04 0.0000000e+00\n",
      " 0.0000000e+00 0.0000000e+00 0.0000000e+00 0.0000000e+00 0.0000000e+00\n",
      " 0.0000000e+00 0.0000000e+00 0.0000000e+00 0.0000000e+00 0.0000000e+00\n",
      " 0.0000000e+00 0.0000000e+00 0.0000000e+00 0.0000000e+00 0.0000000e+00\n",
      " 0.0000000e+00 0.0000000e+00 0.0000000e+00 0.0000000e+00 0.0000000e+00\n",
      " 0.0000000e+00 0.0000000e+00 0.0000000e+00 0.0000000e+00 0.0000000e+00\n",
      " 0.0000000e+00 0.0000000e+00 0.0000000e+00 0.0000000e+00 0.0000000e+00\n",
      " 0.0000000e+00 0.0000000e+00 0.0000000e+00 0.0000000e+00 0.0000000e+00\n",
      " 0.0000000e+00 0.0000000e+00 0.0000000e+00 0.0000000e+00 0.0000000e+00\n",
      " 0.0000000e+00 0.0000000e+00 0.0000000e+00 0.0000000e+00 0.0000000e+00\n",
      " 0.0000000e+00 0.0000000e+00 0.0000000e+00 0.0000000e+00 0.0000000e+00\n",
      " 0.0000000e+00 0.0000000e+00 0.0000000e+00 0.0000000e+00 0.0000000e+00\n",
      " 0.0000000e+00 0.0000000e+00 0.0000000e+00 0.0000000e+00 0.0000000e+00\n",
      " 0.0000000e+00 0.0000000e+00 0.0000000e+00 0.0000000e+00 0.0000000e+00\n",
      " 0.0000000e+00 0.0000000e+00 0.0000000e+00 0.0000000e+00 0.0000000e+00\n",
      " 0.0000000e+00 0.0000000e+00 0.0000000e+00 0.0000000e+00 0.0000000e+00\n",
      " 0.0000000e+00 0.0000000e+00 0.0000000e+00 0.0000000e+00 0.0000000e+00\n",
      " 0.0000000e+00 0.0000000e+00 0.0000000e+00 0.0000000e+00 0.0000000e+00\n",
      " 0.0000000e+00 0.0000000e+00 0.0000000e+00 0.0000000e+00 0.0000000e+00\n",
      " 0.0000000e+00 0.0000000e+00 0.0000000e+00 0.0000000e+00 0.0000000e+00\n",
      " 0.0000000e+00 0.0000000e+00 0.0000000e+00 0.0000000e+00]\n"
     ]
    }
   ],
   "source": [
    "print(X_train[0])"
   ]
  },
  {
   "cell_type": "code",
   "execution_count": 46,
   "id": "55e1ba34",
   "metadata": {},
   "outputs": [
    {
     "name": "stdout",
     "output_type": "stream",
     "text": [
      "(60000,)\n",
      "(10000,)\n"
     ]
    }
   ],
   "source": [
    "print(y_train.shape)\n",
    "print(y_test.shape)"
   ]
  },
  {
   "cell_type": "code",
   "execution_count": 47,
   "id": "79267d4c",
   "metadata": {},
   "outputs": [
    {
     "name": "stdout",
     "output_type": "stream",
     "text": [
      "(60000, 10)\n",
      "(10000, 10)\n"
     ]
    }
   ],
   "source": [
    "y_train=to_categorical(y_train,10)\n",
    "y_test=to_categorical(y_test,10)\n",
    "\n",
    "print(y_train.shape)\n",
    "print(y_test.shape)"
   ]
  },
  {
   "cell_type": "code",
   "execution_count": 48,
   "id": "1c910b1f",
   "metadata": {},
   "outputs": [
    {
     "data": {
      "text/plain": [
       "array([0., 0., 0., 0., 0., 1., 0., 0., 0., 0.], dtype=float32)"
      ]
     },
     "execution_count": 48,
     "metadata": {},
     "output_type": "execute_result"
    }
   ],
   "source": [
    "y_train[0]"
   ]
  },
  {
   "cell_type": "code",
   "execution_count": 49,
   "id": "692a2109",
   "metadata": {},
   "outputs": [],
   "source": [
    "model=Sequential()\n",
    "\n",
    "model.add(Dense(512, activation='relu',input_shape=(784,)))\n",
    "model.add(Dense(512,activation='relu'))\n",
    "model.add(Dense(10,activation=\"softmax\"))"
   ]
  },
  {
   "cell_type": "code",
   "execution_count": 50,
   "id": "692e0ecc",
   "metadata": {},
   "outputs": [
    {
     "name": "stdout",
     "output_type": "stream",
     "text": [
      "Model: \"sequential_3\"\n",
      "_________________________________________________________________\n",
      " Layer (type)                Output Shape              Param #   \n",
      "=================================================================\n",
      " dense (Dense)               (None, 512)               401920    \n",
      "                                                                 \n",
      " dense_1 (Dense)             (None, 512)               262656    \n",
      "                                                                 \n",
      " dense_2 (Dense)             (None, 10)                5130      \n",
      "                                                                 \n",
      "=================================================================\n",
      "Total params: 669706 (2.55 MB)\n",
      "Trainable params: 669706 (2.55 MB)\n",
      "Non-trainable params: 0 (0.00 Byte)\n",
      "_________________________________________________________________\n"
     ]
    }
   ],
   "source": [
    "model.compile(optimizer=\"adam\",loss='categorical_crossentropy',metrics=[\"accuracy\"])\n",
    "model.summary()"
   ]
  },
  {
   "cell_type": "code",
   "execution_count": 51,
   "id": "dc225e8d",
   "metadata": {},
   "outputs": [
    {
     "name": "stdout",
     "output_type": "stream",
     "text": [
      "Epoch 1/20\n",
      "1875/1875 [==============================] - 22s 10ms/step - loss: 0.5523 - accuracy: 0.8299 - val_loss: 0.3178 - val_accuracy: 0.9046\n",
      "Epoch 2/20\n",
      "1875/1875 [==============================] - 16s 8ms/step - loss: 0.2711 - accuracy: 0.9191 - val_loss: 0.2150 - val_accuracy: 0.9363\n",
      "Epoch 3/20\n",
      "1875/1875 [==============================] - 14s 8ms/step - loss: 0.1947 - accuracy: 0.9421 - val_loss: 0.1584 - val_accuracy: 0.9518\n",
      "Epoch 4/20\n",
      "1875/1875 [==============================] - 15s 8ms/step - loss: 0.1475 - accuracy: 0.9549 - val_loss: 0.1470 - val_accuracy: 0.9535\n",
      "Epoch 5/20\n",
      "1875/1875 [==============================] - 20s 11ms/step - loss: 0.1170 - accuracy: 0.9640 - val_loss: 0.1204 - val_accuracy: 0.9635\n",
      "Epoch 6/20\n",
      "1875/1875 [==============================] - 15s 8ms/step - loss: 0.0971 - accuracy: 0.9704 - val_loss: 0.1087 - val_accuracy: 0.9658\n",
      "Epoch 7/20\n",
      "1875/1875 [==============================] - 17s 9ms/step - loss: 0.0815 - accuracy: 0.9743 - val_loss: 0.0960 - val_accuracy: 0.9714\n",
      "Epoch 8/20\n",
      "1875/1875 [==============================] - 18s 9ms/step - loss: 0.0701 - accuracy: 0.9782 - val_loss: 0.0869 - val_accuracy: 0.9741\n",
      "Epoch 9/20\n",
      "1875/1875 [==============================] - 16s 8ms/step - loss: 0.0609 - accuracy: 0.9804 - val_loss: 0.0841 - val_accuracy: 0.9743\n",
      "Epoch 10/20\n",
      "1875/1875 [==============================] - 20s 11ms/step - loss: 0.0524 - accuracy: 0.9836 - val_loss: 0.0821 - val_accuracy: 0.9740\n",
      "Epoch 11/20\n",
      "1875/1875 [==============================] - 43s 23ms/step - loss: 0.0465 - accuracy: 0.9855 - val_loss: 0.0710 - val_accuracy: 0.9787\n",
      "Epoch 12/20\n",
      "1875/1875 [==============================] - 18s 9ms/step - loss: 0.0424 - accuracy: 0.9866 - val_loss: 0.0767 - val_accuracy: 0.9767\n",
      "Epoch 13/20\n",
      "1875/1875 [==============================] - 17s 9ms/step - loss: 0.0354 - accuracy: 0.9888 - val_loss: 0.0705 - val_accuracy: 0.9790\n",
      "Epoch 14/20\n",
      "1875/1875 [==============================] - 17s 9ms/step - loss: 0.0321 - accuracy: 0.9896 - val_loss: 0.0791 - val_accuracy: 0.9766\n",
      "Epoch 15/20\n",
      "1875/1875 [==============================] - 17s 9ms/step - loss: 0.0295 - accuracy: 0.9903 - val_loss: 0.0776 - val_accuracy: 0.9764\n",
      "Epoch 16/20\n",
      "1875/1875 [==============================] - 17s 9ms/step - loss: 0.0255 - accuracy: 0.9919 - val_loss: 0.0652 - val_accuracy: 0.9803\n",
      "Epoch 17/20\n",
      "1875/1875 [==============================] - 18s 10ms/step - loss: 0.0228 - accuracy: 0.9923 - val_loss: 0.0696 - val_accuracy: 0.9788\n",
      "Epoch 18/20\n",
      "1875/1875 [==============================] - 17s 9ms/step - loss: 0.0217 - accuracy: 0.9929 - val_loss: 0.0678 - val_accuracy: 0.9806\n",
      "Epoch 19/20\n",
      "1875/1875 [==============================] - 27s 14ms/step - loss: 0.0182 - accuracy: 0.9940 - val_loss: 0.0727 - val_accuracy: 0.9801\n",
      "Epoch 20/20\n",
      "1875/1875 [==============================] - 24s 13ms/step - loss: 0.0179 - accuracy: 0.9944 - val_loss: 0.0771 - val_accuracy: 0.9785\n"
     ]
    }
   ],
   "source": [
    "history= model.fit(X_train, y_train, epochs=20, validation_data=(X_test, y_test))"
   ]
  },
  {
   "cell_type": "code",
   "execution_count": 52,
   "id": "5894b6e0",
   "metadata": {},
   "outputs": [
    {
     "name": "stdout",
     "output_type": "stream",
     "text": [
      "313/313 [==============================] - 1s 4ms/step - loss: 0.0771 - accuracy: 0.9785\n"
     ]
    }
   ],
   "source": [
    "score= model.evaluate(X_test, y_test)"
   ]
  },
  {
   "cell_type": "markdown",
   "id": "10752d8e",
   "metadata": {},
   "source": [
    "In neural networks we only have fully connected layer, otherwise known as dense layer. With Convolutional neural networks, we have more operations such as the convolution operation, max pooling, flattening and also a fully connected layer."
   ]
  },
  {
   "cell_type": "code",
   "execution_count": 53,
   "id": "ccc9694a",
   "metadata": {},
   "outputs": [],
   "source": [
    "from keras.layers import Conv2D, MaxPooling2D,Flatten,Dense\n",
    "from keras.models import Sequential\n",
    "from keras.datasets import mnist\n",
    "from tensorflow.keras.utils import to_categorical"
   ]
  },
  {
   "cell_type": "code",
   "execution_count": 54,
   "id": "7b6f3f05",
   "metadata": {},
   "outputs": [],
   "source": [
    "(X_train, y_train),(X_test, y_test)=mnist.load_data()"
   ]
  },
  {
   "cell_type": "code",
   "execution_count": 55,
   "id": "77c228fb",
   "metadata": {},
   "outputs": [
    {
     "name": "stdout",
     "output_type": "stream",
     "text": [
      "(60000, 28, 28)\n",
      "(60000,)\n",
      "(10000, 28, 28)\n",
      "(10000,)\n"
     ]
    }
   ],
   "source": [
    "print(X_train.shape)\n",
    "print(y_train.shape)\n",
    "print(X_test.shape)\n",
    "print(y_test.shape)"
   ]
  },
  {
   "cell_type": "code",
   "execution_count": 56,
   "id": "1d18bdee",
   "metadata": {},
   "outputs": [],
   "source": [
    "X_train=X_train.reshape(60000,28,28,1)\n",
    "X_test=X_test.reshape(10000,28,28,1)"
   ]
  },
  {
   "cell_type": "code",
   "execution_count": 57,
   "id": "1ee57c49",
   "metadata": {},
   "outputs": [],
   "source": [
    "X_train=X_train.astype('float32')\n",
    "X_test=X_test.astype('float32')"
   ]
  },
  {
   "cell_type": "code",
   "execution_count": 58,
   "id": "ac9eaabf",
   "metadata": {},
   "outputs": [],
   "source": [
    "X_train/=255.0\n",
    "X_test/=255.0"
   ]
  },
  {
   "cell_type": "code",
   "execution_count": 59,
   "id": "3ffa02fc",
   "metadata": {},
   "outputs": [],
   "source": [
    "y_train=to_categorical(y_train,10)\n",
    "y_test=to_categorical(y_test,10)"
   ]
  },
  {
   "cell_type": "code",
   "execution_count": 60,
   "id": "376d2e2b",
   "metadata": {},
   "outputs": [
    {
     "name": "stdout",
     "output_type": "stream",
     "text": [
      "(60000, 28, 28, 1)\n",
      "(60000, 10)\n",
      "(10000, 28, 28, 1)\n",
      "(10000, 10)\n"
     ]
    }
   ],
   "source": [
    "print(X_train.shape)\n",
    "print(y_train.shape)\n",
    "print(X_test.shape)\n",
    "print(y_test.shape)"
   ]
  },
  {
   "cell_type": "markdown",
   "id": "e1fc3947",
   "metadata": {},
   "source": [
    "CNN Model Development"
   ]
  },
  {
   "cell_type": "code",
   "execution_count": 61,
   "id": "2b4192d2",
   "metadata": {},
   "outputs": [
    {
     "name": "stdout",
     "output_type": "stream",
     "text": [
      "WARNING:tensorflow:From C:\\Users\\Mohit Tripathi\\AppData\\Roaming\\Python\\Python39\\site-packages\\keras\\src\\layers\\pooling\\max_pooling2d.py:161: The name tf.nn.max_pool is deprecated. Please use tf.nn.max_pool2d instead.\n",
      "\n"
     ]
    },
    {
     "name": "stderr",
     "output_type": "stream",
     "text": [
      "WARNING:tensorflow:From C:\\Users\\Mohit Tripathi\\AppData\\Roaming\\Python\\Python39\\site-packages\\keras\\src\\layers\\pooling\\max_pooling2d.py:161: The name tf.nn.max_pool is deprecated. Please use tf.nn.max_pool2d instead.\n",
      "\n"
     ]
    },
    {
     "name": "stdout",
     "output_type": "stream",
     "text": [
      "Model: \"sequential_4\"\n",
      "_________________________________________________________________\n",
      " Layer (type)                Output Shape              Param #   \n",
      "=================================================================\n",
      " conv2d (Conv2D)             (None, 28, 28, 32)        320       \n",
      "                                                                 \n",
      " max_pooling2d (MaxPooling2  (None, 14, 14, 32)        0         \n",
      " D)                                                              \n",
      "                                                                 \n",
      " conv2d_1 (Conv2D)           (None, 14, 14, 32)        9248      \n",
      "                                                                 \n",
      " max_pooling2d_1 (MaxPoolin  (None, 7, 7, 32)          0         \n",
      " g2D)                                                            \n",
      "                                                                 \n",
      " flatten (Flatten)           (None, 1568)              0         \n",
      "                                                                 \n",
      " dense_3 (Dense)             (None, 64)                100416    \n",
      "                                                                 \n",
      " dense_4 (Dense)             (None, 10)                650       \n",
      "                                                                 \n",
      "=================================================================\n",
      "Total params: 110634 (432.16 KB)\n",
      "Trainable params: 110634 (432.16 KB)\n",
      "Non-trainable params: 0 (0.00 Byte)\n",
      "_________________________________________________________________\n",
      "None\n"
     ]
    }
   ],
   "source": [
    "cnn=Sequential()\n",
    "cnn.add(Conv2D(32, kernel_size=(3,3),input_shape=(28,28,1),padding='same',activation='relu'))\n",
    "cnn.add(MaxPooling2D())\n",
    "cnn.add(Conv2D(32,kernel_size=(3,3),padding='same',activation='relu'))\n",
    "cnn.add(MaxPooling2D())\n",
    "cnn.add(Flatten())\n",
    "cnn.add(Dense(64, activation='relu'))\n",
    "cnn.add(Dense(10,activation='softmax'))\n",
    "cnn.compile(optimizer='adam',loss='categorical_crossentropy',metrics=['accuracy'])\n",
    "print(cnn.summary())"
   ]
  },
  {
   "cell_type": "code",
   "execution_count": 63,
   "id": "e6def213",
   "metadata": {},
   "outputs": [
    {
     "name": "stdout",
     "output_type": "stream",
     "text": [
      "Epoch 1/20\n",
      "1875/1875 [==============================] - 30s 16ms/step - loss: 0.0839 - accuracy: 0.9739 - val_loss: 0.0493 - val_accuracy: 0.9856\n",
      "Epoch 2/20\n",
      "1875/1875 [==============================] - 29s 15ms/step - loss: 0.0456 - accuracy: 0.9862 - val_loss: 0.0380 - val_accuracy: 0.9881\n",
      "Epoch 3/20\n",
      "1875/1875 [==============================] - 34s 18ms/step - loss: 0.0329 - accuracy: 0.9898 - val_loss: 0.0287 - val_accuracy: 0.9902\n",
      "Epoch 4/20\n",
      "1875/1875 [==============================] - 31s 16ms/step - loss: 0.0248 - accuracy: 0.9919 - val_loss: 0.0213 - val_accuracy: 0.9933\n",
      "Epoch 5/20\n",
      "1875/1875 [==============================] - 31s 16ms/step - loss: 0.0188 - accuracy: 0.9940 - val_loss: 0.0126 - val_accuracy: 0.9961\n",
      "Epoch 6/20\n",
      "1875/1875 [==============================] - 33s 18ms/step - loss: 0.0156 - accuracy: 0.9949 - val_loss: 0.0139 - val_accuracy: 0.9955\n",
      "Epoch 7/20\n",
      "1875/1875 [==============================] - 34s 18ms/step - loss: 0.0126 - accuracy: 0.9955 - val_loss: 0.0198 - val_accuracy: 0.9930\n",
      "Epoch 8/20\n",
      "1875/1875 [==============================] - 37s 20ms/step - loss: 0.0109 - accuracy: 0.9964 - val_loss: 0.0053 - val_accuracy: 0.9981\n",
      "Epoch 9/20\n",
      "1875/1875 [==============================] - 36s 19ms/step - loss: 0.0081 - accuracy: 0.9974 - val_loss: 0.0053 - val_accuracy: 0.9982\n",
      "Epoch 10/20\n",
      "1875/1875 [==============================] - 34s 18ms/step - loss: 0.0081 - accuracy: 0.9972 - val_loss: 0.0053 - val_accuracy: 0.9982\n",
      "Epoch 11/20\n",
      "1875/1875 [==============================] - 38s 20ms/step - loss: 0.0070 - accuracy: 0.9976 - val_loss: 0.0073 - val_accuracy: 0.9976\n",
      "Epoch 12/20\n",
      "1875/1875 [==============================] - 31s 16ms/step - loss: 0.0061 - accuracy: 0.9979 - val_loss: 0.0075 - val_accuracy: 0.9976\n",
      "Epoch 13/20\n",
      "1875/1875 [==============================] - 30s 16ms/step - loss: 0.0054 - accuracy: 0.9982 - val_loss: 0.0035 - val_accuracy: 0.9988\n",
      "Epoch 14/20\n",
      "1875/1875 [==============================] - 27s 14ms/step - loss: 0.0055 - accuracy: 0.9981 - val_loss: 0.0016 - val_accuracy: 0.9996\n",
      "Epoch 15/20\n",
      "1875/1875 [==============================] - 26s 14ms/step - loss: 0.0050 - accuracy: 0.9983 - val_loss: 0.0047 - val_accuracy: 0.9983\n",
      "Epoch 16/20\n",
      "1875/1875 [==============================] - 27s 14ms/step - loss: 0.0042 - accuracy: 0.9985 - val_loss: 0.0062 - val_accuracy: 0.9979\n",
      "Epoch 17/20\n",
      "1875/1875 [==============================] - 30s 16ms/step - loss: 0.0047 - accuracy: 0.9985 - val_loss: 0.0023 - val_accuracy: 0.9993\n",
      "Epoch 18/20\n",
      "1875/1875 [==============================] - 28s 15ms/step - loss: 0.0038 - accuracy: 0.9988 - val_loss: 0.0131 - val_accuracy: 0.9962\n",
      "Epoch 19/20\n",
      "1875/1875 [==============================] - 28s 15ms/step - loss: 0.0041 - accuracy: 0.9987 - val_loss: 0.0044 - val_accuracy: 0.9987\n",
      "Epoch 20/20\n",
      "1875/1875 [==============================] - 29s 15ms/step - loss: 0.0042 - accuracy: 0.9987 - val_loss: 0.0035 - val_accuracy: 0.9988\n"
     ]
    }
   ],
   "source": [
    "history_cnn=cnn.fit(X_train, y_train, epochs=20, verbose=1, validation_data=(X_train, y_train))"
   ]
  },
  {
   "cell_type": "code",
   "execution_count": 64,
   "id": "0f446678",
   "metadata": {},
   "outputs": [
    {
     "data": {
      "text/plain": [
       "[<matplotlib.lines.Line2D at 0x16ce3d94dc0>]"
      ]
     },
     "execution_count": 64,
     "metadata": {},
     "output_type": "execute_result"
    },
    {
     "data": {
      "image/png": "[encoded data removed]",
      "text/plain": [
       "<Figure size 432x288 with 1 Axes>"
      ]
     },
     "metadata": {
      "needs_background": "light"
     },
     "output_type": "display_data"
    }
   ],
   "source": [
    "plt.plot(history_cnn.history['accuracy'])"
   ]
  },
  {
   "cell_type": "code",
   "execution_count": 65,
   "id": "54264918",
   "metadata": {},
   "outputs": [
    {
     "data": {
      "text/plain": [
       "[<matplotlib.lines.Line2D at 0x16ce3b3f190>]"
      ]
     },
     "execution_count": 65,
     "metadata": {},
     "output_type": "execute_result"
    },
    {
     "data": {
      "image/png": "[encoded data removed]",
      "text/plain": [
       "<Figure size 432x288 with 1 Axes>"
      ]
     },
     "metadata": {
      "needs_background": "light"
     },
     "output_type": "display_data"
    }
   ],
   "source": [
    "plt.plot(history_cnn.history['val_accuracy'])"
   ]
  },
  {
   "cell_type": "code",
   "execution_count": null,
   "id": "73db889f",
   "metadata": {},
   "outputs": [],
   "source": []
  }
 ],
 "metadata": {
  "kernelspec": {
   "display_name": "Python 3 (ipykernel)",
   "language": "python",
   "name": "python3"
  },
  "language_info": {
   "codemirror_mode": {
    "name": "ipython",
    "version": 3
   },
   "file_extension": ".py",
   "mimetype": "text/x-python",
   "name": "python",
   "nbconvert_exporter": "python",
   "pygments_lexer": "ipython3",
   "version": "3.9.12"
  }
 },
 "nbformat": 4,
 "nbformat_minor": 5
}
